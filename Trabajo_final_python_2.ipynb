{
  "nbformat": 4,
  "nbformat_minor": 0,
  "metadata": {
    "colab": {
      "name": "Trabajo final python 2.ipynb",
      "provenance": [],
      "collapsed_sections": [],
      "authorship_tag": "ABX9TyOkM5Yf472KkLwncLBmG1B9",
      "include_colab_link": true
    },
    "kernelspec": {
      "name": "python3",
      "display_name": "Python 3"
    },
    "language_info": {
      "name": "python"
    }
  },
  "cells": [
    {
      "cell_type": "markdown",
      "metadata": {
        "id": "view-in-github",
        "colab_type": "text"
      },
      "source": [
        "<a href=\"https://colab.research.google.com/github/Jacksonpardo/datos/blob/main/Trabajo_final_python_2.ipynb\" target=\"_parent\"><img src=\"https://colab.research.google.com/assets/colab-badge.svg\" alt=\"Open In Colab\"/></a>"
      ]
    },
    {
      "cell_type": "markdown",
      "source": [
        "##Data de maratón"
      ],
      "metadata": {
        "id": "4iDUsBEVsXWo"
      }
    },
    {
      "cell_type": "markdown",
      "source": [
        "<p>Arreglo de la data, es decir relleno con 0s y convierto de únicos datos cualitativos a únicos datos cuantitativos.</p>"
      ],
      "metadata": {
        "id": "UFvbE-hk7xbj"
      }
    },
    {
      "cell_type": "code",
      "source": [
        "\n",
        "import pandas as pd\n",
        "\n",
        "datos_maraton=pd.read_csv('https://raw.githubusercontent.com/Jacksonpardo/datos/main/MarathonData.csv')\n",
        "#display(datos_maraton)\n",
        "datos_maraton['Wall21'] = pd.to_numeric(datos_maraton['Wall21'],errors='coerce')\n",
        "\n",
        "#Elimino las columnas innecesarias\n",
        "datos_maraton = datos_maraton.drop(columns=['Name'])\n",
        "datos_maraton = datos_maraton.drop(columns=['id'])\n",
        "datos_maraton = datos_maraton.drop(columns=['Marathon'])\n",
        "datos_maraton = datos_maraton.drop(columns=['CATEGORY'])\n",
        "\n",
        "#Relleno con 0s los espacios en blancoy elimino los que no\n",
        "datos_maraton[\"CrossTraining\"] = datos_maraton[\"CrossTraining\"].fillna(0)\n",
        "#datos_maraton = datos_maraton.dropna(how='any')\n",
        "\n",
        "datos_maraton[\"Category\"] = datos_maraton[\"Category\"].fillna(0)\n",
        "#datos_maraton = datos_maraton.dropna(how='any')\n",
        "\n",
        "datos_maraton[\"Wall21\"] = datos_maraton[\"Wall21\"].fillna(0)\n",
        "#datos_maraton = datos_maraton.dropna(how='any')\n",
        "\n",
        "#Doy valores a únicos datos\n",
        "valores_cross = {\"CrossTraining\":  {'ciclista 1h':1, 'ciclista 3h':2, 'ciclista 4h':3, 'ciclista 5h':4, 'ciclista 13h':5}}\n",
        "datos_maraton.replace(valores_cross, inplace=True)\n",
        "\n",
        "valores_categoria = {\"Category\":  {'MAM':1, 'M45':2, 'M40':3, 'M50':4, 'M55':5,'WAM':6}}\n",
        "datos_maraton.replace(valores_categoria, inplace=True)\n",
        "display(datos_maraton.head(87))\n"
      ],
      "metadata": {
        "colab": {
          "base_uri": "https://localhost:8080/",
          "height": 423
        },
        "id": "Or48BP_fxR3k",
        "outputId": "a7e4706c-9feb-4dfe-c46d-126c8e45842f"
      },
      "execution_count": null,
      "outputs": [
        {
          "output_type": "display_data",
          "data": {
            "text/html": [
              "\n",
              "  <div id=\"df-c87b380a-5293-41f1-994c-53ecf4a7bc41\">\n",
              "    <div class=\"colab-df-container\">\n",
              "      <div>\n",
              "<style scoped>\n",
              "    .dataframe tbody tr th:only-of-type {\n",
              "        vertical-align: middle;\n",
              "    }\n",
              "\n",
              "    .dataframe tbody tr th {\n",
              "        vertical-align: top;\n",
              "    }\n",
              "\n",
              "    .dataframe thead th {\n",
              "        text-align: right;\n",
              "    }\n",
              "</style>\n",
              "<table border=\"1\" class=\"dataframe\">\n",
              "  <thead>\n",
              "    <tr style=\"text-align: right;\">\n",
              "      <th></th>\n",
              "      <th>Category</th>\n",
              "      <th>km4week</th>\n",
              "      <th>sp4week</th>\n",
              "      <th>CrossTraining</th>\n",
              "      <th>Wall21</th>\n",
              "      <th>MarathonTime</th>\n",
              "    </tr>\n",
              "  </thead>\n",
              "  <tbody>\n",
              "    <tr>\n",
              "      <th>0</th>\n",
              "      <td>1</td>\n",
              "      <td>132.8</td>\n",
              "      <td>14.434783</td>\n",
              "      <td>0</td>\n",
              "      <td>1.16</td>\n",
              "      <td>2.37</td>\n",
              "    </tr>\n",
              "    <tr>\n",
              "      <th>1</th>\n",
              "      <td>1</td>\n",
              "      <td>68.6</td>\n",
              "      <td>13.674419</td>\n",
              "      <td>0</td>\n",
              "      <td>1.23</td>\n",
              "      <td>2.59</td>\n",
              "    </tr>\n",
              "    <tr>\n",
              "      <th>2</th>\n",
              "      <td>1</td>\n",
              "      <td>82.7</td>\n",
              "      <td>13.520436</td>\n",
              "      <td>0</td>\n",
              "      <td>1.30</td>\n",
              "      <td>2.66</td>\n",
              "    </tr>\n",
              "    <tr>\n",
              "      <th>3</th>\n",
              "      <td>2</td>\n",
              "      <td>137.5</td>\n",
              "      <td>12.258544</td>\n",
              "      <td>0</td>\n",
              "      <td>1.32</td>\n",
              "      <td>2.68</td>\n",
              "    </tr>\n",
              "    <tr>\n",
              "      <th>4</th>\n",
              "      <td>1</td>\n",
              "      <td>84.6</td>\n",
              "      <td>13.945055</td>\n",
              "      <td>0</td>\n",
              "      <td>1.36</td>\n",
              "      <td>2.74</td>\n",
              "    </tr>\n",
              "    <tr>\n",
              "      <th>...</th>\n",
              "      <td>...</td>\n",
              "      <td>...</td>\n",
              "      <td>...</td>\n",
              "      <td>...</td>\n",
              "      <td>...</td>\n",
              "      <td>...</td>\n",
              "    </tr>\n",
              "    <tr>\n",
              "      <th>82</th>\n",
              "      <td>5</td>\n",
              "      <td>50.0</td>\n",
              "      <td>10.830325</td>\n",
              "      <td>0</td>\n",
              "      <td>2.02</td>\n",
              "      <td>3.93</td>\n",
              "    </tr>\n",
              "    <tr>\n",
              "      <th>83</th>\n",
              "      <td>3</td>\n",
              "      <td>33.6</td>\n",
              "      <td>10.130653</td>\n",
              "      <td>2</td>\n",
              "      <td>1.94</td>\n",
              "      <td>3.93</td>\n",
              "    </tr>\n",
              "    <tr>\n",
              "      <th>84</th>\n",
              "      <td>3</td>\n",
              "      <td>55.4</td>\n",
              "      <td>11.043189</td>\n",
              "      <td>0</td>\n",
              "      <td>1.94</td>\n",
              "      <td>3.94</td>\n",
              "    </tr>\n",
              "    <tr>\n",
              "      <th>85</th>\n",
              "      <td>2</td>\n",
              "      <td>33.2</td>\n",
              "      <td>11.066667</td>\n",
              "      <td>0</td>\n",
              "      <td>2.05</td>\n",
              "      <td>3.95</td>\n",
              "    </tr>\n",
              "    <tr>\n",
              "      <th>86</th>\n",
              "      <td>3</td>\n",
              "      <td>17.9</td>\n",
              "      <td>10.848485</td>\n",
              "      <td>4</td>\n",
              "      <td>2.05</td>\n",
              "      <td>3.98</td>\n",
              "    </tr>\n",
              "  </tbody>\n",
              "</table>\n",
              "<p>87 rows × 6 columns</p>\n",
              "</div>\n",
              "      <button class=\"colab-df-convert\" onclick=\"convertToInteractive('df-c87b380a-5293-41f1-994c-53ecf4a7bc41')\"\n",
              "              title=\"Convert this dataframe to an interactive table.\"\n",
              "              style=\"display:none;\">\n",
              "        \n",
              "  <svg xmlns=\"http://www.w3.org/2000/svg\" height=\"24px\"viewBox=\"0 0 24 24\"\n",
              "       width=\"24px\">\n",
              "    <path d=\"M0 0h24v24H0V0z\" fill=\"none\"/>\n",
              "    <path d=\"M18.56 5.44l.94 2.06.94-2.06 2.06-.94-2.06-.94-.94-2.06-.94 2.06-2.06.94zm-11 1L8.5 8.5l.94-2.06 2.06-.94-2.06-.94L8.5 2.5l-.94 2.06-2.06.94zm10 10l.94 2.06.94-2.06 2.06-.94-2.06-.94-.94-2.06-.94 2.06-2.06.94z\"/><path d=\"M17.41 7.96l-1.37-1.37c-.4-.4-.92-.59-1.43-.59-.52 0-1.04.2-1.43.59L10.3 9.45l-7.72 7.72c-.78.78-.78 2.05 0 2.83L4 21.41c.39.39.9.59 1.41.59.51 0 1.02-.2 1.41-.59l7.78-7.78 2.81-2.81c.8-.78.8-2.07 0-2.86zM5.41 20L4 18.59l7.72-7.72 1.47 1.35L5.41 20z\"/>\n",
              "  </svg>\n",
              "      </button>\n",
              "      \n",
              "  <style>\n",
              "    .colab-df-container {\n",
              "      display:flex;\n",
              "      flex-wrap:wrap;\n",
              "      gap: 12px;\n",
              "    }\n",
              "\n",
              "    .colab-df-convert {\n",
              "      background-color: #E8F0FE;\n",
              "      border: none;\n",
              "      border-radius: 50%;\n",
              "      cursor: pointer;\n",
              "      display: none;\n",
              "      fill: #1967D2;\n",
              "      height: 32px;\n",
              "      padding: 0 0 0 0;\n",
              "      width: 32px;\n",
              "    }\n",
              "\n",
              "    .colab-df-convert:hover {\n",
              "      background-color: #E2EBFA;\n",
              "      box-shadow: 0px 1px 2px rgba(60, 64, 67, 0.3), 0px 1px 3px 1px rgba(60, 64, 67, 0.15);\n",
              "      fill: #174EA6;\n",
              "    }\n",
              "\n",
              "    [theme=dark] .colab-df-convert {\n",
              "      background-color: #3B4455;\n",
              "      fill: #D2E3FC;\n",
              "    }\n",
              "\n",
              "    [theme=dark] .colab-df-convert:hover {\n",
              "      background-color: #434B5C;\n",
              "      box-shadow: 0px 1px 3px 1px rgba(0, 0, 0, 0.15);\n",
              "      filter: drop-shadow(0px 1px 2px rgba(0, 0, 0, 0.3));\n",
              "      fill: #FFFFFF;\n",
              "    }\n",
              "  </style>\n",
              "\n",
              "      <script>\n",
              "        const buttonEl =\n",
              "          document.querySelector('#df-c87b380a-5293-41f1-994c-53ecf4a7bc41 button.colab-df-convert');\n",
              "        buttonEl.style.display =\n",
              "          google.colab.kernel.accessAllowed ? 'block' : 'none';\n",
              "\n",
              "        async function convertToInteractive(key) {\n",
              "          const element = document.querySelector('#df-c87b380a-5293-41f1-994c-53ecf4a7bc41');\n",
              "          const dataTable =\n",
              "            await google.colab.kernel.invokeFunction('convertToInteractive',\n",
              "                                                     [key], {});\n",
              "          if (!dataTable) return;\n",
              "\n",
              "          const docLinkHtml = 'Like what you see? Visit the ' +\n",
              "            '<a target=\"_blank\" href=https://colab.research.google.com/notebooks/data_table.ipynb>data table notebook</a>'\n",
              "            + ' to learn more about interactive tables.';\n",
              "          element.innerHTML = '';\n",
              "          dataTable['output_type'] = 'display_data';\n",
              "          await google.colab.output.renderOutput(dataTable, element);\n",
              "          const docLink = document.createElement('div');\n",
              "          docLink.innerHTML = docLinkHtml;\n",
              "          element.appendChild(docLink);\n",
              "        }\n",
              "      </script>\n",
              "    </div>\n",
              "  </div>\n",
              "  "
            ],
            "text/plain": [
              "    Category  km4week    sp4week  CrossTraining  Wall21  MarathonTime\n",
              "0          1    132.8  14.434783              0    1.16          2.37\n",
              "1          1     68.6  13.674419              0    1.23          2.59\n",
              "2          1     82.7  13.520436              0    1.30          2.66\n",
              "3          2    137.5  12.258544              0    1.32          2.68\n",
              "4          1     84.6  13.945055              0    1.36          2.74\n",
              "..       ...      ...        ...            ...     ...           ...\n",
              "82         5     50.0  10.830325              0    2.02          3.93\n",
              "83         3     33.6  10.130653              2    1.94          3.93\n",
              "84         3     55.4  11.043189              0    1.94          3.94\n",
              "85         2     33.2  11.066667              0    2.05          3.95\n",
              "86         3     17.9  10.848485              4    2.05          3.98\n",
              "\n",
              "[87 rows x 6 columns]"
            ]
          },
          "metadata": {}
        }
      ]
    },
    {
      "cell_type": "markdown",
      "source": [
        "##Gráficas"
      ],
      "metadata": {
        "id": "rKRgUD0erpIf"
      }
    },
    {
      "cell_type": "markdown",
      "source": [
        "####Comparando 2 variabales"
      ],
      "metadata": {
        "id": "lxIjIT1d-13q"
      }
    },
    {
      "cell_type": "code",
      "source": [
        "import matplotlib.pyplot as plt\n",
        "plt.scatter(x = datos_maraton['km4week'], y=datos_maraton['MarathonTime'])\n",
        "plt.title('km4week Vs Marathon Time')\n",
        "plt.xlabel('km4week')\n",
        "plt.ylabel('Marathon Time')\n",
        "plt.show()"
      ],
      "metadata": {
        "colab": {
          "base_uri": "https://localhost:8080/",
          "height": 295
        },
        "id": "JrxejQg--XUd",
        "outputId": "349d91b2-b8a5-44a3-e4ee-519d827e1043"
      },
      "execution_count": null,
      "outputs": [
        {
          "output_type": "display_data",
          "data": {
            "image/png": "[encoded data removed]",
            "text/plain": [
              "<Figure size 432x288 with 1 Axes>"
            ]
          },
          "metadata": {
            "needs_background": "light"
          }
        }
      ]
    },
    {
      "cell_type": "code",
      "source": [
        "plt.scatter(x = datos_maraton['Wall21'], y=datos_maraton['MarathonTime'])\n",
        "plt.title('Wall21 Vs Marathon Time')\n",
        "plt.xlabel('Wall21')\n",
        "plt.ylabel('Marathon Time')\n",
        "plt.show()"
      ],
      "metadata": {
        "colab": {
          "base_uri": "https://localhost:8080/",
          "height": 295
        },
        "id": "3Eq3gRFL-aH0",
        "outputId": "f5fc5024-c217-4393-dde8-e2579454a1f9"
      },
      "execution_count": null,
      "outputs": [
        {
          "output_type": "display_data",
          "data": {
            "image/png": "[encoded data removed]",
            "text/plain": [
              "<Figure size 432x288 with 1 Axes>"
            ]
          },
          "metadata": {
            "needs_background": "light"
          }
        }
      ]
    },
    {
      "cell_type": "markdown",
      "source": [
        "####De dispersión"
      ],
      "metadata": {
        "id": "-TcUjsmj1R7l"
      }
    },
    {
      "cell_type": "code",
      "source": [
        "import pandas as pd\n",
        "import plotly.express as px\n",
        "import matplotlib.pyplot as plt\n",
        "import numpy as np\n",
        "\n",
        "\n",
        "px.scatter(x= list(datos_maraton['km4week']), y = list(datos_maraton['MarathonTime']), color_discrete_sequence  = ['rgb(255,0,0)'])"
      ],
      "metadata": {
        "colab": {
          "base_uri": "https://localhost:8080/",
          "height": 542
        },
        "id": "trlTHHMMvS9q",
        "outputId": "1cb3a905-f8cb-48fa-c549-b7371ad3f343"
      },
      "execution_count": null,
      "outputs": [
        {
          "output_type": "display_data",
          "data": {
            "text/html": [
              "<html>\n",
              "<head><meta charset=\"utf-8\" /></head>\n",
              "<body>\n",
              "    <div>            <script src=\"https://cdnjs.cloudflare.com/ajax/libs/mathjax/2.7.5/MathJax.js?config=TeX-AMS-MML_SVG\"></script><script type=\"text/javascript\">if (window.MathJax) {MathJax.Hub.Config({SVG: {font: \"STIX-Web\"}});}</script>                <script type=\"text/javascript\">window.PlotlyConfig = {MathJaxConfig: 'local'};</script>\n",
              "        <script src=\"https://cdn.plot.ly/plotly-2.8.3.min.js\"></script>                <div id=\"e582d184-ef9c-4d72-b70d-0161eeaf75ff\" class=\"plotly-graph-div\" style=\"height:525px; width:100%;\"></div>            <script type=\"text/javascript\">                                    window.PLOTLYENV=window.PLOTLYENV || {};                                    if (document.getElementById(\"e582d184-ef9c-4d72-b70d-0161eeaf75ff\")) {                    Plotly.newPlot(                        \"e582d184-ef9c-4d72-b70d-0161eeaf75ff\",                        [{\"hovertemplate\":\"x=%{x}<br>y=%{y}<extra></extra>\",\"legendgroup\":\"\",\"marker\":{\"color\":\"rgb(255,0,0)\",\"symbol\":\"circle\"},\"mode\":\"markers\",\"name\":\"\",\"orientation\":\"v\",\"showlegend\":false,\"x\":[132.8,68.6,82.7,137.5,84.6,42.2,89.0,106.0,70.0,84.2,93.5,65.7,53.5,84.4,76.8,76.1,112.3,49.7,84.5,76.7,94.5,67.3,59.4,66.1,67.4,23.8,129.6,82.4,51.6,104.9,52.5,79.4,65.6,112.4,112.2,50.1,50.1,52.1,64.7,69.2,61.3,58.8,82.7,32.2,27.7,68.0,48.6,39.6,60.1,78.2,50.3,70.7,121.7,51.1,70.7,26.9,56.2,36.3,22.7,45.2,43.2,54.1,48.8,20.7,54.2,60.3,48.5,34.3,59.1,41.6,87.0,24.2,52.3,53.6,66.7,23.9,40.3,30.6,28.0,53.9,38.1,35.6,50.0,33.6,55.4,33.2,17.9],\"xaxis\":\"x\",\"y\":[2.37,2.59,2.66,2.68,2.74,2.78,2.81,2.84,2.83,2.86,2.87,2.87,2.88,2.88,2.89,2.9,2.91,2.91,2.93,2.94,2.99,3.04,3.05,3.09,3.1,3.11,3.12,3.14,3.15,3.16,3.19,3.19,3.21,3.21,3.22,3.22,3.23,3.24,3.24,3.25,3.28,3.28,3.32,3.32,3.32,3.33,3.33,3.35,3.36,3.39,3.4,3.45,3.46,3.47,3.47,3.5,3.5,3.51,3.52,3.52,3.55,3.55,3.56,3.56,3.59,3.62,3.64,3.64,3.65,3.67,3.68,3.69,3.69,3.75,3.76,3.78,3.8,3.87,3.89,3.9,3.9,3.92,3.93,3.93,3.94,3.95,3.98],\"yaxis\":\"y\",\"type\":\"scatter\"}],                        {\"template\":{\"data\":{\"bar\":[{\"error_x\":{\"color\":\"#2a3f5f\"},\"error_y\":{\"color\":\"#2a3f5f\"},\"marker\":{\"line\":{\"color\":\"#E5ECF6\",\"width\":0.5},\"pattern\":{\"fillmode\":\"overlay\",\"size\":10,\"solidity\":0.2}},\"type\":\"bar\"}],\"barpolar\":[{\"marker\":{\"line\":{\"color\":\"#E5ECF6\",\"width\":0.5},\"pattern\":{\"fillmode\":\"overlay\",\"size\":10,\"solidity\":0.2}},\"type\":\"barpolar\"}],\"carpet\":[{\"aaxis\":{\"endlinecolor\":\"#2a3f5f\",\"gridcolor\":\"white\",\"linecolor\":\"white\",\"minorgridcolor\":\"white\",\"startlinecolor\":\"#2a3f5f\"},\"baxis\":{\"endlinecolor\":\"#2a3f5f\",\"gridcolor\":\"white\",\"linecolor\":\"white\",\"minorgridcolor\":\"white\",\"startlinecolor\":\"#2a3f5f\"},\"type\":\"carpet\"}],\"choropleth\":[{\"colorbar\":{\"outlinewidth\":0,\"ticks\":\"\"},\"type\":\"choropleth\"}],\"contour\":[{\"colorbar\":{\"outlinewidth\":0,\"ticks\":\"\"},\"colorscale\":[[0.0,\"#0d0887\"],[0.1111111111111111,\"#46039f\"],[0.2222222222222222,\"#7201a8\"],[0.3333333333333333,\"#9c179e\"],[0.4444444444444444,\"#bd3786\"],[0.5555555555555556,\"#d8576b\"],[0.6666666666666666,\"#ed7953\"],[0.7777777777777778,\"#fb9f3a\"],[0.8888888888888888,\"#fdca26\"],[1.0,\"#f0f921\"]],\"type\":\"contour\"}],\"contourcarpet\":[{\"colorbar\":{\"outlinewidth\":0,\"ticks\":\"\"},\"type\":\"contourcarpet\"}],\"heatmap\":[{\"colorbar\":{\"outlinewidth\":0,\"ticks\":\"\"},\"colorscale\":[[0.0,\"#0d0887\"],[0.1111111111111111,\"#46039f\"],[0.2222222222222222,\"#7201a8\"],[0.3333333333333333,\"#9c179e\"],[0.4444444444444444,\"#bd3786\"],[0.5555555555555556,\"#d8576b\"],[0.6666666666666666,\"#ed7953\"],[0.7777777777777778,\"#fb9f3a\"],[0.8888888888888888,\"#fdca26\"],[1.0,\"#f0f921\"]],\"type\":\"heatmap\"}],\"heatmapgl\":[{\"colorbar\":{\"outlinewidth\":0,\"ticks\":\"\"},\"colorscale\":[[0.0,\"#0d0887\"],[0.1111111111111111,\"#46039f\"],[0.2222222222222222,\"#7201a8\"],[0.3333333333333333,\"#9c179e\"],[0.4444444444444444,\"#bd3786\"],[0.5555555555555556,\"#d8576b\"],[0.6666666666666666,\"#ed7953\"],[0.7777777777777778,\"#fb9f3a\"],[0.8888888888888888,\"#fdca26\"],[1.0,\"#f0f921\"]],\"type\":\"heatmapgl\"}],\"histogram\":[{\"marker\":{\"pattern\":{\"fillmode\":\"overlay\",\"size\":10,\"solidity\":0.2}},\"type\":\"histogram\"}],\"histogram2d\":[{\"colorbar\":{\"outlinewidth\":0,\"ticks\":\"\"},\"colorscale\":[[0.0,\"#0d0887\"],[0.1111111111111111,\"#46039f\"],[0.2222222222222222,\"#7201a8\"],[0.3333333333333333,\"#9c179e\"],[0.4444444444444444,\"#bd3786\"],[0.5555555555555556,\"#d8576b\"],[0.6666666666666666,\"#ed7953\"],[0.7777777777777778,\"#fb9f3a\"],[0.8888888888888888,\"#fdca26\"],[1.0,\"#f0f921\"]],\"type\":\"histogram2d\"}],\"histogram2dcontour\":[{\"colorbar\":{\"outlinewidth\":0,\"ticks\":\"\"},\"colorscale\":[[0.0,\"#0d0887\"],[0.1111111111111111,\"#46039f\"],[0.2222222222222222,\"#7201a8\"],[0.3333333333333333,\"#9c179e\"],[0.4444444444444444,\"#bd3786\"],[0.5555555555555556,\"#d8576b\"],[0.6666666666666666,\"#ed7953\"],[0.7777777777777778,\"#fb9f3a\"],[0.8888888888888888,\"#fdca26\"],[1.0,\"#f0f921\"]],\"type\":\"histogram2dcontour\"}],\"mesh3d\":[{\"colorbar\":{\"outlinewidth\":0,\"ticks\":\"\"},\"type\":\"mesh3d\"}],\"parcoords\":[{\"line\":{\"colorbar\":{\"outlinewidth\":0,\"ticks\":\"\"}},\"type\":\"parcoords\"}],\"pie\":[{\"automargin\":true,\"type\":\"pie\"}],\"scatter\":[{\"marker\":{\"colorbar\":{\"outlinewidth\":0,\"ticks\":\"\"}},\"type\":\"scatter\"}],\"scatter3d\":[{\"line\":{\"colorbar\":{\"outlinewidth\":0,\"ticks\":\"\"}},\"marker\":{\"colorbar\":{\"outlinewidth\":0,\"ticks\":\"\"}},\"type\":\"scatter3d\"}],\"scattercarpet\":[{\"marker\":{\"colorbar\":{\"outlinewidth\":0,\"ticks\":\"\"}},\"type\":\"scattercarpet\"}],\"scattergeo\":[{\"marker\":{\"colorbar\":{\"outlinewidth\":0,\"ticks\":\"\"}},\"type\":\"scattergeo\"}],\"scattergl\":[{\"marker\":{\"colorbar\":{\"outlinewidth\":0,\"ticks\":\"\"}},\"type\":\"scattergl\"}],\"scattermapbox\":[{\"marker\":{\"colorbar\":{\"outlinewidth\":0,\"ticks\":\"\"}},\"type\":\"scattermapbox\"}],\"scatterpolar\":[{\"marker\":{\"colorbar\":{\"outlinewidth\":0,\"ticks\":\"\"}},\"type\":\"scatterpolar\"}],\"scatterpolargl\":[{\"marker\":{\"colorbar\":{\"outlinewidth\":0,\"ticks\":\"\"}},\"type\":\"scatterpolargl\"}],\"scatterternary\":[{\"marker\":{\"colorbar\":{\"outlinewidth\":0,\"ticks\":\"\"}},\"type\":\"scatterternary\"}],\"surface\":[{\"colorbar\":{\"outlinewidth\":0,\"ticks\":\"\"},\"colorscale\":[[0.0,\"#0d0887\"],[0.1111111111111111,\"#46039f\"],[0.2222222222222222,\"#7201a8\"],[0.3333333333333333,\"#9c179e\"],[0.4444444444444444,\"#bd3786\"],[0.5555555555555556,\"#d8576b\"],[0.6666666666666666,\"#ed7953\"],[0.7777777777777778,\"#fb9f3a\"],[0.8888888888888888,\"#fdca26\"],[1.0,\"#f0f921\"]],\"type\":\"surface\"}],\"table\":[{\"cells\":{\"fill\":{\"color\":\"#EBF0F8\"},\"line\":{\"color\":\"white\"}},\"header\":{\"fill\":{\"color\":\"#C8D4E3\"},\"line\":{\"color\":\"white\"}},\"type\":\"table\"}]},\"layout\":{\"annotationdefaults\":{\"arrowcolor\":\"#2a3f5f\",\"arrowhead\":0,\"arrowwidth\":1},\"autotypenumbers\":\"strict\",\"coloraxis\":{\"colorbar\":{\"outlinewidth\":0,\"ticks\":\"\"}},\"colorscale\":{\"diverging\":[[0,\"#8e0152\"],[0.1,\"#c51b7d\"],[0.2,\"#de77ae\"],[0.3,\"#f1b6da\"],[0.4,\"#fde0ef\"],[0.5,\"#f7f7f7\"],[0.6,\"#e6f5d0\"],[0.7,\"#b8e186\"],[0.8,\"#7fbc41\"],[0.9,\"#4d9221\"],[1,\"#276419\"]],\"sequential\":[[0.0,\"#0d0887\"],[0.1111111111111111,\"#46039f\"],[0.2222222222222222,\"#7201a8\"],[0.3333333333333333,\"#9c179e\"],[0.4444444444444444,\"#bd3786\"],[0.5555555555555556,\"#d8576b\"],[0.6666666666666666,\"#ed7953\"],[0.7777777777777778,\"#fb9f3a\"],[0.8888888888888888,\"#fdca26\"],[1.0,\"#f0f921\"]],\"sequentialminus\":[[0.0,\"#0d0887\"],[0.1111111111111111,\"#46039f\"],[0.2222222222222222,\"#7201a8\"],[0.3333333333333333,\"#9c179e\"],[0.4444444444444444,\"#bd3786\"],[0.5555555555555556,\"#d8576b\"],[0.6666666666666666,\"#ed7953\"],[0.7777777777777778,\"#fb9f3a\"],[0.8888888888888888,\"#fdca26\"],[1.0,\"#f0f921\"]]},\"colorway\":[\"#636efa\",\"#EF553B\",\"#00cc96\",\"#ab63fa\",\"#FFA15A\",\"#19d3f3\",\"#FF6692\",\"#B6E880\",\"#FF97FF\",\"#FECB52\"],\"font\":{\"color\":\"#2a3f5f\"},\"geo\":{\"bgcolor\":\"white\",\"lakecolor\":\"white\",\"landcolor\":\"#E5ECF6\",\"showlakes\":true,\"showland\":true,\"subunitcolor\":\"white\"},\"hoverlabel\":{\"align\":\"left\"},\"hovermode\":\"closest\",\"mapbox\":{\"style\":\"light\"},\"paper_bgcolor\":\"white\",\"plot_bgcolor\":\"#E5ECF6\",\"polar\":{\"angularaxis\":{\"gridcolor\":\"white\",\"linecolor\":\"white\",\"ticks\":\"\"},\"bgcolor\":\"#E5ECF6\",\"radialaxis\":{\"gridcolor\":\"white\",\"linecolor\":\"white\",\"ticks\":\"\"}},\"scene\":{\"xaxis\":{\"backgroundcolor\":\"#E5ECF6\",\"gridcolor\":\"white\",\"gridwidth\":2,\"linecolor\":\"white\",\"showbackground\":true,\"ticks\":\"\",\"zerolinecolor\":\"white\"},\"yaxis\":{\"backgroundcolor\":\"#E5ECF6\",\"gridcolor\":\"white\",\"gridwidth\":2,\"linecolor\":\"white\",\"showbackground\":true,\"ticks\":\"\",\"zerolinecolor\":\"white\"},\"zaxis\":{\"backgroundcolor\":\"#E5ECF6\",\"gridcolor\":\"white\",\"gridwidth\":2,\"linecolor\":\"white\",\"showbackground\":true,\"ticks\":\"\",\"zerolinecolor\":\"white\"}},\"shapedefaults\":{\"line\":{\"color\":\"#2a3f5f\"}},\"ternary\":{\"aaxis\":{\"gridcolor\":\"white\",\"linecolor\":\"white\",\"ticks\":\"\"},\"baxis\":{\"gridcolor\":\"white\",\"linecolor\":\"white\",\"ticks\":\"\"},\"bgcolor\":\"#E5ECF6\",\"caxis\":{\"gridcolor\":\"white\",\"linecolor\":\"white\",\"ticks\":\"\"}},\"title\":{\"x\":0.05},\"xaxis\":{\"automargin\":true,\"gridcolor\":\"white\",\"linecolor\":\"white\",\"ticks\":\"\",\"title\":{\"standoff\":15},\"zerolinecolor\":\"white\",\"zerolinewidth\":2},\"yaxis\":{\"automargin\":true,\"gridcolor\":\"white\",\"linecolor\":\"white\",\"ticks\":\"\",\"title\":{\"standoff\":15},\"zerolinecolor\":\"white\",\"zerolinewidth\":2}}},\"xaxis\":{\"anchor\":\"y\",\"domain\":[0.0,1.0],\"title\":{\"text\":\"x\"}},\"yaxis\":{\"anchor\":\"x\",\"domain\":[0.0,1.0],\"title\":{\"text\":\"y\"}},\"legend\":{\"tracegroupgap\":0},\"margin\":{\"t\":60}},                        {\"responsive\": true}                    ).then(function(){\n",
              "                            \n",
              "var gd = document.getElementById('e582d184-ef9c-4d72-b70d-0161eeaf75ff');\n",
              "var x = new MutationObserver(function (mutations, observer) {{\n",
              "        var display = window.getComputedStyle(gd).display;\n",
              "        if (!display || display === 'none') {{\n",
              "            console.log([gd, 'removed!']);\n",
              "            Plotly.purge(gd);\n",
              "            observer.disconnect();\n",
              "        }}\n",
              "}});\n",
              "\n",
              "// Listen for the removal of the full notebook cells\n",
              "var notebookContainer = gd.closest('#notebook-container');\n",
              "if (notebookContainer) {{\n",
              "    x.observe(notebookContainer, {childList: true});\n",
              "}}\n",
              "\n",
              "// Listen for the clearing of the current output cell\n",
              "var outputEl = gd.closest('.output');\n",
              "if (outputEl) {{\n",
              "    x.observe(outputEl, {childList: true});\n",
              "}}\n",
              "\n",
              "                        })                };                            </script>        </div>\n",
              "</body>\n",
              "</html>"
            ]
          },
          "metadata": {}
        }
      ]
    },
    {
      "cell_type": "code",
      "source": [
        "import pandas as pd\n",
        "import plotly.express as px\n",
        "import matplotlib.pyplot as plt\n",
        "import numpy as np\n",
        "\n",
        "\n",
        "fig=px.scatter(datos_maraton,x='Category',y='MarathonTime',color='Wall21', size='km4week')\n",
        "fig.show()"
      ],
      "metadata": {
        "colab": {
          "base_uri": "https://localhost:8080/",
          "height": 542
        },
        "id": "BUp1u_Jbru2m",
        "outputId": "686632b9-7a3b-440d-c6cc-8fe089c25708"
      },
      "execution_count": null,
      "outputs": [
        {
          "output_type": "display_data",
          "data": {
            "text/html": [
              "<html>\n",
              "<head><meta charset=\"utf-8\" /></head>\n",
              "<body>\n",
              "    <div>            <script src=\"https://cdnjs.cloudflare.com/ajax/libs/mathjax/2.7.5/MathJax.js?config=TeX-AMS-MML_SVG\"></script><script type=\"text/javascript\">if (window.MathJax) {MathJax.Hub.Config({SVG: {font: \"STIX-Web\"}});}</script>                <script type=\"text/javascript\">window.PlotlyConfig = {MathJaxConfig: 'local'};</script>\n",
              "        <script src=\"https://cdn.plot.ly/plotly-2.8.3.min.js\"></script>                <div id=\"531320af-1e3d-46ff-bc29-2e6f1b94efbd\" class=\"plotly-graph-div\" style=\"height:525px; width:100%;\"></div>            <script type=\"text/javascript\">                                    window.PLOTLYENV=window.PLOTLYENV || {};                                    if (document.getElementById(\"531320af-1e3d-46ff-bc29-2e6f1b94efbd\")) {                    Plotly.newPlot(                        \"531320af-1e3d-46ff-bc29-2e6f1b94efbd\",                        [{\"hovertemplate\":\"Category=%{x}<br>MarathonTime=%{y}<br>km4week=%{marker.size}<br>Wall21=%{marker.color}<extra></extra>\",\"legendgroup\":\"\",\"marker\":{\"color\":[1.16,1.23,1.3,1.32,1.36,1.32,1.38,1.41,1.38,1.35,1.42,1.4,1.37,1.41,1.44,1.45,1.44,1.44,1.45,1.41,1.45,1.5,1.5,1.48,1.52,0.0,1.54,1.52,1.5,1.57,1.62,1.6,1.51,1.58,0.0,1.62,1.56,1.61,1.5,1.6,1.59,1.68,1.78,1.62,1.67,1.67,1.66,1.67,1.55,1.64,1.67,0.0,1.65,0.0,1.77,1.67,1.71,1.72,1.67,1.77,1.76,1.63,1.66,1.69,1.69,1.88,1.93,1.74,1.75,1.8,1.81,1.76,1.94,0.0,1.9,1.85,1.94,1.97,1.97,1.98,0.0,2.05,2.02,1.94,1.94,2.05,2.05],\"coloraxis\":\"coloraxis\",\"size\":[132.8,68.6,82.7,137.5,84.6,42.2,89.0,106.0,70.0,84.2,93.5,65.7,53.5,84.4,76.8,76.1,112.3,49.7,84.5,76.7,94.5,67.3,59.4,66.1,67.4,23.8,129.6,82.4,51.6,104.9,52.5,79.4,65.6,112.4,112.2,50.1,50.1,52.1,64.7,69.2,61.3,58.8,82.7,32.2,27.7,68.0,48.6,39.6,60.1,78.2,50.3,70.7,121.7,51.1,70.7,26.9,56.2,36.3,22.7,45.2,43.2,54.1,48.8,20.7,54.2,60.3,48.5,34.3,59.1,41.6,87.0,24.2,52.3,53.6,66.7,23.9,40.3,30.6,28.0,53.9,38.1,35.6,50.0,33.6,55.4,33.2,17.9],\"sizemode\":\"area\",\"sizeref\":0.34375,\"symbol\":\"circle\"},\"mode\":\"markers\",\"name\":\"\",\"orientation\":\"v\",\"showlegend\":false,\"x\":[1,1,1,2,1,3,3,2,1,2,1,4,2,3,1,1,5,3,1,1,1,3,3,2,1,0,6,1,2,4,1,1,2,4,0,1,1,2,1,6,2,5,1,1,3,1,6,2,2,1,1,0,3,0,3,1,1,1,1,3,3,1,2,1,3,2,1,1,1,1,2,4,6,0,1,1,1,1,1,1,0,1,5,3,3,2,3],\"xaxis\":\"x\",\"y\":[2.37,2.59,2.66,2.68,2.74,2.78,2.81,2.84,2.83,2.86,2.87,2.87,2.88,2.88,2.89,2.9,2.91,2.91,2.93,2.94,2.99,3.04,3.05,3.09,3.1,3.11,3.12,3.14,3.15,3.16,3.19,3.19,3.21,3.21,3.22,3.22,3.23,3.24,3.24,3.25,3.28,3.28,3.32,3.32,3.32,3.33,3.33,3.35,3.36,3.39,3.4,3.45,3.46,3.47,3.47,3.5,3.5,3.51,3.52,3.52,3.55,3.55,3.56,3.56,3.59,3.62,3.64,3.64,3.65,3.67,3.68,3.69,3.69,3.75,3.76,3.78,3.8,3.87,3.89,3.9,3.9,3.92,3.93,3.93,3.94,3.95,3.98],\"yaxis\":\"y\",\"type\":\"scatter\"}],                        {\"template\":{\"data\":{\"bar\":[{\"error_x\":{\"color\":\"#2a3f5f\"},\"error_y\":{\"color\":\"#2a3f5f\"},\"marker\":{\"line\":{\"color\":\"#E5ECF6\",\"width\":0.5},\"pattern\":{\"fillmode\":\"overlay\",\"size\":10,\"solidity\":0.2}},\"type\":\"bar\"}],\"barpolar\":[{\"marker\":{\"line\":{\"color\":\"#E5ECF6\",\"width\":0.5},\"pattern\":{\"fillmode\":\"overlay\",\"size\":10,\"solidity\":0.2}},\"type\":\"barpolar\"}],\"carpet\":[{\"aaxis\":{\"endlinecolor\":\"#2a3f5f\",\"gridcolor\":\"white\",\"linecolor\":\"white\",\"minorgridcolor\":\"white\",\"startlinecolor\":\"#2a3f5f\"},\"baxis\":{\"endlinecolor\":\"#2a3f5f\",\"gridcolor\":\"white\",\"linecolor\":\"white\",\"minorgridcolor\":\"white\",\"startlinecolor\":\"#2a3f5f\"},\"type\":\"carpet\"}],\"choropleth\":[{\"colorbar\":{\"outlinewidth\":0,\"ticks\":\"\"},\"type\":\"choropleth\"}],\"contour\":[{\"colorbar\":{\"outlinewidth\":0,\"ticks\":\"\"},\"colorscale\":[[0.0,\"#0d0887\"],[0.1111111111111111,\"#46039f\"],[0.2222222222222222,\"#7201a8\"],[0.3333333333333333,\"#9c179e\"],[0.4444444444444444,\"#bd3786\"],[0.5555555555555556,\"#d8576b\"],[0.6666666666666666,\"#ed7953\"],[0.7777777777777778,\"#fb9f3a\"],[0.8888888888888888,\"#fdca26\"],[1.0,\"#f0f921\"]],\"type\":\"contour\"}],\"contourcarpet\":[{\"colorbar\":{\"outlinewidth\":0,\"ticks\":\"\"},\"type\":\"contourcarpet\"}],\"heatmap\":[{\"colorbar\":{\"outlinewidth\":0,\"ticks\":\"\"},\"colorscale\":[[0.0,\"#0d0887\"],[0.1111111111111111,\"#46039f\"],[0.2222222222222222,\"#7201a8\"],[0.3333333333333333,\"#9c179e\"],[0.4444444444444444,\"#bd3786\"],[0.5555555555555556,\"#d8576b\"],[0.6666666666666666,\"#ed7953\"],[0.7777777777777778,\"#fb9f3a\"],[0.8888888888888888,\"#fdca26\"],[1.0,\"#f0f921\"]],\"type\":\"heatmap\"}],\"heatmapgl\":[{\"colorbar\":{\"outlinewidth\":0,\"ticks\":\"\"},\"colorscale\":[[0.0,\"#0d0887\"],[0.1111111111111111,\"#46039f\"],[0.2222222222222222,\"#7201a8\"],[0.3333333333333333,\"#9c179e\"],[0.4444444444444444,\"#bd3786\"],[0.5555555555555556,\"#d8576b\"],[0.6666666666666666,\"#ed7953\"],[0.7777777777777778,\"#fb9f3a\"],[0.8888888888888888,\"#fdca26\"],[1.0,\"#f0f921\"]],\"type\":\"heatmapgl\"}],\"histogram\":[{\"marker\":{\"pattern\":{\"fillmode\":\"overlay\",\"size\":10,\"solidity\":0.2}},\"type\":\"histogram\"}],\"histogram2d\":[{\"colorbar\":{\"outlinewidth\":0,\"ticks\":\"\"},\"colorscale\":[[0.0,\"#0d0887\"],[0.1111111111111111,\"#46039f\"],[0.2222222222222222,\"#7201a8\"],[0.3333333333333333,\"#9c179e\"],[0.4444444444444444,\"#bd3786\"],[0.5555555555555556,\"#d8576b\"],[0.6666666666666666,\"#ed7953\"],[0.7777777777777778,\"#fb9f3a\"],[0.8888888888888888,\"#fdca26\"],[1.0,\"#f0f921\"]],\"type\":\"histogram2d\"}],\"histogram2dcontour\":[{\"colorbar\":{\"outlinewidth\":0,\"ticks\":\"\"},\"colorscale\":[[0.0,\"#0d0887\"],[0.1111111111111111,\"#46039f\"],[0.2222222222222222,\"#7201a8\"],[0.3333333333333333,\"#9c179e\"],[0.4444444444444444,\"#bd3786\"],[0.5555555555555556,\"#d8576b\"],[0.6666666666666666,\"#ed7953\"],[0.7777777777777778,\"#fb9f3a\"],[0.8888888888888888,\"#fdca26\"],[1.0,\"#f0f921\"]],\"type\":\"histogram2dcontour\"}],\"mesh3d\":[{\"colorbar\":{\"outlinewidth\":0,\"ticks\":\"\"},\"type\":\"mesh3d\"}],\"parcoords\":[{\"line\":{\"colorbar\":{\"outlinewidth\":0,\"ticks\":\"\"}},\"type\":\"parcoords\"}],\"pie\":[{\"automargin\":true,\"type\":\"pie\"}],\"scatter\":[{\"marker\":{\"colorbar\":{\"outlinewidth\":0,\"ticks\":\"\"}},\"type\":\"scatter\"}],\"scatter3d\":[{\"line\":{\"colorbar\":{\"outlinewidth\":0,\"ticks\":\"\"}},\"marker\":{\"colorbar\":{\"outlinewidth\":0,\"ticks\":\"\"}},\"type\":\"scatter3d\"}],\"scattercarpet\":[{\"marker\":{\"colorbar\":{\"outlinewidth\":0,\"ticks\":\"\"}},\"type\":\"scattercarpet\"}],\"scattergeo\":[{\"marker\":{\"colorbar\":{\"outlinewidth\":0,\"ticks\":\"\"}},\"type\":\"scattergeo\"}],\"scattergl\":[{\"marker\":{\"colorbar\":{\"outlinewidth\":0,\"ticks\":\"\"}},\"type\":\"scattergl\"}],\"scattermapbox\":[{\"marker\":{\"colorbar\":{\"outlinewidth\":0,\"ticks\":\"\"}},\"type\":\"scattermapbox\"}],\"scatterpolar\":[{\"marker\":{\"colorbar\":{\"outlinewidth\":0,\"ticks\":\"\"}},\"type\":\"scatterpolar\"}],\"scatterpolargl\":[{\"marker\":{\"colorbar\":{\"outlinewidth\":0,\"ticks\":\"\"}},\"type\":\"scatterpolargl\"}],\"scatterternary\":[{\"marker\":{\"colorbar\":{\"outlinewidth\":0,\"ticks\":\"\"}},\"type\":\"scatterternary\"}],\"surface\":[{\"colorbar\":{\"outlinewidth\":0,\"ticks\":\"\"},\"colorscale\":[[0.0,\"#0d0887\"],[0.1111111111111111,\"#46039f\"],[0.2222222222222222,\"#7201a8\"],[0.3333333333333333,\"#9c179e\"],[0.4444444444444444,\"#bd3786\"],[0.5555555555555556,\"#d8576b\"],[0.6666666666666666,\"#ed7953\"],[0.7777777777777778,\"#fb9f3a\"],[0.8888888888888888,\"#fdca26\"],[1.0,\"#f0f921\"]],\"type\":\"surface\"}],\"table\":[{\"cells\":{\"fill\":{\"color\":\"#EBF0F8\"},\"line\":{\"color\":\"white\"}},\"header\":{\"fill\":{\"color\":\"#C8D4E3\"},\"line\":{\"color\":\"white\"}},\"type\":\"table\"}]},\"layout\":{\"annotationdefaults\":{\"arrowcolor\":\"#2a3f5f\",\"arrowhead\":0,\"arrowwidth\":1},\"autotypenumbers\":\"strict\",\"coloraxis\":{\"colorbar\":{\"outlinewidth\":0,\"ticks\":\"\"}},\"colorscale\":{\"diverging\":[[0,\"#8e0152\"],[0.1,\"#c51b7d\"],[0.2,\"#de77ae\"],[0.3,\"#f1b6da\"],[0.4,\"#fde0ef\"],[0.5,\"#f7f7f7\"],[0.6,\"#e6f5d0\"],[0.7,\"#b8e186\"],[0.8,\"#7fbc41\"],[0.9,\"#4d9221\"],[1,\"#276419\"]],\"sequential\":[[0.0,\"#0d0887\"],[0.1111111111111111,\"#46039f\"],[0.2222222222222222,\"#7201a8\"],[0.3333333333333333,\"#9c179e\"],[0.4444444444444444,\"#bd3786\"],[0.5555555555555556,\"#d8576b\"],[0.6666666666666666,\"#ed7953\"],[0.7777777777777778,\"#fb9f3a\"],[0.8888888888888888,\"#fdca26\"],[1.0,\"#f0f921\"]],\"sequentialminus\":[[0.0,\"#0d0887\"],[0.1111111111111111,\"#46039f\"],[0.2222222222222222,\"#7201a8\"],[0.3333333333333333,\"#9c179e\"],[0.4444444444444444,\"#bd3786\"],[0.5555555555555556,\"#d8576b\"],[0.6666666666666666,\"#ed7953\"],[0.7777777777777778,\"#fb9f3a\"],[0.8888888888888888,\"#fdca26\"],[1.0,\"#f0f921\"]]},\"colorway\":[\"#636efa\",\"#EF553B\",\"#00cc96\",\"#ab63fa\",\"#FFA15A\",\"#19d3f3\",\"#FF6692\",\"#B6E880\",\"#FF97FF\",\"#FECB52\"],\"font\":{\"color\":\"#2a3f5f\"},\"geo\":{\"bgcolor\":\"white\",\"lakecolor\":\"white\",\"landcolor\":\"#E5ECF6\",\"showlakes\":true,\"showland\":true,\"subunitcolor\":\"white\"},\"hoverlabel\":{\"align\":\"left\"},\"hovermode\":\"closest\",\"mapbox\":{\"style\":\"light\"},\"paper_bgcolor\":\"white\",\"plot_bgcolor\":\"#E5ECF6\",\"polar\":{\"angularaxis\":{\"gridcolor\":\"white\",\"linecolor\":\"white\",\"ticks\":\"\"},\"bgcolor\":\"#E5ECF6\",\"radialaxis\":{\"gridcolor\":\"white\",\"linecolor\":\"white\",\"ticks\":\"\"}},\"scene\":{\"xaxis\":{\"backgroundcolor\":\"#E5ECF6\",\"gridcolor\":\"white\",\"gridwidth\":2,\"linecolor\":\"white\",\"showbackground\":true,\"ticks\":\"\",\"zerolinecolor\":\"white\"},\"yaxis\":{\"backgroundcolor\":\"#E5ECF6\",\"gridcolor\":\"white\",\"gridwidth\":2,\"linecolor\":\"white\",\"showbackground\":true,\"ticks\":\"\",\"zerolinecolor\":\"white\"},\"zaxis\":{\"backgroundcolor\":\"#E5ECF6\",\"gridcolor\":\"white\",\"gridwidth\":2,\"linecolor\":\"white\",\"showbackground\":true,\"ticks\":\"\",\"zerolinecolor\":\"white\"}},\"shapedefaults\":{\"line\":{\"color\":\"#2a3f5f\"}},\"ternary\":{\"aaxis\":{\"gridcolor\":\"white\",\"linecolor\":\"white\",\"ticks\":\"\"},\"baxis\":{\"gridcolor\":\"white\",\"linecolor\":\"white\",\"ticks\":\"\"},\"bgcolor\":\"#E5ECF6\",\"caxis\":{\"gridcolor\":\"white\",\"linecolor\":\"white\",\"ticks\":\"\"}},\"title\":{\"x\":0.05},\"xaxis\":{\"automargin\":true,\"gridcolor\":\"white\",\"linecolor\":\"white\",\"ticks\":\"\",\"title\":{\"standoff\":15},\"zerolinecolor\":\"white\",\"zerolinewidth\":2},\"yaxis\":{\"automargin\":true,\"gridcolor\":\"white\",\"linecolor\":\"white\",\"ticks\":\"\",\"title\":{\"standoff\":15},\"zerolinecolor\":\"white\",\"zerolinewidth\":2}}},\"xaxis\":{\"anchor\":\"y\",\"domain\":[0.0,1.0],\"title\":{\"text\":\"Category\"}},\"yaxis\":{\"anchor\":\"x\",\"domain\":[0.0,1.0],\"title\":{\"text\":\"MarathonTime\"}},\"coloraxis\":{\"colorbar\":{\"title\":{\"text\":\"Wall21\"}},\"colorscale\":[[0.0,\"#0d0887\"],[0.1111111111111111,\"#46039f\"],[0.2222222222222222,\"#7201a8\"],[0.3333333333333333,\"#9c179e\"],[0.4444444444444444,\"#bd3786\"],[0.5555555555555556,\"#d8576b\"],[0.6666666666666666,\"#ed7953\"],[0.7777777777777778,\"#fb9f3a\"],[0.8888888888888888,\"#fdca26\"],[1.0,\"#f0f921\"]]},\"legend\":{\"tracegroupgap\":0,\"itemsizing\":\"constant\"},\"margin\":{\"t\":60}},                        {\"responsive\": true}                    ).then(function(){\n",
              "                            \n",
              "var gd = document.getElementById('531320af-1e3d-46ff-bc29-2e6f1b94efbd');\n",
              "var x = new MutationObserver(function (mutations, observer) {{\n",
              "        var display = window.getComputedStyle(gd).display;\n",
              "        if (!display || display === 'none') {{\n",
              "            console.log([gd, 'removed!']);\n",
              "            Plotly.purge(gd);\n",
              "            observer.disconnect();\n",
              "        }}\n",
              "}});\n",
              "\n",
              "// Listen for the removal of the full notebook cells\n",
              "var notebookContainer = gd.closest('#notebook-container');\n",
              "if (notebookContainer) {{\n",
              "    x.observe(notebookContainer, {childList: true});\n",
              "}}\n",
              "\n",
              "// Listen for the clearing of the current output cell\n",
              "var outputEl = gd.closest('.output');\n",
              "if (outputEl) {{\n",
              "    x.observe(outputEl, {childList: true});\n",
              "}}\n",
              "\n",
              "                        })                };                            </script>        </div>\n",
              "</body>\n",
              "</html>"
            ]
          },
          "metadata": {}
        }
      ]
    },
    {
      "cell_type": "code",
      "source": [
        "import pandas as pd\n",
        "import plotly.express as px\n",
        "import matplotlib.pyplot as plt\n",
        "import numpy as np\n",
        "\n",
        "fig2=px.scatter(datos_maraton,x='Category',y='MarathonTime',symbol='sp4week')\n",
        "fig2.update_traces(marker_size=10) #Cambiar el tamaño del marcador\n",
        "fig2.show()"
      ],
      "metadata": {
        "colab": {
          "base_uri": "https://localhost:8080/",
          "height": 542
        },
        "id": "1bi4HNvzrvI-",
        "outputId": "fbcdea80-e3bb-4106-d865-8609ad88d274"
      },
      "execution_count": null,
      "outputs": [
        {
          "output_type": "display_data",
          "data": {
            "text/html": [
              "<html>\n",
              "<head><meta charset=\"utf-8\" /></head>\n",
              "<body>\n",
              "    <div>            <script src=\"https://cdnjs.cloudflare.com/ajax/libs/mathjax/2.7.5/MathJax.js?config=TeX-AMS-MML_SVG\"></script><script type=\"text/javascript\">if (window.MathJax) {MathJax.Hub.Config({SVG: {font: \"STIX-Web\"}});}</script>                <script type=\"text/javascript\">window.PlotlyConfig = {MathJaxConfig: 'local'};</script>\n",
              "        <script src=\"https://cdn.plot.ly/plotly-2.8.3.min.js\"></script>                <div id=\"b7ebb2ae-8ec5-4d5a-9529-7bc37b603d97\" class=\"plotly-graph-div\" style=\"height:525px; width:100%;\"></div>            <script type=\"text/javascript\">                                    window.PLOTLYENV=window.PLOTLYENV || {};                                    if (document.getElementById(\"b7ebb2ae-8ec5-4d5a-9529-7bc37b603d97\")) {                    Plotly.newPlot(                        \"b7ebb2ae-8ec5-4d5a-9529-7bc37b603d97\",                        [{\"hovertemplate\":\"sp4week=14.43478261<br>Category=%{x}<br>MarathonTime=%{y}<extra></extra>\",\"legendgroup\":\"14.43478261\",\"marker\":{\"color\":\"#636efa\",\"symbol\":\"circle\",\"size\":10},\"mode\":\"markers\",\"name\":\"14.43478261\",\"orientation\":\"v\",\"showlegend\":true,\"x\":[1],\"xaxis\":\"x\",\"y\":[2.37],\"yaxis\":\"y\",\"type\":\"scatter\"},{\"hovertemplate\":\"sp4week=13.6744186<br>Category=%{x}<br>MarathonTime=%{y}<extra></extra>\",\"legendgroup\":\"13.6744186\",\"marker\":{\"color\":\"#636efa\",\"symbol\":\"diamond\",\"size\":10},\"mode\":\"markers\",\"name\":\"13.6744186\",\"orientation\":\"v\",\"showlegend\":true,\"x\":[1],\"xaxis\":\"x\",\"y\":[2.59],\"yaxis\":\"y\",\"type\":\"scatter\"},{\"hovertemplate\":\"sp4week=13.52043597<br>Category=%{x}<br>MarathonTime=%{y}<extra></extra>\",\"legendgroup\":\"13.52043597\",\"marker\":{\"color\":\"#636efa\",\"symbol\":\"square\",\"size\":10},\"mode\":\"markers\",\"name\":\"13.52043597\",\"orientation\":\"v\",\"showlegend\":true,\"x\":[1],\"xaxis\":\"x\",\"y\":[2.66],\"yaxis\":\"y\",\"type\":\"scatter\"},{\"hovertemplate\":\"sp4week=12.25854383<br>Category=%{x}<br>MarathonTime=%{y}<extra></extra>\",\"legendgroup\":\"12.25854383\",\"marker\":{\"color\":\"#636efa\",\"symbol\":\"x\",\"size\":10},\"mode\":\"markers\",\"name\":\"12.25854383\",\"orientation\":\"v\",\"showlegend\":true,\"x\":[2],\"xaxis\":\"x\",\"y\":[2.68],\"yaxis\":\"y\",\"type\":\"scatter\"},{\"hovertemplate\":\"sp4week=13.94505495<br>Category=%{x}<br>MarathonTime=%{y}<extra></extra>\",\"legendgroup\":\"13.94505495\",\"marker\":{\"color\":\"#636efa\",\"symbol\":\"cross\",\"size\":10},\"mode\":\"markers\",\"name\":\"13.94505495\",\"orientation\":\"v\",\"showlegend\":true,\"x\":[1],\"xaxis\":\"x\",\"y\":[2.74],\"yaxis\":\"y\",\"type\":\"scatter\"},{\"hovertemplate\":\"sp4week=13.61290323<br>Category=%{x}<br>MarathonTime=%{y}<extra></extra>\",\"legendgroup\":\"13.61290323\",\"marker\":{\"color\":\"#636efa\",\"symbol\":\"circle\",\"size\":10},\"mode\":\"markers\",\"name\":\"13.61290323\",\"orientation\":\"v\",\"showlegend\":true,\"x\":[3],\"xaxis\":\"x\",\"y\":[2.78],\"yaxis\":\"y\",\"type\":\"scatter\"},{\"hovertemplate\":\"sp4week=12.59433962<br>Category=%{x}<br>MarathonTime=%{y}<extra></extra>\",\"legendgroup\":\"12.59433962\",\"marker\":{\"color\":\"#636efa\",\"symbol\":\"diamond\",\"size\":10},\"mode\":\"markers\",\"name\":\"12.59433962\",\"orientation\":\"v\",\"showlegend\":true,\"x\":[3],\"xaxis\":\"x\",\"y\":[2.81],\"yaxis\":\"y\",\"type\":\"scatter\"},{\"hovertemplate\":\"sp4week=12.69461078<br>Category=%{x}<br>MarathonTime=%{y}<extra></extra>\",\"legendgroup\":\"12.69461078\",\"marker\":{\"color\":\"#636efa\",\"symbol\":\"square\",\"size\":10},\"mode\":\"markers\",\"name\":\"12.69461078\",\"orientation\":\"v\",\"showlegend\":true,\"x\":[2],\"xaxis\":\"x\",\"y\":[2.84],\"yaxis\":\"y\",\"type\":\"scatter\"},{\"hovertemplate\":\"sp4week=13.7704918<br>Category=%{x}<br>MarathonTime=%{y}<extra></extra>\",\"legendgroup\":\"13.7704918\",\"marker\":{\"color\":\"#636efa\",\"symbol\":\"x\",\"size\":10},\"mode\":\"markers\",\"name\":\"13.7704918\",\"orientation\":\"v\",\"showlegend\":true,\"x\":[1],\"xaxis\":\"x\",\"y\":[2.83],\"yaxis\":\"y\",\"type\":\"scatter\"},{\"hovertemplate\":\"sp4week=13.36507937<br>Category=%{x}<br>MarathonTime=%{y}<extra></extra>\",\"legendgroup\":\"13.36507937\",\"marker\":{\"color\":\"#636efa\",\"symbol\":\"cross\",\"size\":10},\"mode\":\"markers\",\"name\":\"13.36507937\",\"orientation\":\"v\",\"showlegend\":true,\"x\":[2],\"xaxis\":\"x\",\"y\":[2.86],\"yaxis\":\"y\",\"type\":\"scatter\"},{\"hovertemplate\":\"sp4week=13.2<br>Category=%{x}<br>MarathonTime=%{y}<extra></extra>\",\"legendgroup\":\"13.2\",\"marker\":{\"color\":\"#636efa\",\"symbol\":\"circle\",\"size\":10},\"mode\":\"markers\",\"name\":\"13.2\",\"orientation\":\"v\",\"showlegend\":true,\"x\":[1],\"xaxis\":\"x\",\"y\":[2.87],\"yaxis\":\"y\",\"type\":\"scatter\"},{\"hovertemplate\":\"sp4week=13.36271186<br>Category=%{x}<br>MarathonTime=%{y}<extra></extra>\",\"legendgroup\":\"13.36271186\",\"marker\":{\"color\":\"#636efa\",\"symbol\":\"diamond\",\"size\":10},\"mode\":\"markers\",\"name\":\"13.36271186\",\"orientation\":\"v\",\"showlegend\":true,\"x\":[4],\"xaxis\":\"x\",\"y\":[2.87],\"yaxis\":\"y\",\"type\":\"scatter\"},{\"hovertemplate\":\"sp4week=14.07894737<br>Category=%{x}<br>MarathonTime=%{y}<extra></extra>\",\"legendgroup\":\"14.07894737\",\"marker\":{\"color\":\"#636efa\",\"symbol\":\"square\",\"size\":10},\"mode\":\"markers\",\"name\":\"14.07894737\",\"orientation\":\"v\",\"showlegend\":true,\"x\":[2],\"xaxis\":\"x\",\"y\":[2.88],\"yaxis\":\"y\",\"type\":\"scatter\"},{\"hovertemplate\":\"sp4week=13.83606557<br>Category=%{x}<br>MarathonTime=%{y}<extra></extra>\",\"legendgroup\":\"13.83606557\",\"marker\":{\"color\":\"#636efa\",\"symbol\":\"x\",\"size\":10},\"mode\":\"markers\",\"name\":\"13.83606557\",\"orientation\":\"v\",\"showlegend\":true,\"x\":[3],\"xaxis\":\"x\",\"y\":[2.88],\"yaxis\":\"y\",\"type\":\"scatter\"},{\"hovertemplate\":\"sp4week=12.94382022<br>Category=%{x}<br>MarathonTime=%{y}<extra></extra>\",\"legendgroup\":\"12.94382022\",\"marker\":{\"color\":\"#636efa\",\"symbol\":\"cross\",\"size\":10},\"mode\":\"markers\",\"name\":\"12.94382022\",\"orientation\":\"v\",\"showlegend\":true,\"x\":[1],\"xaxis\":\"x\",\"y\":[2.89],\"yaxis\":\"y\",\"type\":\"scatter\"},{\"hovertemplate\":\"sp4week=14.9704918<br>Category=%{x}<br>MarathonTime=%{y}<extra></extra>\",\"legendgroup\":\"14.9704918\",\"marker\":{\"color\":\"#636efa\",\"symbol\":\"circle\",\"size\":10},\"mode\":\"markers\",\"name\":\"14.9704918\",\"orientation\":\"v\",\"showlegend\":true,\"x\":[1],\"xaxis\":\"x\",\"y\":[2.9],\"yaxis\":\"y\",\"type\":\"scatter\"},{\"hovertemplate\":\"sp4week=12.59439252<br>Category=%{x}<br>MarathonTime=%{y}<extra></extra>\",\"legendgroup\":\"12.59439252\",\"marker\":{\"color\":\"#636efa\",\"symbol\":\"diamond\",\"size\":10},\"mode\":\"markers\",\"name\":\"12.59439252\",\"orientation\":\"v\",\"showlegend\":true,\"x\":[5],\"xaxis\":\"x\",\"y\":[2.91],\"yaxis\":\"y\",\"type\":\"scatter\"},{\"hovertemplate\":\"sp4week=14.33653846<br>Category=%{x}<br>MarathonTime=%{y}<extra></extra>\",\"legendgroup\":\"14.33653846\",\"marker\":{\"color\":\"#636efa\",\"symbol\":\"square\",\"size\":10},\"mode\":\"markers\",\"name\":\"14.33653846\",\"orientation\":\"v\",\"showlegend\":true,\"x\":[3],\"xaxis\":\"x\",\"y\":[2.91],\"yaxis\":\"y\",\"type\":\"scatter\"},{\"hovertemplate\":\"sp4week=12.54950495<br>Category=%{x}<br>MarathonTime=%{y}<extra></extra>\",\"legendgroup\":\"12.54950495\",\"marker\":{\"color\":\"#636efa\",\"symbol\":\"x\",\"size\":10},\"mode\":\"markers\",\"name\":\"12.54950495\",\"orientation\":\"v\",\"showlegend\":true,\"x\":[1],\"xaxis\":\"x\",\"y\":[2.93],\"yaxis\":\"y\",\"type\":\"scatter\"},{\"hovertemplate\":\"sp4week=8.031413613<br>Category=%{x}<br>MarathonTime=%{y}<extra></extra>\",\"legendgroup\":\"8.031413613\",\"marker\":{\"color\":\"#636efa\",\"symbol\":\"cross\",\"size\":10},\"mode\":\"markers\",\"name\":\"8.031413613\",\"orientation\":\"v\",\"showlegend\":true,\"x\":[1],\"xaxis\":\"x\",\"y\":[2.94],\"yaxis\":\"y\",\"type\":\"scatter\"},{\"hovertemplate\":\"sp4week=11.88679245<br>Category=%{x}<br>MarathonTime=%{y}<extra></extra>\",\"legendgroup\":\"11.88679245\",\"marker\":{\"color\":\"#636efa\",\"symbol\":\"circle\",\"size\":10},\"mode\":\"markers\",\"name\":\"11.88679245\",\"orientation\":\"v\",\"showlegend\":true,\"x\":[1],\"xaxis\":\"x\",\"y\":[2.99],\"yaxis\":\"y\",\"type\":\"scatter\"},{\"hovertemplate\":\"sp4week=13.23934426<br>Category=%{x}<br>MarathonTime=%{y}<extra></extra>\",\"legendgroup\":\"13.23934426\",\"marker\":{\"color\":\"#636efa\",\"symbol\":\"diamond\",\"size\":10},\"mode\":\"markers\",\"name\":\"13.23934426\",\"orientation\":\"v\",\"showlegend\":true,\"x\":[3],\"xaxis\":\"x\",\"y\":[3.04],\"yaxis\":\"y\",\"type\":\"scatter\"},{\"hovertemplate\":\"sp4week=12.63829787<br>Category=%{x}<br>MarathonTime=%{y}<extra></extra>\",\"legendgroup\":\"12.63829787\",\"marker\":{\"color\":\"#636efa\",\"symbol\":\"square\",\"size\":10},\"mode\":\"markers\",\"name\":\"12.63829787\",\"orientation\":\"v\",\"showlegend\":true,\"x\":[3],\"xaxis\":\"x\",\"y\":[3.05],\"yaxis\":\"y\",\"type\":\"scatter\"},{\"hovertemplate\":\"sp4week=12.12844037<br>Category=%{x}<br>MarathonTime=%{y}<extra></extra>\",\"legendgroup\":\"12.12844037\",\"marker\":{\"color\":\"#636efa\",\"symbol\":\"x\",\"size\":10},\"mode\":\"markers\",\"name\":\"12.12844037\",\"orientation\":\"v\",\"showlegend\":true,\"x\":[2],\"xaxis\":\"x\",\"y\":[3.09],\"yaxis\":\"y\",\"type\":\"scatter\"},{\"hovertemplate\":\"sp4week=12.87898089<br>Category=%{x}<br>MarathonTime=%{y}<extra></extra>\",\"legendgroup\":\"12.87898089\",\"marker\":{\"color\":\"#636efa\",\"symbol\":\"cross\",\"size\":10},\"mode\":\"markers\",\"name\":\"12.87898089\",\"orientation\":\"v\",\"showlegend\":true,\"x\":[1],\"xaxis\":\"x\",\"y\":[3.1],\"yaxis\":\"y\",\"type\":\"scatter\"},{\"hovertemplate\":\"sp4week=13.47169811<br>Category=%{x}<br>MarathonTime=%{y}<extra></extra>\",\"legendgroup\":\"13.47169811\",\"marker\":{\"color\":\"#636efa\",\"symbol\":\"circle\",\"size\":10},\"mode\":\"markers\",\"name\":\"13.47169811\",\"orientation\":\"v\",\"showlegend\":true,\"x\":[0],\"xaxis\":\"x\",\"y\":[3.11],\"yaxis\":\"y\",\"type\":\"scatter\"},{\"hovertemplate\":\"sp4week=12.18808777<br>Category=%{x}<br>MarathonTime=%{y}<extra></extra>\",\"legendgroup\":\"12.18808777\",\"marker\":{\"color\":\"#636efa\",\"symbol\":\"diamond\",\"size\":10},\"mode\":\"markers\",\"name\":\"12.18808777\",\"orientation\":\"v\",\"showlegend\":true,\"x\":[6],\"xaxis\":\"x\",\"y\":[3.12],\"yaxis\":\"y\",\"type\":\"scatter\"},{\"hovertemplate\":\"sp4week=11.77142857<br>Category=%{x}<br>MarathonTime=%{y}<extra></extra>\",\"legendgroup\":\"11.77142857\",\"marker\":{\"color\":\"#636efa\",\"symbol\":\"square\",\"size\":10},\"mode\":\"markers\",\"name\":\"11.77142857\",\"orientation\":\"v\",\"showlegend\":true,\"x\":[1],\"xaxis\":\"x\",\"y\":[3.14],\"yaxis\":\"y\",\"type\":\"scatter\"},{\"hovertemplate\":\"sp4week=13.00840336<br>Category=%{x}<br>MarathonTime=%{y}<extra></extra>\",\"legendgroup\":\"13.00840336\",\"marker\":{\"color\":\"#636efa\",\"symbol\":\"x\",\"size\":10},\"mode\":\"markers\",\"name\":\"13.00840336\",\"orientation\":\"v\",\"showlegend\":true,\"x\":[2],\"xaxis\":\"x\",\"y\":[3.15],\"yaxis\":\"y\",\"type\":\"scatter\"},{\"hovertemplate\":\"sp4week=11.72067039<br>Category=%{x}<br>MarathonTime=%{y}<extra></extra>\",\"legendgroup\":\"11.72067039\",\"marker\":{\"color\":\"#636efa\",\"symbol\":\"cross\",\"size\":10},\"mode\":\"markers\",\"name\":\"11.72067039\",\"orientation\":\"v\",\"showlegend\":true,\"x\":[4],\"xaxis\":\"x\",\"y\":[3.16],\"yaxis\":\"y\",\"type\":\"scatter\"},{\"hovertemplate\":\"sp4week=12.5498008<br>Category=%{x}<br>MarathonTime=%{y}<extra></extra>\",\"legendgroup\":\"12.5498008\",\"marker\":{\"color\":\"#636efa\",\"symbol\":\"circle\",\"size\":10},\"mode\":\"markers\",\"name\":\"12.5498008\",\"orientation\":\"v\",\"showlegend\":true,\"x\":[1],\"xaxis\":\"x\",\"y\":[3.19],\"yaxis\":\"y\",\"type\":\"scatter\"},{\"hovertemplate\":\"sp4week=13.34453782<br>Category=%{x}<br>MarathonTime=%{y}<extra></extra>\",\"legendgroup\":\"13.34453782\",\"marker\":{\"color\":\"#636efa\",\"symbol\":\"diamond\",\"size\":10},\"mode\":\"markers\",\"name\":\"13.34453782\",\"orientation\":\"v\",\"showlegend\":true,\"x\":[1],\"xaxis\":\"x\",\"y\":[3.19],\"yaxis\":\"y\",\"type\":\"scatter\"},{\"hovertemplate\":\"sp4week=11.89123867<br>Category=%{x}<br>MarathonTime=%{y}<extra></extra>\",\"legendgroup\":\"11.89123867\",\"marker\":{\"color\":\"#636efa\",\"symbol\":\"square\",\"size\":10},\"mode\":\"markers\",\"name\":\"11.89123867\",\"orientation\":\"v\",\"showlegend\":true,\"x\":[2],\"xaxis\":\"x\",\"y\":[3.21],\"yaxis\":\"y\",\"type\":\"scatter\"},{\"hovertemplate\":\"sp4week=12.28415301<br>Category=%{x}<br>MarathonTime=%{y}<extra></extra>\",\"legendgroup\":\"12.28415301\",\"marker\":{\"color\":\"#636efa\",\"symbol\":\"x\",\"size\":10},\"mode\":\"markers\",\"name\":\"12.28415301\",\"orientation\":\"v\",\"showlegend\":true,\"x\":[4],\"xaxis\":\"x\",\"y\":[3.21],\"yaxis\":\"y\",\"type\":\"scatter\"},{\"hovertemplate\":\"sp4week=11.27638191<br>Category=%{x}<br>MarathonTime=%{y}<extra></extra>\",\"legendgroup\":\"11.27638191\",\"marker\":{\"color\":\"#636efa\",\"symbol\":\"cross\",\"size\":10},\"mode\":\"markers\",\"name\":\"11.27638191\",\"orientation\":\"v\",\"showlegend\":true,\"x\":[0],\"xaxis\":\"x\",\"y\":[3.22],\"yaxis\":\"y\",\"type\":\"scatter\"},{\"hovertemplate\":\"sp4week=11.88142292<br>Category=%{x}<br>MarathonTime=%{y}<extra></extra>\",\"legendgroup\":\"11.88142292\",\"marker\":{\"color\":\"#636efa\",\"symbol\":\"circle\",\"size\":10},\"mode\":\"markers\",\"name\":\"11.88142292\",\"orientation\":\"v\",\"showlegend\":true,\"x\":[1],\"xaxis\":\"x\",\"y\":[3.22],\"yaxis\":\"y\",\"type\":\"scatter\"},{\"hovertemplate\":\"sp4week=12.17004049<br>Category=%{x}<br>MarathonTime=%{y}<extra></extra>\",\"legendgroup\":\"12.17004049\",\"marker\":{\"color\":\"#636efa\",\"symbol\":\"diamond\",\"size\":10},\"mode\":\"markers\",\"name\":\"12.17004049\",\"orientation\":\"v\",\"showlegend\":true,\"x\":[1],\"xaxis\":\"x\",\"y\":[3.23],\"yaxis\":\"y\",\"type\":\"scatter\"},{\"hovertemplate\":\"sp4week=12.16342412<br>Category=%{x}<br>MarathonTime=%{y}<extra></extra>\",\"legendgroup\":\"12.16342412\",\"marker\":{\"color\":\"#636efa\",\"symbol\":\"square\",\"size\":10},\"mode\":\"markers\",\"name\":\"12.16342412\",\"orientation\":\"v\",\"showlegend\":true,\"x\":[2],\"xaxis\":\"x\",\"y\":[3.24],\"yaxis\":\"y\",\"type\":\"scatter\"},{\"hovertemplate\":\"sp4week=13.29452055<br>Category=%{x}<br>MarathonTime=%{y}<extra></extra>\",\"legendgroup\":\"13.29452055\",\"marker\":{\"color\":\"#636efa\",\"symbol\":\"x\",\"size\":10},\"mode\":\"markers\",\"name\":\"13.29452055\",\"orientation\":\"v\",\"showlegend\":true,\"x\":[1],\"xaxis\":\"x\",\"y\":[3.24],\"yaxis\":\"y\",\"type\":\"scatter\"},{\"hovertemplate\":\"sp4week=10.05326877<br>Category=%{x}<br>MarathonTime=%{y}<extra></extra>\",\"legendgroup\":\"10.05326877\",\"marker\":{\"color\":\"#636efa\",\"symbol\":\"cross\",\"size\":10},\"mode\":\"markers\",\"name\":\"10.05326877\",\"orientation\":\"v\",\"showlegend\":true,\"x\":[6],\"xaxis\":\"x\",\"y\":[3.25],\"yaxis\":\"y\",\"type\":\"scatter\"},{\"hovertemplate\":\"sp4week=12.38383838<br>Category=%{x}<br>MarathonTime=%{y}<extra></extra>\",\"legendgroup\":\"12.38383838\",\"marker\":{\"color\":\"#636efa\",\"symbol\":\"circle\",\"size\":10},\"mode\":\"markers\",\"name\":\"12.38383838\",\"orientation\":\"v\",\"showlegend\":true,\"x\":[2],\"xaxis\":\"x\",\"y\":[3.28],\"yaxis\":\"y\",\"type\":\"scatter\"},{\"hovertemplate\":\"sp4week=12.82909091<br>Category=%{x}<br>MarathonTime=%{y}<extra></extra>\",\"legendgroup\":\"12.82909091\",\"marker\":{\"color\":\"#636efa\",\"symbol\":\"diamond\",\"size\":10},\"mode\":\"markers\",\"name\":\"12.82909091\",\"orientation\":\"v\",\"showlegend\":true,\"x\":[5],\"xaxis\":\"x\",\"y\":[3.28],\"yaxis\":\"y\",\"type\":\"scatter\"},{\"hovertemplate\":\"sp4week=11.64788732<br>Category=%{x}<br>MarathonTime=%{y}<extra></extra>\",\"legendgroup\":\"11.64788732\",\"marker\":{\"color\":\"#636efa\",\"symbol\":\"square\",\"size\":10},\"mode\":\"markers\",\"name\":\"11.64788732\",\"orientation\":\"v\",\"showlegend\":true,\"x\":[1],\"xaxis\":\"x\",\"y\":[3.32],\"yaxis\":\"y\",\"type\":\"scatter\"},{\"hovertemplate\":\"sp4week=12.71052632<br>Category=%{x}<br>MarathonTime=%{y}<extra></extra>\",\"legendgroup\":\"12.71052632\",\"marker\":{\"color\":\"#636efa\",\"symbol\":\"x\",\"size\":10},\"mode\":\"markers\",\"name\":\"12.71052632\",\"orientation\":\"v\",\"showlegend\":true,\"x\":[1],\"xaxis\":\"x\",\"y\":[3.32],\"yaxis\":\"y\",\"type\":\"scatter\"},{\"hovertemplate\":\"sp4week=11.62237762<br>Category=%{x}<br>MarathonTime=%{y}<extra></extra>\",\"legendgroup\":\"11.62237762\",\"marker\":{\"color\":\"#636efa\",\"symbol\":\"cross\",\"size\":10},\"mode\":\"markers\",\"name\":\"11.62237762\",\"orientation\":\"v\",\"showlegend\":true,\"x\":[3],\"xaxis\":\"x\",\"y\":[3.32],\"yaxis\":\"y\",\"type\":\"scatter\"},{\"hovertemplate\":\"sp4week=11.79190751<br>Category=%{x}<br>MarathonTime=%{y}<extra></extra>\",\"legendgroup\":\"11.79190751\",\"marker\":{\"color\":\"#636efa\",\"symbol\":\"circle\",\"size\":10},\"mode\":\"markers\",\"name\":\"11.79190751\",\"orientation\":\"v\",\"showlegend\":true,\"x\":[1],\"xaxis\":\"x\",\"y\":[3.33],\"yaxis\":\"y\",\"type\":\"scatter\"},{\"hovertemplate\":\"sp4week=12.25210084<br>Category=%{x}<br>MarathonTime=%{y}<extra></extra>\",\"legendgroup\":\"12.25210084\",\"marker\":{\"color\":\"#636efa\",\"symbol\":\"diamond\",\"size\":10},\"mode\":\"markers\",\"name\":\"12.25210084\",\"orientation\":\"v\",\"showlegend\":true,\"x\":[6],\"xaxis\":\"x\",\"y\":[3.33],\"yaxis\":\"y\",\"type\":\"scatter\"},{\"hovertemplate\":\"sp4week=12.24742268<br>Category=%{x}<br>MarathonTime=%{y}<extra></extra>\",\"legendgroup\":\"12.24742268\",\"marker\":{\"color\":\"#636efa\",\"symbol\":\"square\",\"size\":10},\"mode\":\"markers\",\"name\":\"12.24742268\",\"orientation\":\"v\",\"showlegend\":true,\"x\":[2],\"xaxis\":\"x\",\"y\":[3.35],\"yaxis\":\"y\",\"type\":\"scatter\"},{\"hovertemplate\":\"sp4week=12.18243243<br>Category=%{x}<br>MarathonTime=%{y}<extra></extra>\",\"legendgroup\":\"12.18243243\",\"marker\":{\"color\":\"#636efa\",\"symbol\":\"x\",\"size\":10},\"mode\":\"markers\",\"name\":\"12.18243243\",\"orientation\":\"v\",\"showlegend\":true,\"x\":[2],\"xaxis\":\"x\",\"y\":[3.36],\"yaxis\":\"y\",\"type\":\"scatter\"},{\"hovertemplate\":\"sp4week=12.0<br>Category=%{x}<br>MarathonTime=%{y}<extra></extra>\",\"legendgroup\":\"12.0\",\"marker\":{\"color\":\"#636efa\",\"symbol\":\"cross\",\"size\":10},\"mode\":\"markers\",\"name\":\"12.0\",\"orientation\":\"v\",\"showlegend\":true,\"x\":[1],\"xaxis\":\"x\",\"y\":[3.39],\"yaxis\":\"y\",\"type\":\"scatter\"},{\"hovertemplate\":\"sp4week=10.16161616<br>Category=%{x}<br>MarathonTime=%{y}<extra></extra>\",\"legendgroup\":\"10.16161616\",\"marker\":{\"color\":\"#636efa\",\"symbol\":\"circle\",\"size\":10},\"mode\":\"markers\",\"name\":\"10.16161616\",\"orientation\":\"v\",\"showlegend\":true,\"x\":[1],\"xaxis\":\"x\",\"y\":[3.4],\"yaxis\":\"y\",\"type\":\"scatter\"},{\"hovertemplate\":\"sp4week=12.66268657<br>Category=%{x}<br>MarathonTime=%{y}<extra></extra>\",\"legendgroup\":\"12.66268657\",\"marker\":{\"color\":\"#636efa\",\"symbol\":\"diamond\",\"size\":10},\"mode\":\"markers\",\"name\":\"12.66268657\",\"orientation\":\"v\",\"showlegend\":true,\"x\":[0],\"xaxis\":\"x\",\"y\":[3.45],\"yaxis\":\"y\",\"type\":\"scatter\"},{\"hovertemplate\":\"sp4week=9.907734057<br>Category=%{x}<br>MarathonTime=%{y}<extra></extra>\",\"legendgroup\":\"9.907734057\",\"marker\":{\"color\":\"#636efa\",\"symbol\":\"square\",\"size\":10},\"mode\":\"markers\",\"name\":\"9.907734057\",\"orientation\":\"v\",\"showlegend\":true,\"x\":[3],\"xaxis\":\"x\",\"y\":[3.46],\"yaxis\":\"y\",\"type\":\"scatter\"},{\"hovertemplate\":\"sp4week=11.23076923<br>Category=%{x}<br>MarathonTime=%{y}<extra></extra>\",\"legendgroup\":\"11.23076923\",\"marker\":{\"color\":\"#636efa\",\"symbol\":\"x\",\"size\":10},\"mode\":\"markers\",\"name\":\"11.23076923\",\"orientation\":\"v\",\"showlegend\":true,\"x\":[0],\"xaxis\":\"x\",\"y\":[3.47],\"yaxis\":\"y\",\"type\":\"scatter\"},{\"hovertemplate\":\"sp4week=11.78333333<br>Category=%{x}<br>MarathonTime=%{y}<extra></extra>\",\"legendgroup\":\"11.78333333\",\"marker\":{\"color\":\"#636efa\",\"symbol\":\"cross\",\"size\":10},\"mode\":\"markers\",\"name\":\"11.78333333\",\"orientation\":\"v\",\"showlegend\":true,\"x\":[3],\"xaxis\":\"x\",\"y\":[3.47],\"yaxis\":\"y\",\"type\":\"scatter\"},{\"hovertemplate\":\"sp4week=13.12195122<br>Category=%{x}<br>MarathonTime=%{y}<extra></extra>\",\"legendgroup\":\"13.12195122\",\"marker\":{\"color\":\"#636efa\",\"symbol\":\"circle\",\"size\":10},\"mode\":\"markers\",\"name\":\"13.12195122\",\"orientation\":\"v\",\"showlegend\":true,\"x\":[1],\"xaxis\":\"x\",\"y\":[3.5],\"yaxis\":\"y\",\"type\":\"scatter\"},{\"hovertemplate\":\"sp4week=12.08602151<br>Category=%{x}<br>MarathonTime=%{y}<extra></extra>\",\"legendgroup\":\"12.08602151\",\"marker\":{\"color\":\"#636efa\",\"symbol\":\"diamond\",\"size\":10},\"mode\":\"markers\",\"name\":\"12.08602151\",\"orientation\":\"v\",\"showlegend\":true,\"x\":[1],\"xaxis\":\"x\",\"y\":[3.5],\"yaxis\":\"y\",\"type\":\"scatter\"},{\"hovertemplate\":\"sp4week=11.64705882<br>Category=%{x}<br>MarathonTime=%{y}<extra></extra>\",\"legendgroup\":\"11.64705882\",\"marker\":{\"color\":\"#636efa\",\"symbol\":\"square\",\"size\":10},\"mode\":\"markers\",\"name\":\"11.64705882\",\"orientation\":\"v\",\"showlegend\":true,\"x\":[1],\"xaxis\":\"x\",\"y\":[3.51],\"yaxis\":\"y\",\"type\":\"scatter\"},{\"hovertemplate\":\"sp4week=12.72897196<br>Category=%{x}<br>MarathonTime=%{y}<extra></extra>\",\"legendgroup\":\"12.72897196\",\"marker\":{\"color\":\"#636efa\",\"symbol\":\"x\",\"size\":10},\"mode\":\"markers\",\"name\":\"12.72897196\",\"orientation\":\"v\",\"showlegend\":true,\"x\":[1],\"xaxis\":\"x\",\"y\":[3.52],\"yaxis\":\"y\",\"type\":\"scatter\"},{\"hovertemplate\":\"sp4week=11.02439024<br>Category=%{x}<br>MarathonTime=%{y}<extra></extra>\",\"legendgroup\":\"11.02439024\",\"marker\":{\"color\":\"#636efa\",\"symbol\":\"cross\",\"size\":10},\"mode\":\"markers\",\"name\":\"11.02439024\",\"orientation\":\"v\",\"showlegend\":true,\"x\":[3],\"xaxis\":\"x\",\"y\":[3.52],\"yaxis\":\"y\",\"type\":\"scatter\"},{\"hovertemplate\":\"sp4week=10.93670886<br>Category=%{x}<br>MarathonTime=%{y}<extra></extra>\",\"legendgroup\":\"10.93670886\",\"marker\":{\"color\":\"#636efa\",\"symbol\":\"circle\",\"size\":10},\"mode\":\"markers\",\"name\":\"10.93670886\",\"orientation\":\"v\",\"showlegend\":true,\"x\":[3],\"xaxis\":\"x\",\"y\":[3.55],\"yaxis\":\"y\",\"type\":\"scatter\"},{\"hovertemplate\":\"sp4week=11.11643836<br>Category=%{x}<br>MarathonTime=%{y}<extra></extra>\",\"legendgroup\":\"11.11643836\",\"marker\":{\"color\":\"#636efa\",\"symbol\":\"diamond\",\"size\":10},\"mode\":\"markers\",\"name\":\"11.11643836\",\"orientation\":\"v\",\"showlegend\":true,\"x\":[1],\"xaxis\":\"x\",\"y\":[3.55],\"yaxis\":\"y\",\"type\":\"scatter\"},{\"hovertemplate\":\"sp4week=11.66533865<br>Category=%{x}<br>MarathonTime=%{y}<extra></extra>\",\"legendgroup\":\"11.66533865\",\"marker\":{\"color\":\"#636efa\",\"symbol\":\"square\",\"size\":10},\"mode\":\"markers\",\"name\":\"11.66533865\",\"orientation\":\"v\",\"showlegend\":true,\"x\":[2],\"xaxis\":\"x\",\"y\":[3.56],\"yaxis\":\"y\",\"type\":\"scatter\"},{\"hovertemplate\":\"sp4week=12.42<br>Category=%{x}<br>MarathonTime=%{y}<extra></extra>\",\"legendgroup\":\"12.42\",\"marker\":{\"color\":\"#636efa\",\"symbol\":\"x\",\"size\":10},\"mode\":\"markers\",\"name\":\"12.42\",\"orientation\":\"v\",\"showlegend\":true,\"x\":[1],\"xaxis\":\"x\",\"y\":[3.56],\"yaxis\":\"y\",\"type\":\"scatter\"},{\"hovertemplate\":\"sp4week=11.7826087<br>Category=%{x}<br>MarathonTime=%{y}<extra></extra>\",\"legendgroup\":\"11.7826087\",\"marker\":{\"color\":\"#636efa\",\"symbol\":\"cross\",\"size\":10},\"mode\":\"markers\",\"name\":\"11.7826087\",\"orientation\":\"v\",\"showlegend\":true,\"x\":[3],\"xaxis\":\"x\",\"y\":[3.59],\"yaxis\":\"y\",\"type\":\"scatter\"},{\"hovertemplate\":\"sp4week=11.70873786<br>Category=%{x}<br>MarathonTime=%{y}<extra></extra>\",\"legendgroup\":\"11.70873786\",\"marker\":{\"color\":\"#636efa\",\"symbol\":\"circle\",\"size\":10},\"mode\":\"markers\",\"name\":\"11.70873786\",\"orientation\":\"v\",\"showlegend\":true,\"x\":[2],\"xaxis\":\"x\",\"y\":[3.62],\"yaxis\":\"y\",\"type\":\"scatter\"},{\"hovertemplate\":\"sp4week=11.02272727<br>Category=%{x}<br>MarathonTime=%{y}<extra></extra>\",\"legendgroup\":\"11.02272727\",\"marker\":{\"color\":\"#636efa\",\"symbol\":\"diamond\",\"size\":10},\"mode\":\"markers\",\"name\":\"11.02272727\",\"orientation\":\"v\",\"showlegend\":true,\"x\":[1],\"xaxis\":\"x\",\"y\":[3.64],\"yaxis\":\"y\",\"type\":\"scatter\"},{\"hovertemplate\":\"sp4week=11.30769231<br>Category=%{x}<br>MarathonTime=%{y}<extra></extra>\",\"legendgroup\":\"11.30769231\",\"marker\":{\"color\":\"#636efa\",\"symbol\":\"square\",\"size\":10},\"mode\":\"markers\",\"name\":\"11.30769231\",\"orientation\":\"v\",\"showlegend\":true,\"x\":[1],\"xaxis\":\"x\",\"y\":[3.64],\"yaxis\":\"y\",\"type\":\"scatter\"},{\"hovertemplate\":\"sp4week=10.91076923<br>Category=%{x}<br>MarathonTime=%{y}<extra></extra>\",\"legendgroup\":\"10.91076923\",\"marker\":{\"color\":\"#636efa\",\"symbol\":\"x\",\"size\":10},\"mode\":\"markers\",\"name\":\"10.91076923\",\"orientation\":\"v\",\"showlegend\":true,\"x\":[1],\"xaxis\":\"x\",\"y\":[3.65],\"yaxis\":\"y\",\"type\":\"scatter\"},{\"hovertemplate\":\"sp4week=12.23529412<br>Category=%{x}<br>MarathonTime=%{y}<extra></extra>\",\"legendgroup\":\"12.23529412\",\"marker\":{\"color\":\"#636efa\",\"symbol\":\"cross\",\"size\":10},\"mode\":\"markers\",\"name\":\"12.23529412\",\"orientation\":\"v\",\"showlegend\":true,\"x\":[1],\"xaxis\":\"x\",\"y\":[3.67],\"yaxis\":\"y\",\"type\":\"scatter\"},{\"hovertemplate\":\"sp4week=11.47252747<br>Category=%{x}<br>MarathonTime=%{y}<extra></extra>\",\"legendgroup\":\"11.47252747\",\"marker\":{\"color\":\"#636efa\",\"symbol\":\"circle\",\"size\":10},\"mode\":\"markers\",\"name\":\"11.47252747\",\"orientation\":\"v\",\"showlegend\":true,\"x\":[2],\"xaxis\":\"x\",\"y\":[3.68],\"yaxis\":\"y\",\"type\":\"scatter\"},{\"hovertemplate\":\"sp4week=11.52380952<br>Category=%{x}<br>MarathonTime=%{y}<extra></extra>\",\"legendgroup\":\"11.52380952\",\"marker\":{\"color\":\"#636efa\",\"symbol\":\"diamond\",\"size\":10},\"mode\":\"markers\",\"name\":\"11.52380952\",\"orientation\":\"v\",\"showlegend\":true,\"x\":[4],\"xaxis\":\"x\",\"y\":[3.69],\"yaxis\":\"y\",\"type\":\"scatter\"},{\"hovertemplate\":\"sp4week=11.70895522<br>Category=%{x}<br>MarathonTime=%{y}<extra></extra>\",\"legendgroup\":\"11.70895522\",\"marker\":{\"color\":\"#636efa\",\"symbol\":\"square\",\"size\":10},\"mode\":\"markers\",\"name\":\"11.70895522\",\"orientation\":\"v\",\"showlegend\":true,\"x\":[6],\"xaxis\":\"x\",\"y\":[3.69],\"yaxis\":\"y\",\"type\":\"scatter\"},{\"hovertemplate\":\"sp4week=12.71146245<br>Category=%{x}<br>MarathonTime=%{y}<extra></extra>\",\"legendgroup\":\"12.71146245\",\"marker\":{\"color\":\"#636efa\",\"symbol\":\"x\",\"size\":10},\"mode\":\"markers\",\"name\":\"12.71146245\",\"orientation\":\"v\",\"showlegend\":true,\"x\":[0],\"xaxis\":\"x\",\"y\":[3.75],\"yaxis\":\"y\",\"type\":\"scatter\"},{\"hovertemplate\":\"sp4week=11.56647399<br>Category=%{x}<br>MarathonTime=%{y}<extra></extra>\",\"legendgroup\":\"11.56647399\",\"marker\":{\"color\":\"#636efa\",\"symbol\":\"cross\",\"size\":10},\"mode\":\"markers\",\"name\":\"11.56647399\",\"orientation\":\"v\",\"showlegend\":true,\"x\":[1],\"xaxis\":\"x\",\"y\":[3.76],\"yaxis\":\"y\",\"type\":\"scatter\"},{\"hovertemplate\":\"sp4week=12.05042017<br>Category=%{x}<br>MarathonTime=%{y}<extra></extra>\",\"legendgroup\":\"12.05042017\",\"marker\":{\"color\":\"#636efa\",\"symbol\":\"circle\",\"size\":10},\"mode\":\"markers\",\"name\":\"12.05042017\",\"orientation\":\"v\",\"showlegend\":true,\"x\":[1],\"xaxis\":\"x\",\"y\":[3.78],\"yaxis\":\"y\",\"type\":\"scatter\"},{\"hovertemplate\":\"sp4week=8.337931034<br>Category=%{x}<br>MarathonTime=%{y}<extra></extra>\",\"legendgroup\":\"8.337931034\",\"marker\":{\"color\":\"#636efa\",\"symbol\":\"diamond\",\"size\":10},\"mode\":\"markers\",\"name\":\"8.337931034\",\"orientation\":\"v\",\"showlegend\":true,\"x\":[1],\"xaxis\":\"x\",\"y\":[3.8],\"yaxis\":\"y\",\"type\":\"scatter\"},{\"hovertemplate\":\"sp4week=11.06024096<br>Category=%{x}<br>MarathonTime=%{y}<extra></extra>\",\"legendgroup\":\"11.06024096\",\"marker\":{\"color\":\"#636efa\",\"symbol\":\"square\",\"size\":10},\"mode\":\"markers\",\"name\":\"11.06024096\",\"orientation\":\"v\",\"showlegend\":true,\"x\":[1],\"xaxis\":\"x\",\"y\":[3.87],\"yaxis\":\"y\",\"type\":\"scatter\"},{\"hovertemplate\":\"sp4week=11.2<br>Category=%{x}<br>MarathonTime=%{y}<extra></extra>\",\"legendgroup\":\"11.2\",\"marker\":{\"color\":\"#636efa\",\"symbol\":\"x\",\"size\":10},\"mode\":\"markers\",\"name\":\"11.2\",\"orientation\":\"v\",\"showlegend\":true,\"x\":[1],\"xaxis\":\"x\",\"y\":[3.89],\"yaxis\":\"y\",\"type\":\"scatter\"},{\"hovertemplate\":\"sp4week=11.80291971<br>Category=%{x}<br>MarathonTime=%{y}<extra></extra>\",\"legendgroup\":\"11.80291971\",\"marker\":{\"color\":\"#636efa\",\"symbol\":\"cross\",\"size\":10},\"mode\":\"markers\",\"name\":\"11.80291971\",\"orientation\":\"v\",\"showlegend\":true,\"x\":[1],\"xaxis\":\"x\",\"y\":[3.9],\"yaxis\":\"y\",\"type\":\"scatter\"},{\"hovertemplate\":\"sp4week=11.04347826<br>Category=%{x}<br>MarathonTime=%{y}<extra></extra>\",\"legendgroup\":\"11.04347826\",\"marker\":{\"color\":\"#636efa\",\"symbol\":\"circle\",\"size\":10},\"mode\":\"markers\",\"name\":\"11.04347826\",\"orientation\":\"v\",\"showlegend\":true,\"x\":[0],\"xaxis\":\"x\",\"y\":[3.9],\"yaxis\":\"y\",\"type\":\"scatter\"},{\"hovertemplate\":\"sp4week=11125.0<br>Category=%{x}<br>MarathonTime=%{y}<extra></extra>\",\"legendgroup\":\"11125.0\",\"marker\":{\"color\":\"#636efa\",\"symbol\":\"diamond\",\"size\":10},\"mode\":\"markers\",\"name\":\"11125.0\",\"orientation\":\"v\",\"showlegend\":true,\"x\":[1],\"xaxis\":\"x\",\"y\":[3.92],\"yaxis\":\"y\",\"type\":\"scatter\"},{\"hovertemplate\":\"sp4week=10.83032491<br>Category=%{x}<br>MarathonTime=%{y}<extra></extra>\",\"legendgroup\":\"10.83032491\",\"marker\":{\"color\":\"#636efa\",\"symbol\":\"square\",\"size\":10},\"mode\":\"markers\",\"name\":\"10.83032491\",\"orientation\":\"v\",\"showlegend\":true,\"x\":[5],\"xaxis\":\"x\",\"y\":[3.93],\"yaxis\":\"y\",\"type\":\"scatter\"},{\"hovertemplate\":\"sp4week=10.13065327<br>Category=%{x}<br>MarathonTime=%{y}<extra></extra>\",\"legendgroup\":\"10.13065327\",\"marker\":{\"color\":\"#636efa\",\"symbol\":\"x\",\"size\":10},\"mode\":\"markers\",\"name\":\"10.13065327\",\"orientation\":\"v\",\"showlegend\":true,\"x\":[3],\"xaxis\":\"x\",\"y\":[3.93],\"yaxis\":\"y\",\"type\":\"scatter\"},{\"hovertemplate\":\"sp4week=11.04318937<br>Category=%{x}<br>MarathonTime=%{y}<extra></extra>\",\"legendgroup\":\"11.04318937\",\"marker\":{\"color\":\"#636efa\",\"symbol\":\"cross\",\"size\":10},\"mode\":\"markers\",\"name\":\"11.04318937\",\"orientation\":\"v\",\"showlegend\":true,\"x\":[3],\"xaxis\":\"x\",\"y\":[3.94],\"yaxis\":\"y\",\"type\":\"scatter\"},{\"hovertemplate\":\"sp4week=11.06666667<br>Category=%{x}<br>MarathonTime=%{y}<extra></extra>\",\"legendgroup\":\"11.06666667\",\"marker\":{\"color\":\"#636efa\",\"symbol\":\"circle\",\"size\":10},\"mode\":\"markers\",\"name\":\"11.06666667\",\"orientation\":\"v\",\"showlegend\":true,\"x\":[2],\"xaxis\":\"x\",\"y\":[3.95],\"yaxis\":\"y\",\"type\":\"scatter\"},{\"hovertemplate\":\"sp4week=10.84848485<br>Category=%{x}<br>MarathonTime=%{y}<extra></extra>\",\"legendgroup\":\"10.84848485\",\"marker\":{\"color\":\"#636efa\",\"symbol\":\"diamond\",\"size\":10},\"mode\":\"markers\",\"name\":\"10.84848485\",\"orientation\":\"v\",\"showlegend\":true,\"x\":[3],\"xaxis\":\"x\",\"y\":[3.98],\"yaxis\":\"y\",\"type\":\"scatter\"}],                        {\"template\":{\"data\":{\"bar\":[{\"error_x\":{\"color\":\"#2a3f5f\"},\"error_y\":{\"color\":\"#2a3f5f\"},\"marker\":{\"line\":{\"color\":\"#E5ECF6\",\"width\":0.5},\"pattern\":{\"fillmode\":\"overlay\",\"size\":10,\"solidity\":0.2}},\"type\":\"bar\"}],\"barpolar\":[{\"marker\":{\"line\":{\"color\":\"#E5ECF6\",\"width\":0.5},\"pattern\":{\"fillmode\":\"overlay\",\"size\":10,\"solidity\":0.2}},\"type\":\"barpolar\"}],\"carpet\":[{\"aaxis\":{\"endlinecolor\":\"#2a3f5f\",\"gridcolor\":\"white\",\"linecolor\":\"white\",\"minorgridcolor\":\"white\",\"startlinecolor\":\"#2a3f5f\"},\"baxis\":{\"endlinecolor\":\"#2a3f5f\",\"gridcolor\":\"white\",\"linecolor\":\"white\",\"minorgridcolor\":\"white\",\"startlinecolor\":\"#2a3f5f\"},\"type\":\"carpet\"}],\"choropleth\":[{\"colorbar\":{\"outlinewidth\":0,\"ticks\":\"\"},\"type\":\"choropleth\"}],\"contour\":[{\"colorbar\":{\"outlinewidth\":0,\"ticks\":\"\"},\"colorscale\":[[0.0,\"#0d0887\"],[0.1111111111111111,\"#46039f\"],[0.2222222222222222,\"#7201a8\"],[0.3333333333333333,\"#9c179e\"],[0.4444444444444444,\"#bd3786\"],[0.5555555555555556,\"#d8576b\"],[0.6666666666666666,\"#ed7953\"],[0.7777777777777778,\"#fb9f3a\"],[0.8888888888888888,\"#fdca26\"],[1.0,\"#f0f921\"]],\"type\":\"contour\"}],\"contourcarpet\":[{\"colorbar\":{\"outlinewidth\":0,\"ticks\":\"\"},\"type\":\"contourcarpet\"}],\"heatmap\":[{\"colorbar\":{\"outlinewidth\":0,\"ticks\":\"\"},\"colorscale\":[[0.0,\"#0d0887\"],[0.1111111111111111,\"#46039f\"],[0.2222222222222222,\"#7201a8\"],[0.3333333333333333,\"#9c179e\"],[0.4444444444444444,\"#bd3786\"],[0.5555555555555556,\"#d8576b\"],[0.6666666666666666,\"#ed7953\"],[0.7777777777777778,\"#fb9f3a\"],[0.8888888888888888,\"#fdca26\"],[1.0,\"#f0f921\"]],\"type\":\"heatmap\"}],\"heatmapgl\":[{\"colorbar\":{\"outlinewidth\":0,\"ticks\":\"\"},\"colorscale\":[[0.0,\"#0d0887\"],[0.1111111111111111,\"#46039f\"],[0.2222222222222222,\"#7201a8\"],[0.3333333333333333,\"#9c179e\"],[0.4444444444444444,\"#bd3786\"],[0.5555555555555556,\"#d8576b\"],[0.6666666666666666,\"#ed7953\"],[0.7777777777777778,\"#fb9f3a\"],[0.8888888888888888,\"#fdca26\"],[1.0,\"#f0f921\"]],\"type\":\"heatmapgl\"}],\"histogram\":[{\"marker\":{\"pattern\":{\"fillmode\":\"overlay\",\"size\":10,\"solidity\":0.2}},\"type\":\"histogram\"}],\"histogram2d\":[{\"colorbar\":{\"outlinewidth\":0,\"ticks\":\"\"},\"colorscale\":[[0.0,\"#0d0887\"],[0.1111111111111111,\"#46039f\"],[0.2222222222222222,\"#7201a8\"],[0.3333333333333333,\"#9c179e\"],[0.4444444444444444,\"#bd3786\"],[0.5555555555555556,\"#d8576b\"],[0.6666666666666666,\"#ed7953\"],[0.7777777777777778,\"#fb9f3a\"],[0.8888888888888888,\"#fdca26\"],[1.0,\"#f0f921\"]],\"type\":\"histogram2d\"}],\"histogram2dcontour\":[{\"colorbar\":{\"outlinewidth\":0,\"ticks\":\"\"},\"colorscale\":[[0.0,\"#0d0887\"],[0.1111111111111111,\"#46039f\"],[0.2222222222222222,\"#7201a8\"],[0.3333333333333333,\"#9c179e\"],[0.4444444444444444,\"#bd3786\"],[0.5555555555555556,\"#d8576b\"],[0.6666666666666666,\"#ed7953\"],[0.7777777777777778,\"#fb9f3a\"],[0.8888888888888888,\"#fdca26\"],[1.0,\"#f0f921\"]],\"type\":\"histogram2dcontour\"}],\"mesh3d\":[{\"colorbar\":{\"outlinewidth\":0,\"ticks\":\"\"},\"type\":\"mesh3d\"}],\"parcoords\":[{\"line\":{\"colorbar\":{\"outlinewidth\":0,\"ticks\":\"\"}},\"type\":\"parcoords\"}],\"pie\":[{\"automargin\":true,\"type\":\"pie\"}],\"scatter\":[{\"marker\":{\"colorbar\":{\"outlinewidth\":0,\"ticks\":\"\"}},\"type\":\"scatter\"}],\"scatter3d\":[{\"line\":{\"colorbar\":{\"outlinewidth\":0,\"ticks\":\"\"}},\"marker\":{\"colorbar\":{\"outlinewidth\":0,\"ticks\":\"\"}},\"type\":\"scatter3d\"}],\"scattercarpet\":[{\"marker\":{\"colorbar\":{\"outlinewidth\":0,\"ticks\":\"\"}},\"type\":\"scattercarpet\"}],\"scattergeo\":[{\"marker\":{\"colorbar\":{\"outlinewidth\":0,\"ticks\":\"\"}},\"type\":\"scattergeo\"}],\"scattergl\":[{\"marker\":{\"colorbar\":{\"outlinewidth\":0,\"ticks\":\"\"}},\"type\":\"scattergl\"}],\"scattermapbox\":[{\"marker\":{\"colorbar\":{\"outlinewidth\":0,\"ticks\":\"\"}},\"type\":\"scattermapbox\"}],\"scatterpolar\":[{\"marker\":{\"colorbar\":{\"outlinewidth\":0,\"ticks\":\"\"}},\"type\":\"scatterpolar\"}],\"scatterpolargl\":[{\"marker\":{\"colorbar\":{\"outlinewidth\":0,\"ticks\":\"\"}},\"type\":\"scatterpolargl\"}],\"scatterternary\":[{\"marker\":{\"colorbar\":{\"outlinewidth\":0,\"ticks\":\"\"}},\"type\":\"scatterternary\"}],\"surface\":[{\"colorbar\":{\"outlinewidth\":0,\"ticks\":\"\"},\"colorscale\":[[0.0,\"#0d0887\"],[0.1111111111111111,\"#46039f\"],[0.2222222222222222,\"#7201a8\"],[0.3333333333333333,\"#9c179e\"],[0.4444444444444444,\"#bd3786\"],[0.5555555555555556,\"#d8576b\"],[0.6666666666666666,\"#ed7953\"],[0.7777777777777778,\"#fb9f3a\"],[0.8888888888888888,\"#fdca26\"],[1.0,\"#f0f921\"]],\"type\":\"surface\"}],\"table\":[{\"cells\":{\"fill\":{\"color\":\"#EBF0F8\"},\"line\":{\"color\":\"white\"}},\"header\":{\"fill\":{\"color\":\"#C8D4E3\"},\"line\":{\"color\":\"white\"}},\"type\":\"table\"}]},\"layout\":{\"annotationdefaults\":{\"arrowcolor\":\"#2a3f5f\",\"arrowhead\":0,\"arrowwidth\":1},\"autotypenumbers\":\"strict\",\"coloraxis\":{\"colorbar\":{\"outlinewidth\":0,\"ticks\":\"\"}},\"colorscale\":{\"diverging\":[[0,\"#8e0152\"],[0.1,\"#c51b7d\"],[0.2,\"#de77ae\"],[0.3,\"#f1b6da\"],[0.4,\"#fde0ef\"],[0.5,\"#f7f7f7\"],[0.6,\"#e6f5d0\"],[0.7,\"#b8e186\"],[0.8,\"#7fbc41\"],[0.9,\"#4d9221\"],[1,\"#276419\"]],\"sequential\":[[0.0,\"#0d0887\"],[0.1111111111111111,\"#46039f\"],[0.2222222222222222,\"#7201a8\"],[0.3333333333333333,\"#9c179e\"],[0.4444444444444444,\"#bd3786\"],[0.5555555555555556,\"#d8576b\"],[0.6666666666666666,\"#ed7953\"],[0.7777777777777778,\"#fb9f3a\"],[0.8888888888888888,\"#fdca26\"],[1.0,\"#f0f921\"]],\"sequentialminus\":[[0.0,\"#0d0887\"],[0.1111111111111111,\"#46039f\"],[0.2222222222222222,\"#7201a8\"],[0.3333333333333333,\"#9c179e\"],[0.4444444444444444,\"#bd3786\"],[0.5555555555555556,\"#d8576b\"],[0.6666666666666666,\"#ed7953\"],[0.7777777777777778,\"#fb9f3a\"],[0.8888888888888888,\"#fdca26\"],[1.0,\"#f0f921\"]]},\"colorway\":[\"#636efa\",\"#EF553B\",\"#00cc96\",\"#ab63fa\",\"#FFA15A\",\"#19d3f3\",\"#FF6692\",\"#B6E880\",\"#FF97FF\",\"#FECB52\"],\"font\":{\"color\":\"#2a3f5f\"},\"geo\":{\"bgcolor\":\"white\",\"lakecolor\":\"white\",\"landcolor\":\"#E5ECF6\",\"showlakes\":true,\"showland\":true,\"subunitcolor\":\"white\"},\"hoverlabel\":{\"align\":\"left\"},\"hovermode\":\"closest\",\"mapbox\":{\"style\":\"light\"},\"paper_bgcolor\":\"white\",\"plot_bgcolor\":\"#E5ECF6\",\"polar\":{\"angularaxis\":{\"gridcolor\":\"white\",\"linecolor\":\"white\",\"ticks\":\"\"},\"bgcolor\":\"#E5ECF6\",\"radialaxis\":{\"gridcolor\":\"white\",\"linecolor\":\"white\",\"ticks\":\"\"}},\"scene\":{\"xaxis\":{\"backgroundcolor\":\"#E5ECF6\",\"gridcolor\":\"white\",\"gridwidth\":2,\"linecolor\":\"white\",\"showbackground\":true,\"ticks\":\"\",\"zerolinecolor\":\"white\"},\"yaxis\":{\"backgroundcolor\":\"#E5ECF6\",\"gridcolor\":\"white\",\"gridwidth\":2,\"linecolor\":\"white\",\"showbackground\":true,\"ticks\":\"\",\"zerolinecolor\":\"white\"},\"zaxis\":{\"backgroundcolor\":\"#E5ECF6\",\"gridcolor\":\"white\",\"gridwidth\":2,\"linecolor\":\"white\",\"showbackground\":true,\"ticks\":\"\",\"zerolinecolor\":\"white\"}},\"shapedefaults\":{\"line\":{\"color\":\"#2a3f5f\"}},\"ternary\":{\"aaxis\":{\"gridcolor\":\"white\",\"linecolor\":\"white\",\"ticks\":\"\"},\"baxis\":{\"gridcolor\":\"white\",\"linecolor\":\"white\",\"ticks\":\"\"},\"bgcolor\":\"#E5ECF6\",\"caxis\":{\"gridcolor\":\"white\",\"linecolor\":\"white\",\"ticks\":\"\"}},\"title\":{\"x\":0.05},\"xaxis\":{\"automargin\":true,\"gridcolor\":\"white\",\"linecolor\":\"white\",\"ticks\":\"\",\"title\":{\"standoff\":15},\"zerolinecolor\":\"white\",\"zerolinewidth\":2},\"yaxis\":{\"automargin\":true,\"gridcolor\":\"white\",\"linecolor\":\"white\",\"ticks\":\"\",\"title\":{\"standoff\":15},\"zerolinecolor\":\"white\",\"zerolinewidth\":2}}},\"xaxis\":{\"anchor\":\"y\",\"domain\":[0.0,1.0],\"title\":{\"text\":\"Category\"}},\"yaxis\":{\"anchor\":\"x\",\"domain\":[0.0,1.0],\"title\":{\"text\":\"MarathonTime\"}},\"legend\":{\"title\":{\"text\":\"sp4week\"},\"tracegroupgap\":0},\"margin\":{\"t\":60}},                        {\"responsive\": true}                    ).then(function(){\n",
              "                            \n",
              "var gd = document.getElementById('b7ebb2ae-8ec5-4d5a-9529-7bc37b603d97');\n",
              "var x = new MutationObserver(function (mutations, observer) {{\n",
              "        var display = window.getComputedStyle(gd).display;\n",
              "        if (!display || display === 'none') {{\n",
              "            console.log([gd, 'removed!']);\n",
              "            Plotly.purge(gd);\n",
              "            observer.disconnect();\n",
              "        }}\n",
              "}});\n",
              "\n",
              "// Listen for the removal of the full notebook cells\n",
              "var notebookContainer = gd.closest('#notebook-container');\n",
              "if (notebookContainer) {{\n",
              "    x.observe(notebookContainer, {childList: true});\n",
              "}}\n",
              "\n",
              "// Listen for the clearing of the current output cell\n",
              "var outputEl = gd.closest('.output');\n",
              "if (outputEl) {{\n",
              "    x.observe(outputEl, {childList: true});\n",
              "}}\n",
              "\n",
              "                        })                };                            </script>        </div>\n",
              "</body>\n",
              "</html>"
            ]
          },
          "metadata": {}
        }
      ]
    },
    {
      "cell_type": "code",
      "source": [
        "import pandas as pd\n",
        "import plotly.express as px\n",
        "import matplotlib.pyplot as plt\n",
        "import numpy as np\n",
        "\n",
        "fig3=px.scatter(datos_maraton,x='Category',y='MarathonTime',color='sp4week',facet_col='CrossTraining')\n",
        "fig3.show()\n",
        "\n",
        "#facet_col (Usado para ver en columnas)\n",
        "#facet_roe (Usado para ver en filas)"
      ],
      "metadata": {
        "colab": {
          "base_uri": "https://localhost:8080/",
          "height": 542
        },
        "id": "vn1t00AguiYJ",
        "outputId": "82dbcdb8-a66e-40bb-cd55-bfeccc5c24ed"
      },
      "execution_count": null,
      "outputs": [
        {
          "output_type": "display_data",
          "data": {
            "text/html": [
              "<html>\n",
              "<head><meta charset=\"utf-8\" /></head>\n",
              "<body>\n",
              "    <div>            <script src=\"https://cdnjs.cloudflare.com/ajax/libs/mathjax/2.7.5/MathJax.js?config=TeX-AMS-MML_SVG\"></script><script type=\"text/javascript\">if (window.MathJax) {MathJax.Hub.Config({SVG: {font: \"STIX-Web\"}});}</script>                <script type=\"text/javascript\">window.PlotlyConfig = {MathJaxConfig: 'local'};</script>\n",
              "        <script src=\"https://cdn.plot.ly/plotly-2.8.3.min.js\"></script>                <div id=\"245c9083-470b-4d2e-a672-6a8e69b4456a\" class=\"plotly-graph-div\" style=\"height:525px; width:100%;\"></div>            <script type=\"text/javascript\">                                    window.PLOTLYENV=window.PLOTLYENV || {};                                    if (document.getElementById(\"245c9083-470b-4d2e-a672-6a8e69b4456a\")) {                    Plotly.newPlot(                        \"245c9083-470b-4d2e-a672-6a8e69b4456a\",                        [{\"hovertemplate\":\"CrossTraining=0<br>Category=%{x}<br>MarathonTime=%{y}<br>sp4week=%{marker.color}<extra></extra>\",\"legendgroup\":\"\",\"marker\":{\"color\":[14.43478261,13.6744186,13.52043597,12.25854383,13.94505495,13.61290323,12.59433962,12.69461078,13.36507937,13.2,13.36271186,13.83606557,12.94382022,14.9704918,14.33653846,12.54950495,8.031413613,11.88679245,13.23934426,12.63829787,12.12844037,12.87898089,12.18808777,11.77142857,13.00840336,11.72067039,13.34453782,11.89123867,12.28415301,11.27638191,11.88142292,12.17004049,12.16342412,13.29452055,10.05326877,12.38383838,12.82909091,11.64788732,12.71052632,11.79190751,12.25210084,12.24742268,12.18243243,12.0,10.16161616,12.66268657,9.907734057,11.23076923,11.78333333,13.12195122,12.08602151,11.64705882,12.72897196,11.02439024,10.93670886,11.11643836,11.66533865,11.7826087,11.70873786,11.30769231,10.91076923,12.23529412,11.47252747,11.70895522,12.71146245,11.56647399,11.06024096,11.2,11.80291971,11.04347826,11125.0,10.83032491,11.04318937,11.06666667],\"coloraxis\":\"coloraxis\",\"symbol\":\"circle\"},\"mode\":\"markers\",\"name\":\"\",\"orientation\":\"v\",\"showlegend\":false,\"x\":[1,1,1,2,1,3,3,2,2,1,4,3,1,1,3,1,1,1,3,3,2,1,6,1,2,4,1,2,4,0,1,1,2,1,6,2,5,1,1,1,6,2,2,1,1,0,3,0,3,1,1,1,1,3,3,1,2,3,2,1,1,1,2,6,0,1,1,1,1,0,1,5,3,2],\"xaxis\":\"x\",\"y\":[2.37,2.59,2.66,2.68,2.74,2.78,2.81,2.84,2.86,2.87,2.87,2.88,2.89,2.9,2.91,2.93,2.94,2.99,3.04,3.05,3.09,3.1,3.12,3.14,3.15,3.16,3.19,3.21,3.21,3.22,3.22,3.23,3.24,3.24,3.25,3.28,3.28,3.32,3.32,3.33,3.33,3.35,3.36,3.39,3.4,3.45,3.46,3.47,3.47,3.5,3.5,3.51,3.52,3.52,3.55,3.55,3.56,3.59,3.62,3.64,3.65,3.67,3.68,3.69,3.75,3.76,3.87,3.89,3.9,3.9,3.92,3.93,3.94,3.95],\"yaxis\":\"y\",\"type\":\"scatter\"},{\"hovertemplate\":\"CrossTraining=1<br>Category=%{x}<br>MarathonTime=%{y}<br>sp4week=%{marker.color}<extra></extra>\",\"legendgroup\":\"\",\"marker\":{\"color\":[13.7704918],\"coloraxis\":\"coloraxis\",\"symbol\":\"circle\"},\"mode\":\"markers\",\"name\":\"\",\"orientation\":\"v\",\"showlegend\":false,\"x\":[1],\"xaxis\":\"x2\",\"y\":[2.83],\"yaxis\":\"y2\",\"type\":\"scatter\"},{\"hovertemplate\":\"CrossTraining=3<br>Category=%{x}<br>MarathonTime=%{y}<br>sp4week=%{marker.color}<extra></extra>\",\"legendgroup\":\"\",\"marker\":{\"color\":[14.07894737,12.05042017],\"coloraxis\":\"coloraxis\",\"symbol\":\"circle\"},\"mode\":\"markers\",\"name\":\"\",\"orientation\":\"v\",\"showlegend\":false,\"x\":[2,1],\"xaxis\":\"x3\",\"y\":[2.88,3.78],\"yaxis\":\"y3\",\"type\":\"scatter\"},{\"hovertemplate\":\"CrossTraining=5<br>Category=%{x}<br>MarathonTime=%{y}<br>sp4week=%{marker.color}<extra></extra>\",\"legendgroup\":\"\",\"marker\":{\"color\":[12.59439252],\"coloraxis\":\"coloraxis\",\"symbol\":\"circle\"},\"mode\":\"markers\",\"name\":\"\",\"orientation\":\"v\",\"showlegend\":false,\"x\":[5],\"xaxis\":\"x4\",\"y\":[2.91],\"yaxis\":\"y4\",\"type\":\"scatter\"},{\"hovertemplate\":\"CrossTraining=4<br>Category=%{x}<br>MarathonTime=%{y}<br>sp4week=%{marker.color}<extra></extra>\",\"legendgroup\":\"\",\"marker\":{\"color\":[13.47169811,12.42,8.337931034,10.84848485],\"coloraxis\":\"coloraxis\",\"symbol\":\"circle\"},\"mode\":\"markers\",\"name\":\"\",\"orientation\":\"v\",\"showlegend\":false,\"x\":[0,1,1,3],\"xaxis\":\"x5\",\"y\":[3.11,3.56,3.8,3.98],\"yaxis\":\"y5\",\"type\":\"scatter\"},{\"hovertemplate\":\"CrossTraining=2<br>Category=%{x}<br>MarathonTime=%{y}<br>sp4week=%{marker.color}<extra></extra>\",\"legendgroup\":\"\",\"marker\":{\"color\":[12.5498008,11.62237762,11.02272727,11.52380952,10.13065327],\"coloraxis\":\"coloraxis\",\"symbol\":\"circle\"},\"mode\":\"markers\",\"name\":\"\",\"orientation\":\"v\",\"showlegend\":false,\"x\":[1,3,1,4,3],\"xaxis\":\"x6\",\"y\":[3.19,3.32,3.64,3.69,3.93],\"yaxis\":\"y6\",\"type\":\"scatter\"}],                        {\"template\":{\"data\":{\"bar\":[{\"error_x\":{\"color\":\"#2a3f5f\"},\"error_y\":{\"color\":\"#2a3f5f\"},\"marker\":{\"line\":{\"color\":\"#E5ECF6\",\"width\":0.5},\"pattern\":{\"fillmode\":\"overlay\",\"size\":10,\"solidity\":0.2}},\"type\":\"bar\"}],\"barpolar\":[{\"marker\":{\"line\":{\"color\":\"#E5ECF6\",\"width\":0.5},\"pattern\":{\"fillmode\":\"overlay\",\"size\":10,\"solidity\":0.2}},\"type\":\"barpolar\"}],\"carpet\":[{\"aaxis\":{\"endlinecolor\":\"#2a3f5f\",\"gridcolor\":\"white\",\"linecolor\":\"white\",\"minorgridcolor\":\"white\",\"startlinecolor\":\"#2a3f5f\"},\"baxis\":{\"endlinecolor\":\"#2a3f5f\",\"gridcolor\":\"white\",\"linecolor\":\"white\",\"minorgridcolor\":\"white\",\"startlinecolor\":\"#2a3f5f\"},\"type\":\"carpet\"}],\"choropleth\":[{\"colorbar\":{\"outlinewidth\":0,\"ticks\":\"\"},\"type\":\"choropleth\"}],\"contour\":[{\"colorbar\":{\"outlinewidth\":0,\"ticks\":\"\"},\"colorscale\":[[0.0,\"#0d0887\"],[0.1111111111111111,\"#46039f\"],[0.2222222222222222,\"#7201a8\"],[0.3333333333333333,\"#9c179e\"],[0.4444444444444444,\"#bd3786\"],[0.5555555555555556,\"#d8576b\"],[0.6666666666666666,\"#ed7953\"],[0.7777777777777778,\"#fb9f3a\"],[0.8888888888888888,\"#fdca26\"],[1.0,\"#f0f921\"]],\"type\":\"contour\"}],\"contourcarpet\":[{\"colorbar\":{\"outlinewidth\":0,\"ticks\":\"\"},\"type\":\"contourcarpet\"}],\"heatmap\":[{\"colorbar\":{\"outlinewidth\":0,\"ticks\":\"\"},\"colorscale\":[[0.0,\"#0d0887\"],[0.1111111111111111,\"#46039f\"],[0.2222222222222222,\"#7201a8\"],[0.3333333333333333,\"#9c179e\"],[0.4444444444444444,\"#bd3786\"],[0.5555555555555556,\"#d8576b\"],[0.6666666666666666,\"#ed7953\"],[0.7777777777777778,\"#fb9f3a\"],[0.8888888888888888,\"#fdca26\"],[1.0,\"#f0f921\"]],\"type\":\"heatmap\"}],\"heatmapgl\":[{\"colorbar\":{\"outlinewidth\":0,\"ticks\":\"\"},\"colorscale\":[[0.0,\"#0d0887\"],[0.1111111111111111,\"#46039f\"],[0.2222222222222222,\"#7201a8\"],[0.3333333333333333,\"#9c179e\"],[0.4444444444444444,\"#bd3786\"],[0.5555555555555556,\"#d8576b\"],[0.6666666666666666,\"#ed7953\"],[0.7777777777777778,\"#fb9f3a\"],[0.8888888888888888,\"#fdca26\"],[1.0,\"#f0f921\"]],\"type\":\"heatmapgl\"}],\"histogram\":[{\"marker\":{\"pattern\":{\"fillmode\":\"overlay\",\"size\":10,\"solidity\":0.2}},\"type\":\"histogram\"}],\"histogram2d\":[{\"colorbar\":{\"outlinewidth\":0,\"ticks\":\"\"},\"colorscale\":[[0.0,\"#0d0887\"],[0.1111111111111111,\"#46039f\"],[0.2222222222222222,\"#7201a8\"],[0.3333333333333333,\"#9c179e\"],[0.4444444444444444,\"#bd3786\"],[0.5555555555555556,\"#d8576b\"],[0.6666666666666666,\"#ed7953\"],[0.7777777777777778,\"#fb9f3a\"],[0.8888888888888888,\"#fdca26\"],[1.0,\"#f0f921\"]],\"type\":\"histogram2d\"}],\"histogram2dcontour\":[{\"colorbar\":{\"outlinewidth\":0,\"ticks\":\"\"},\"colorscale\":[[0.0,\"#0d0887\"],[0.1111111111111111,\"#46039f\"],[0.2222222222222222,\"#7201a8\"],[0.3333333333333333,\"#9c179e\"],[0.4444444444444444,\"#bd3786\"],[0.5555555555555556,\"#d8576b\"],[0.6666666666666666,\"#ed7953\"],[0.7777777777777778,\"#fb9f3a\"],[0.8888888888888888,\"#fdca26\"],[1.0,\"#f0f921\"]],\"type\":\"histogram2dcontour\"}],\"mesh3d\":[{\"colorbar\":{\"outlinewidth\":0,\"ticks\":\"\"},\"type\":\"mesh3d\"}],\"parcoords\":[{\"line\":{\"colorbar\":{\"outlinewidth\":0,\"ticks\":\"\"}},\"type\":\"parcoords\"}],\"pie\":[{\"automargin\":true,\"type\":\"pie\"}],\"scatter\":[{\"marker\":{\"colorbar\":{\"outlinewidth\":0,\"ticks\":\"\"}},\"type\":\"scatter\"}],\"scatter3d\":[{\"line\":{\"colorbar\":{\"outlinewidth\":0,\"ticks\":\"\"}},\"marker\":{\"colorbar\":{\"outlinewidth\":0,\"ticks\":\"\"}},\"type\":\"scatter3d\"}],\"scattercarpet\":[{\"marker\":{\"colorbar\":{\"outlinewidth\":0,\"ticks\":\"\"}},\"type\":\"scattercarpet\"}],\"scattergeo\":[{\"marker\":{\"colorbar\":{\"outlinewidth\":0,\"ticks\":\"\"}},\"type\":\"scattergeo\"}],\"scattergl\":[{\"marker\":{\"colorbar\":{\"outlinewidth\":0,\"ticks\":\"\"}},\"type\":\"scattergl\"}],\"scattermapbox\":[{\"marker\":{\"colorbar\":{\"outlinewidth\":0,\"ticks\":\"\"}},\"type\":\"scattermapbox\"}],\"scatterpolar\":[{\"marker\":{\"colorbar\":{\"outlinewidth\":0,\"ticks\":\"\"}},\"type\":\"scatterpolar\"}],\"scatterpolargl\":[{\"marker\":{\"colorbar\":{\"outlinewidth\":0,\"ticks\":\"\"}},\"type\":\"scatterpolargl\"}],\"scatterternary\":[{\"marker\":{\"colorbar\":{\"outlinewidth\":0,\"ticks\":\"\"}},\"type\":\"scatterternary\"}],\"surface\":[{\"colorbar\":{\"outlinewidth\":0,\"ticks\":\"\"},\"colorscale\":[[0.0,\"#0d0887\"],[0.1111111111111111,\"#46039f\"],[0.2222222222222222,\"#7201a8\"],[0.3333333333333333,\"#9c179e\"],[0.4444444444444444,\"#bd3786\"],[0.5555555555555556,\"#d8576b\"],[0.6666666666666666,\"#ed7953\"],[0.7777777777777778,\"#fb9f3a\"],[0.8888888888888888,\"#fdca26\"],[1.0,\"#f0f921\"]],\"type\":\"surface\"}],\"table\":[{\"cells\":{\"fill\":{\"color\":\"#EBF0F8\"},\"line\":{\"color\":\"white\"}},\"header\":{\"fill\":{\"color\":\"#C8D4E3\"},\"line\":{\"color\":\"white\"}},\"type\":\"table\"}]},\"layout\":{\"annotationdefaults\":{\"arrowcolor\":\"#2a3f5f\",\"arrowhead\":0,\"arrowwidth\":1},\"autotypenumbers\":\"strict\",\"coloraxis\":{\"colorbar\":{\"outlinewidth\":0,\"ticks\":\"\"}},\"colorscale\":{\"diverging\":[[0,\"#8e0152\"],[0.1,\"#c51b7d\"],[0.2,\"#de77ae\"],[0.3,\"#f1b6da\"],[0.4,\"#fde0ef\"],[0.5,\"#f7f7f7\"],[0.6,\"#e6f5d0\"],[0.7,\"#b8e186\"],[0.8,\"#7fbc41\"],[0.9,\"#4d9221\"],[1,\"#276419\"]],\"sequential\":[[0.0,\"#0d0887\"],[0.1111111111111111,\"#46039f\"],[0.2222222222222222,\"#7201a8\"],[0.3333333333333333,\"#9c179e\"],[0.4444444444444444,\"#bd3786\"],[0.5555555555555556,\"#d8576b\"],[0.6666666666666666,\"#ed7953\"],[0.7777777777777778,\"#fb9f3a\"],[0.8888888888888888,\"#fdca26\"],[1.0,\"#f0f921\"]],\"sequentialminus\":[[0.0,\"#0d0887\"],[0.1111111111111111,\"#46039f\"],[0.2222222222222222,\"#7201a8\"],[0.3333333333333333,\"#9c179e\"],[0.4444444444444444,\"#bd3786\"],[0.5555555555555556,\"#d8576b\"],[0.6666666666666666,\"#ed7953\"],[0.7777777777777778,\"#fb9f3a\"],[0.8888888888888888,\"#fdca26\"],[1.0,\"#f0f921\"]]},\"colorway\":[\"#636efa\",\"#EF553B\",\"#00cc96\",\"#ab63fa\",\"#FFA15A\",\"#19d3f3\",\"#FF6692\",\"#B6E880\",\"#FF97FF\",\"#FECB52\"],\"font\":{\"color\":\"#2a3f5f\"},\"geo\":{\"bgcolor\":\"white\",\"lakecolor\":\"white\",\"landcolor\":\"#E5ECF6\",\"showlakes\":true,\"showland\":true,\"subunitcolor\":\"white\"},\"hoverlabel\":{\"align\":\"left\"},\"hovermode\":\"closest\",\"mapbox\":{\"style\":\"light\"},\"paper_bgcolor\":\"white\",\"plot_bgcolor\":\"#E5ECF6\",\"polar\":{\"angularaxis\":{\"gridcolor\":\"white\",\"linecolor\":\"white\",\"ticks\":\"\"},\"bgcolor\":\"#E5ECF6\",\"radialaxis\":{\"gridcolor\":\"white\",\"linecolor\":\"white\",\"ticks\":\"\"}},\"scene\":{\"xaxis\":{\"backgroundcolor\":\"#E5ECF6\",\"gridcolor\":\"white\",\"gridwidth\":2,\"linecolor\":\"white\",\"showbackground\":true,\"ticks\":\"\",\"zerolinecolor\":\"white\"},\"yaxis\":{\"backgroundcolor\":\"#E5ECF6\",\"gridcolor\":\"white\",\"gridwidth\":2,\"linecolor\":\"white\",\"showbackground\":true,\"ticks\":\"\",\"zerolinecolor\":\"white\"},\"zaxis\":{\"backgroundcolor\":\"#E5ECF6\",\"gridcolor\":\"white\",\"gridwidth\":2,\"linecolor\":\"white\",\"showbackground\":true,\"ticks\":\"\",\"zerolinecolor\":\"white\"}},\"shapedefaults\":{\"line\":{\"color\":\"#2a3f5f\"}},\"ternary\":{\"aaxis\":{\"gridcolor\":\"white\",\"linecolor\":\"white\",\"ticks\":\"\"},\"baxis\":{\"gridcolor\":\"white\",\"linecolor\":\"white\",\"ticks\":\"\"},\"bgcolor\":\"#E5ECF6\",\"caxis\":{\"gridcolor\":\"white\",\"linecolor\":\"white\",\"ticks\":\"\"}},\"title\":{\"x\":0.05},\"xaxis\":{\"automargin\":true,\"gridcolor\":\"white\",\"linecolor\":\"white\",\"ticks\":\"\",\"title\":{\"standoff\":15},\"zerolinecolor\":\"white\",\"zerolinewidth\":2},\"yaxis\":{\"automargin\":true,\"gridcolor\":\"white\",\"linecolor\":\"white\",\"ticks\":\"\",\"title\":{\"standoff\":15},\"zerolinecolor\":\"white\",\"zerolinewidth\":2}}},\"xaxis\":{\"anchor\":\"y\",\"domain\":[0.0,0.15],\"title\":{\"text\":\"Category\"}},\"yaxis\":{\"anchor\":\"x\",\"domain\":[0.0,1.0],\"title\":{\"text\":\"MarathonTime\"}},\"xaxis2\":{\"anchor\":\"y2\",\"domain\":[0.16999999999999998,0.31999999999999995],\"matches\":\"x\",\"title\":{\"text\":\"Category\"}},\"yaxis2\":{\"anchor\":\"x2\",\"domain\":[0.0,1.0],\"matches\":\"y\",\"showticklabels\":false},\"xaxis3\":{\"anchor\":\"y3\",\"domain\":[0.33999999999999997,0.49],\"matches\":\"x\",\"title\":{\"text\":\"Category\"}},\"yaxis3\":{\"anchor\":\"x3\",\"domain\":[0.0,1.0],\"matches\":\"y\",\"showticklabels\":false},\"xaxis4\":{\"anchor\":\"y4\",\"domain\":[0.51,0.66],\"matches\":\"x\",\"title\":{\"text\":\"Category\"}},\"yaxis4\":{\"anchor\":\"x4\",\"domain\":[0.0,1.0],\"matches\":\"y\",\"showticklabels\":false},\"xaxis5\":{\"anchor\":\"y5\",\"domain\":[0.6799999999999999,0.83],\"matches\":\"x\",\"title\":{\"text\":\"Category\"}},\"yaxis5\":{\"anchor\":\"x5\",\"domain\":[0.0,1.0],\"matches\":\"y\",\"showticklabels\":false},\"xaxis6\":{\"anchor\":\"y6\",\"domain\":[0.85,1.0],\"matches\":\"x\",\"title\":{\"text\":\"Category\"}},\"yaxis6\":{\"anchor\":\"x6\",\"domain\":[0.0,1.0],\"matches\":\"y\",\"showticklabels\":false},\"annotations\":[{\"font\":{},\"showarrow\":false,\"text\":\"CrossTraining=0\",\"x\":0.075,\"xanchor\":\"center\",\"xref\":\"paper\",\"y\":1.0,\"yanchor\":\"bottom\",\"yref\":\"paper\"},{\"font\":{},\"showarrow\":false,\"text\":\"CrossTraining=1\",\"x\":0.24499999999999997,\"xanchor\":\"center\",\"xref\":\"paper\",\"y\":1.0,\"yanchor\":\"bottom\",\"yref\":\"paper\"},{\"font\":{},\"showarrow\":false,\"text\":\"CrossTraining=3\",\"x\":0.415,\"xanchor\":\"center\",\"xref\":\"paper\",\"y\":1.0,\"yanchor\":\"bottom\",\"yref\":\"paper\"},{\"font\":{},\"showarrow\":false,\"text\":\"CrossTraining=5\",\"x\":0.585,\"xanchor\":\"center\",\"xref\":\"paper\",\"y\":1.0,\"yanchor\":\"bottom\",\"yref\":\"paper\"},{\"font\":{},\"showarrow\":false,\"text\":\"CrossTraining=4\",\"x\":0.7549999999999999,\"xanchor\":\"center\",\"xref\":\"paper\",\"y\":1.0,\"yanchor\":\"bottom\",\"yref\":\"paper\"},{\"font\":{},\"showarrow\":false,\"text\":\"CrossTraining=2\",\"x\":0.925,\"xanchor\":\"center\",\"xref\":\"paper\",\"y\":1.0,\"yanchor\":\"bottom\",\"yref\":\"paper\"}],\"coloraxis\":{\"colorbar\":{\"title\":{\"text\":\"sp4week\"}},\"colorscale\":[[0.0,\"#0d0887\"],[0.1111111111111111,\"#46039f\"],[0.2222222222222222,\"#7201a8\"],[0.3333333333333333,\"#9c179e\"],[0.4444444444444444,\"#bd3786\"],[0.5555555555555556,\"#d8576b\"],[0.6666666666666666,\"#ed7953\"],[0.7777777777777778,\"#fb9f3a\"],[0.8888888888888888,\"#fdca26\"],[1.0,\"#f0f921\"]]},\"legend\":{\"tracegroupgap\":0},\"margin\":{\"t\":60}},                        {\"responsive\": true}                    ).then(function(){\n",
              "                            \n",
              "var gd = document.getElementById('245c9083-470b-4d2e-a672-6a8e69b4456a');\n",
              "var x = new MutationObserver(function (mutations, observer) {{\n",
              "        var display = window.getComputedStyle(gd).display;\n",
              "        if (!display || display === 'none') {{\n",
              "            console.log([gd, 'removed!']);\n",
              "            Plotly.purge(gd);\n",
              "            observer.disconnect();\n",
              "        }}\n",
              "}});\n",
              "\n",
              "// Listen for the removal of the full notebook cells\n",
              "var notebookContainer = gd.closest('#notebook-container');\n",
              "if (notebookContainer) {{\n",
              "    x.observe(notebookContainer, {childList: true});\n",
              "}}\n",
              "\n",
              "// Listen for the clearing of the current output cell\n",
              "var outputEl = gd.closest('.output');\n",
              "if (outputEl) {{\n",
              "    x.observe(outputEl, {childList: true});\n",
              "}}\n",
              "\n",
              "                        })                };                            </script>        </div>\n",
              "</body>\n",
              "</html>"
            ]
          },
          "metadata": {}
        }
      ]
    },
    {
      "cell_type": "markdown",
      "source": [
        "##Estadísticas"
      ],
      "metadata": {
        "id": "E4wpyHu7sCzO"
      }
    },
    {
      "cell_type": "code",
      "source": [
        "datos_maraton.describe()"
      ],
      "metadata": {
        "colab": {
          "base_uri": "https://localhost:8080/",
          "height": 300
        },
        "id": "009McVPTrvMM",
        "outputId": "ca1cf499-9923-4721-a62b-31e8d7010f44"
      },
      "execution_count": null,
      "outputs": [
        {
          "output_type": "execute_result",
          "data": {
            "text/html": [
              "\n",
              "  <div id=\"df-30d022fa-b464-4c36-99e5-b7691dcd0f1e\">\n",
              "    <div class=\"colab-df-container\">\n",
              "      <div>\n",
              "<style scoped>\n",
              "    .dataframe tbody tr th:only-of-type {\n",
              "        vertical-align: middle;\n",
              "    }\n",
              "\n",
              "    .dataframe tbody tr th {\n",
              "        vertical-align: top;\n",
              "    }\n",
              "\n",
              "    .dataframe thead th {\n",
              "        text-align: right;\n",
              "    }\n",
              "</style>\n",
              "<table border=\"1\" class=\"dataframe\">\n",
              "  <thead>\n",
              "    <tr style=\"text-align: right;\">\n",
              "      <th></th>\n",
              "      <th>Category</th>\n",
              "      <th>km4week</th>\n",
              "      <th>sp4week</th>\n",
              "      <th>CrossTraining</th>\n",
              "      <th>Wall21</th>\n",
              "      <th>MarathonTime</th>\n",
              "    </tr>\n",
              "  </thead>\n",
              "  <tbody>\n",
              "    <tr>\n",
              "      <th>count</th>\n",
              "      <td>87.000000</td>\n",
              "      <td>87.000000</td>\n",
              "      <td>87.000000</td>\n",
              "      <td>87.000000</td>\n",
              "      <td>87.000000</td>\n",
              "      <td>87.000000</td>\n",
              "    </tr>\n",
              "    <tr>\n",
              "      <th>mean</th>\n",
              "      <td>1.954023</td>\n",
              "      <td>62.347126</td>\n",
              "      <td>139.840706</td>\n",
              "      <td>0.436782</td>\n",
              "      <td>1.518161</td>\n",
              "      <td>3.319080</td>\n",
              "    </tr>\n",
              "    <tr>\n",
              "      <th>std</th>\n",
              "      <td>1.469916</td>\n",
              "      <td>26.956019</td>\n",
              "      <td>1191.427864</td>\n",
              "      <td>1.138146</td>\n",
              "      <td>0.462522</td>\n",
              "      <td>0.376923</td>\n",
              "    </tr>\n",
              "    <tr>\n",
              "      <th>min</th>\n",
              "      <td>0.000000</td>\n",
              "      <td>17.900000</td>\n",
              "      <td>8.031414</td>\n",
              "      <td>0.000000</td>\n",
              "      <td>0.000000</td>\n",
              "      <td>2.370000</td>\n",
              "    </tr>\n",
              "    <tr>\n",
              "      <th>25%</th>\n",
              "      <td>1.000000</td>\n",
              "      <td>44.200000</td>\n",
              "      <td>11.498168</td>\n",
              "      <td>0.000000</td>\n",
              "      <td>1.440000</td>\n",
              "      <td>3.045000</td>\n",
              "    </tr>\n",
              "    <tr>\n",
              "      <th>50%</th>\n",
              "      <td>1.000000</td>\n",
              "      <td>58.800000</td>\n",
              "      <td>12.163424</td>\n",
              "      <td>0.000000</td>\n",
              "      <td>1.610000</td>\n",
              "      <td>3.320000</td>\n",
              "    </tr>\n",
              "    <tr>\n",
              "      <th>75%</th>\n",
              "      <td>3.000000</td>\n",
              "      <td>77.500000</td>\n",
              "      <td>12.854036</td>\n",
              "      <td>0.000000</td>\n",
              "      <td>1.755000</td>\n",
              "      <td>3.605000</td>\n",
              "    </tr>\n",
              "    <tr>\n",
              "      <th>max</th>\n",
              "      <td>6.000000</td>\n",
              "      <td>137.500000</td>\n",
              "      <td>11125.000000</td>\n",
              "      <td>5.000000</td>\n",
              "      <td>2.050000</td>\n",
              "      <td>3.980000</td>\n",
              "    </tr>\n",
              "  </tbody>\n",
              "</table>\n",
              "</div>\n",
              "      <button class=\"colab-df-convert\" onclick=\"convertToInteractive('df-30d022fa-b464-4c36-99e5-b7691dcd0f1e')\"\n",
              "              title=\"Convert this dataframe to an interactive table.\"\n",
              "              style=\"display:none;\">\n",
              "        \n",
              "  <svg xmlns=\"http://www.w3.org/2000/svg\" height=\"24px\"viewBox=\"0 0 24 24\"\n",
              "       width=\"24px\">\n",
              "    <path d=\"M0 0h24v24H0V0z\" fill=\"none\"/>\n",
              "    <path d=\"M18.56 5.44l.94 2.06.94-2.06 2.06-.94-2.06-.94-.94-2.06-.94 2.06-2.06.94zm-11 1L8.5 8.5l.94-2.06 2.06-.94-2.06-.94L8.5 2.5l-.94 2.06-2.06.94zm10 10l.94 2.06.94-2.06 2.06-.94-2.06-.94-.94-2.06-.94 2.06-2.06.94z\"/><path d=\"M17.41 7.96l-1.37-1.37c-.4-.4-.92-.59-1.43-.59-.52 0-1.04.2-1.43.59L10.3 9.45l-7.72 7.72c-.78.78-.78 2.05 0 2.83L4 21.41c.39.39.9.59 1.41.59.51 0 1.02-.2 1.41-.59l7.78-7.78 2.81-2.81c.8-.78.8-2.07 0-2.86zM5.41 20L4 18.59l7.72-7.72 1.47 1.35L5.41 20z\"/>\n",
              "  </svg>\n",
              "      </button>\n",
              "      \n",
              "  <style>\n",
              "    .colab-df-container {\n",
              "      display:flex;\n",
              "      flex-wrap:wrap;\n",
              "      gap: 12px;\n",
              "    }\n",
              "\n",
              "    .colab-df-convert {\n",
              "      background-color: #E8F0FE;\n",
              "      border: none;\n",
              "      border-radius: 50%;\n",
              "      cursor: pointer;\n",
              "      display: none;\n",
              "      fill: #1967D2;\n",
              "      height: 32px;\n",
              "      padding: 0 0 0 0;\n",
              "      width: 32px;\n",
              "    }\n",
              "\n",
              "    .colab-df-convert:hover {\n",
              "      background-color: #E2EBFA;\n",
              "      box-shadow: 0px 1px 2px rgba(60, 64, 67, 0.3), 0px 1px 3px 1px rgba(60, 64, 67, 0.15);\n",
              "      fill: #174EA6;\n",
              "    }\n",
              "\n",
              "    [theme=dark] .colab-df-convert {\n",
              "      background-color: #3B4455;\n",
              "      fill: #D2E3FC;\n",
              "    }\n",
              "\n",
              "    [theme=dark] .colab-df-convert:hover {\n",
              "      background-color: #434B5C;\n",
              "      box-shadow: 0px 1px 3px 1px rgba(0, 0, 0, 0.15);\n",
              "      filter: drop-shadow(0px 1px 2px rgba(0, 0, 0, 0.3));\n",
              "      fill: #FFFFFF;\n",
              "    }\n",
              "  </style>\n",
              "\n",
              "      <script>\n",
              "        const buttonEl =\n",
              "          document.querySelector('#df-30d022fa-b464-4c36-99e5-b7691dcd0f1e button.colab-df-convert');\n",
              "        buttonEl.style.display =\n",
              "          google.colab.kernel.accessAllowed ? 'block' : 'none';\n",
              "\n",
              "        async function convertToInteractive(key) {\n",
              "          const element = document.querySelector('#df-30d022fa-b464-4c36-99e5-b7691dcd0f1e');\n",
              "          const dataTable =\n",
              "            await google.colab.kernel.invokeFunction('convertToInteractive',\n",
              "                                                     [key], {});\n",
              "          if (!dataTable) return;\n",
              "\n",
              "          const docLinkHtml = 'Like what you see? Visit the ' +\n",
              "            '<a target=\"_blank\" href=https://colab.research.google.com/notebooks/data_table.ipynb>data table notebook</a>'\n",
              "            + ' to learn more about interactive tables.';\n",
              "          element.innerHTML = '';\n",
              "          dataTable['output_type'] = 'display_data';\n",
              "          await google.colab.output.renderOutput(dataTable, element);\n",
              "          const docLink = document.createElement('div');\n",
              "          docLink.innerHTML = docLinkHtml;\n",
              "          element.appendChild(docLink);\n",
              "        }\n",
              "      </script>\n",
              "    </div>\n",
              "  </div>\n",
              "  "
            ],
            "text/plain": [
              "        Category     km4week  ...     Wall21  MarathonTime\n",
              "count  87.000000   87.000000  ...  87.000000     87.000000\n",
              "mean    1.954023   62.347126  ...   1.518161      3.319080\n",
              "std     1.469916   26.956019  ...   0.462522      0.376923\n",
              "min     0.000000   17.900000  ...   0.000000      2.370000\n",
              "25%     1.000000   44.200000  ...   1.440000      3.045000\n",
              "50%     1.000000   58.800000  ...   1.610000      3.320000\n",
              "75%     3.000000   77.500000  ...   1.755000      3.605000\n",
              "max     6.000000  137.500000  ...   2.050000      3.980000\n",
              "\n",
              "[8 rows x 6 columns]"
            ]
          },
          "metadata": {},
          "execution_count": 171
        }
      ]
    },
    {
      "cell_type": "code",
      "source": [
        "datos_maraton.hist()"
      ],
      "metadata": {
        "colab": {
          "base_uri": "https://localhost:8080/",
          "height": 402
        },
        "id": "DcVMC4dR-AcY",
        "outputId": "c5fc6c20-5325-4c16-a45a-be60d2cb7b65"
      },
      "execution_count": null,
      "outputs": [
        {
          "output_type": "execute_result",
          "data": {
            "text/plain": [
              "array([[<matplotlib.axes._subplots.AxesSubplot object at 0x7f616542e410>,\n",
              "        <matplotlib.axes._subplots.AxesSubplot object at 0x7f61653f6bd0>],\n",
              "       [<matplotlib.axes._subplots.AxesSubplot object at 0x7f61653aa210>,\n",
              "        <matplotlib.axes._subplots.AxesSubplot object at 0x7f6165358810>],\n",
              "       [<matplotlib.axes._subplots.AxesSubplot object at 0x7f6165307e10>,\n",
              "        <matplotlib.axes._subplots.AxesSubplot object at 0x7f61652c2450>]],\n",
              "      dtype=object)"
            ]
          },
          "metadata": {},
          "execution_count": 172
        },
        {
          "output_type": "display_data",
          "data": {
            "image/png": "[encoded data removed]",
            "text/plain": [
              "<Figure size 432x288 with 6 Axes>"
            ]
          },
          "metadata": {
            "needs_background": "light"
          }
        }
      ]
    },
    {
      "cell_type": "code",
      "source": [
        "import plotly.figure_factory as ff\n",
        "\n",
        "time_arr_list=[np.array(datos_maraton['MarathonTime'])]\n",
        "group_labels=['Tiempos de maratón']\n",
        "fig9=ff.create_distplot(time_arr_list,group_labels,bin_size=0.15) #bin_size me va a determinar el tamaño de la distribución de los datos\n",
        "fig9.show()"
      ],
      "metadata": {
        "colab": {
          "base_uri": "https://localhost:8080/",
          "height": 542
        },
        "id": "xccAYRUF2b2F",
        "outputId": "c75fdc80-dcc7-4334-bae0-66d1c4e40284"
      },
      "execution_count": null,
      "outputs": [
        {
          "output_type": "display_data",
          "data": {
            "text/html": [
              "<html>\n",
              "<head><meta charset=\"utf-8\" /></head>\n",
              "<body>\n",
              "    <div>            <script src=\"https://cdnjs.cloudflare.com/ajax/libs/mathjax/2.7.5/MathJax.js?config=TeX-AMS-MML_SVG\"></script><script type=\"text/javascript\">if (window.MathJax) {MathJax.Hub.Config({SVG: {font: \"STIX-Web\"}});}</script>                <script type=\"text/javascript\">window.PlotlyConfig = {MathJaxConfig: 'local'};</script>\n",
              "        <script src=\"https://cdn.plot.ly/plotly-2.8.3.min.js\"></script>                <div id=\"f6647e67-bb12-45ee-afe4-49b732a42d8e\" class=\"plotly-graph-div\" style=\"height:525px; width:100%;\"></div>            <script type=\"text/javascript\">                                    window.PLOTLYENV=window.PLOTLYENV || {};                                    if (document.getElementById(\"f6647e67-bb12-45ee-afe4-49b732a42d8e\")) {                    Plotly.newPlot(                        \"f6647e67-bb12-45ee-afe4-49b732a42d8e\",                        [{\"autobinx\":false,\"histnorm\":\"probability density\",\"legendgroup\":\"Tiempos de marat\\u00f3n\",\"marker\":{\"color\":\"rgb(31, 119, 180)\"},\"name\":\"Tiempos de marat\\u00f3n\",\"opacity\":0.7,\"x\":[2.37,2.59,2.66,2.68,2.74,2.78,2.81,2.84,2.83,2.86,2.87,2.87,2.88,2.88,2.89,2.9,2.91,2.91,2.93,2.94,2.99,3.04,3.05,3.09,3.1,3.11,3.12,3.14,3.15,3.16,3.19,3.19,3.21,3.21,3.22,3.22,3.23,3.24,3.24,3.25,3.28,3.28,3.32,3.32,3.32,3.33,3.33,3.35,3.36,3.39,3.4,3.45,3.46,3.47,3.47,3.5,3.5,3.51,3.52,3.52,3.55,3.55,3.56,3.56,3.59,3.62,3.64,3.64,3.65,3.67,3.68,3.69,3.69,3.75,3.76,3.78,3.8,3.87,3.89,3.9,3.9,3.92,3.93,3.93,3.94,3.95,3.98],\"xaxis\":\"x\",\"xbins\":{\"end\":3.98,\"size\":0.15,\"start\":2.37},\"yaxis\":\"y\",\"type\":\"histogram\"},{\"legendgroup\":\"Tiempos de marat\\u00f3n\",\"marker\":{\"color\":\"rgb(31, 119, 180)\"},\"mode\":\"lines\",\"name\":\"Tiempos de marat\\u00f3n\",\"showlegend\":false,\"x\":[2.37,2.37322,2.37644,2.37966,2.38288,2.3861,2.38932,2.39254,2.39576,2.39898,2.4022,2.40542,2.40864,2.41186,2.41508,2.4183,2.42152,2.42474,2.42796,2.43118,2.4344,2.43762,2.44084,2.44406,2.44728,2.4505,2.45372,2.45694,2.46016,2.46338,2.4666,2.46982,2.47304,2.47626,2.47948,2.4827,2.48592,2.48914,2.49236,2.49558,2.4988,2.50202,2.50524,2.50846,2.51168,2.5149,2.51812,2.52134,2.52456,2.52778,2.531,2.53422,2.53744,2.54066,2.54388,2.5471,2.55032,2.55354,2.55676,2.55998,2.5632,2.56642,2.56964,2.57286,2.57608,2.5793,2.58252,2.58574,2.58896,2.59218,2.5954,2.59862,2.60184,2.60506,2.60828,2.6115,2.61472,2.61794,2.62116,2.62438,2.6276,2.63082,2.63404,2.63726,2.64048,2.6437,2.64692,2.65014,2.65336,2.65658,2.6598,2.66302,2.66624,2.66946,2.67268,2.6759,2.67912,2.68234,2.68556,2.68878,2.692,2.69522,2.69844,2.70166,2.70488,2.7081,2.71132,2.71454,2.71776,2.72098,2.7242,2.72742,2.73064,2.73386,2.73708,2.7403,2.74352,2.74674,2.74996,2.75318,2.7564,2.75962,2.76284,2.76606,2.76928,2.7725,2.77572,2.77894,2.78216,2.78538,2.7886,2.79182,2.79504,2.79826,2.80148,2.8047,2.80792,2.81114,2.81436,2.81758,2.8208,2.82402,2.82724,2.83046,2.83368,2.8369,2.84012,2.84334,2.84656,2.84978,2.853,2.85622,2.85944,2.86266,2.86588,2.8691,2.87232,2.87554,2.8787599999999998,2.88198,2.8852,2.88842,2.89164,2.89486,2.89808,2.9013,2.90452,2.90774,2.91096,2.91418,2.9174,2.92062,2.92384,2.92706,2.93028,2.9335,2.93672,2.93994,2.94316,2.94638,2.9496,2.95282,2.9560400000000002,2.95926,2.9624800000000002,2.9657,2.9689200000000002,2.97214,2.9753600000000002,2.97858,2.9818,2.98502,2.9882400000000002,2.99146,2.99468,2.9979,3.0011200000000002,3.00434,3.00756,3.01078,3.0140000000000002,3.01722,3.02044,3.02366,3.0268800000000002,3.0301,3.03332,3.03654,3.0397600000000002,3.04298,3.0462,3.04942,3.0526400000000002,3.05586,3.05908,3.0623,3.0655200000000002,3.06874,3.07196,3.07518,3.0784000000000002,3.08162,3.08484,3.08806,3.0912800000000002,3.0945,3.09772,3.10094,3.1041600000000003,3.10738,3.1106,3.11382,3.1170400000000003,3.12026,3.12348,3.1267,3.1299200000000003,3.13314,3.13636,3.13958,3.1428000000000003,3.14602,3.14924,3.15246,3.1556800000000003,3.1589,3.16212,3.16534,3.1685600000000003,3.17178,3.175,3.17822,3.1814400000000003,3.18466,3.18788,3.1911,3.1943200000000003,3.19754,3.20076,3.20398,3.2072000000000003,3.21042,3.21364,3.21686,3.2200800000000003,3.2233,3.22652,3.22974,3.2329600000000003,3.23618,3.2394,3.24262,3.2458400000000003,3.24906,3.25228,3.2555,3.2587200000000003,3.26194,3.26516,3.26838,3.2716000000000003,3.27482,3.27804,3.28126,3.2844800000000003,3.2877,3.29092,3.29414,3.29736,3.30058,3.3038,3.30702,3.31024,3.31346,3.31668,3.3199,3.32312,3.32634,3.32956,3.33278,3.336,3.33922,3.34244,3.34566,3.34888,3.3521,3.35532,3.35854,3.36176,3.36498,3.3682,3.37142,3.3746400000000003,3.37786,3.38108,3.3843,3.38752,3.39074,3.39396,3.3971799999999996,3.4004,3.40362,3.40684,3.41006,3.4132800000000003,3.4165,3.41972,3.4229399999999996,3.42616,3.42938,3.4326,3.43582,3.4390400000000003,3.44226,3.44548,3.4486999999999997,3.45192,3.45514,3.45836,3.46158,3.4648000000000003,3.46802,3.47124,3.4744599999999997,3.47768,3.4809,3.48412,3.48734,3.4905600000000003,3.49378,3.497,3.5002199999999997,3.50344,3.50666,3.50988,3.5131,3.5163200000000003,3.51954,3.52276,3.52598,3.5292,3.53242,3.53564,3.53886,3.5420800000000003,3.5453,3.54852,3.55174,3.55496,3.55818,3.5614,3.5646199999999997,3.5678400000000003,3.57106,3.57428,3.5775,3.58072,3.58394,3.58716,3.5903799999999997,3.5936,3.59682,3.60004,3.60326,3.6064800000000004,3.6097,3.61292,3.6161399999999997,3.61936,3.62258,3.6258,3.62902,3.6322400000000004,3.63546,3.63868,3.6418999999999997,3.64512,3.64834,3.65156,3.65478,3.6580000000000004,3.66122,3.66444,3.6676599999999997,3.67088,3.6741,3.67732,3.68054,3.6837600000000004,3.68698,3.6902,3.6934199999999997,3.69664,3.69986,3.70308,3.7063,3.7095200000000004,3.71274,3.71596,3.7191799999999997,3.7224,3.72562,3.72884,3.73206,3.7352800000000004,3.7385,3.74172,3.7449399999999997,3.74816,3.75138,3.7546,3.7578199999999997,3.7610400000000004,3.76426,3.76748,3.7706999999999997,3.77392,3.77714,3.78036,3.7835799999999997,3.7868000000000004,3.79002,3.79324,3.7964599999999997,3.79968,3.8029,3.80612,3.8093399999999997,3.81256,3.81578,3.819,3.8222199999999997,3.82544,3.82866,3.83188,3.8350999999999997,3.83832,3.84154,3.84476,3.8479799999999997,3.8512,3.85442,3.85764,3.8608599999999997,3.86408,3.8673,3.87052,3.8737399999999997,3.87696,3.88018,3.8834,3.8866199999999997,3.88984,3.89306,3.89628,3.8994999999999997,3.90272,3.90594,3.90916,3.9123799999999997,3.9156,3.91882,3.92204,3.92526,3.92848,3.9317,3.93492,3.9381399999999998,3.94136,3.94458,3.9478,3.95102,3.95424,3.95746,3.96068,3.9638999999999998,3.96712,3.97034,3.97356,3.9767799999999998],\"xaxis\":\"x\",\"y\":[0.05435341410954555,0.05533018533128669,0.056325032291829405,0.05733861733005914,0.05837162095878733,0.05942474142300404,0.06049869421905786,0.06159421157538943,0.06271204189552348,0.06385294916408182,0.06501771231664967,0.066207124574373,0.06742199274422082,0.06866313648588233,0.0699313875463111,0.071227588962951,0.07255259423670908,0.0739072664757511,0.07529247751121138,0.07670910698590722,0.07815804141715334,0.07964017323475668,0.08115639979526558,0.0827076223735252,0.08429474513256849,0.08591867407284615,0.0875803159617687,0.08928057724448976,0.09102036293684027,0.09280057550126099,0.09462211370655808,0.09648587147224973,0.09839273669823981,0.10034359008050074,0.10233930391341235,0.10438074087936298,0.10646875282617797,0.10860417953290374,0.11078784746445351,0.11302056851557987,0.11530313874463373,0.1176363370975329,0.12002092412238147,0.12245764067514578,0.12494720661682979,0.1274903195025795,0.1300876532631869,0.1327398568794824,0.13544755305015424,0.13821133685357156,0.14103177440426345,0.1439094015047584,0.1468447222935838,0.14983820789030336,0.15289029503858412,0.15600138474837436,0.15917184093842016,0.1624019890804498,0.1656921148465183,0.16904246276112822,0.1724532348599239,0.1759245893568821,0.17945663932213307,0.18304945137267953,0.18670304437848417,0.19041738818657253,0.1941924023659794,0.19802795497654951,0.20192386136480428,0.20587988299024984,0.20989572628570094,0.2139710415553682,0.2181054219146305,0.22229840227556957,0.22654945838253274,0.23085800590209493,0.23522339957197275,0.23964493241352983,0.24412183501266438,0.24865327487391242,0.2532383558527425,0.2578761176710126,0.2625655355206512,0.2673055197606114,0.27209491571216593,0.27693250355755566,0.28181699834699203,0.2867470501188929,0.29172124413816636,0.2967381012571972,0.30179607840406114,0.306893569202267,0.312028904726166,0.31720035439585265,0.322406127015193,0.32764437195623347,0.33291318049297935,0.3382105872871178,0.3435345720279435,0.34888306122823776,0.35425393017752493,0.35964500505356717,0.3650540651925477,0.3704788455178201,0.3759170391266432,0.3813663000336881,0.3868242460696298,0.39228846193247036,0.3977565023887191,0.40322589562089206,0.40869414671722837,0.4141587412988663,0.41961714927913685,0.42506682874896046,0.43050522998178414,0.43592979955079914,0.44133798455064893,0.44672723691519156,0.45209501782232425,0.4574388021762942,0.4627560831574053,0.4680443768284739,0.4733012267869099,0.4785242088508312,0.48371093576717944,0.48885906192939693,0.49396628809187565,0.49903036606803425,0.5040491033986263,0.5090203679766067,0.5139420926147276,0.5188122795418273,0.5236290048137534,0.5283904226247296,0.5330947695050406,0.5377403683909326,0.5423256325527642,0.5468490693675504,0.5513092839223477,0.5557049824351205,0.560034975480101,0.5642981810050398,0.5684936271281648,0.5726204547031595,0.5766779196410438,0.5806653949783802,0.5845823726819271,0.5884284651805193,0.5922034066157068,0.5959070538034349,0.5995393868999203,0.603100509765674,0.6065906500225575,0.6100101587996671,0.6133595101647901,0.6166393002391511,0.6198502459941891,0.6229931837300833,0.626069067236804,0.6290789656394992,0.6320240609310598,0.6349056451957727,0.6377251175290024,0.640483980658871,0.6431838372769718,0.6458263860861102,0.6484134175741123,0.6509468095236668,0.6534285222691487,0.6558605937122599,0.658245134109205,0.6605843206429818,0.6628803917951336,0.6651356415320783,0.6673524133218544,0.6695330939977405,0.6716801074858331,0.6737959084141992,0.6758829756217236,0.6779438055851577,0.6799809057832857,0.6819967880173706,0.6839939617073302,0.6859749271831903,0.6879421689915375,0.6898981492366353,0.6918453009759223,0.6937860216893987,0.6957226668423387,0.697657543560435,0.6995929044362176,0.7015309414851957,0.7034737802697562,0.705423474208302,0.7073819990865955,0.7093512477876377,0.7113330252557118,0.713329043709526,0.7153409181185826,0.717370161956062,0.719418183240672,0.7214862808789475,0.7235756413185642,0.7256873355222322,0.7278223162706862,0.7299814158022964,0.7321653437956939,0.7343746857007437,0.7366099014220823,0.7388713243583294,0.7411591607989362,0.7434734896795198,0.7458142626953884,0.7481813047718661,0.7505743148888653,0.7529928672560942,0.7554364128341695,0.7579042811958484,0.760395682720548,0.7629097111143066,0.7654453462463272,0.7680014572923454,0.7705768061740818,0.7731700512832014,0.7757797514773648,0.778404370335148,0.7810422806558734,0.7836917691897158,0.786351041582763,0.7890182275211882,0.7916913860580752,0.7943685111060483,0.7970475370783491,0.799726344660735,0.8024027666961744,0.8050745941641633,0.8077395822362325,0.8103954563891497,0.8130399185572139,0.8156706533050744,0.8182853340025428,0.8208816289829951,0.8234572076671342,0.8260097466341152,0.8285369356223228,0.8310364834424387,0.8335061237858301,0.8359436209117364,0.8383467751972246,0.8407134285344486,0.8430414695602984,0.8453288387042053,0.8475735330404865,0.8497736109323881,0.8519271964556663,0.8540324835903798,0.8560877401703366,0.8580913115804979,0.8600416241934965,0.8619371885373058,0.8637766021869919,0.86555855237441,0.8672818183106356,0.8689452732168184,0.8705478860601674,0.8720887229926345,0.873566948490886,0.874981826197035,0.8763327194605998,0.8776190915830349,0.8788405057671338,0.8799966247744913,0.8810872102950901,0.8821121220339668,0.8830713165207378,0.8839648456485842,0.884792854950095,0.8855555816181142,0.8862533522805034,0.8868865805383696,0.887455764278009,0.8879614827674452,0.8884043935489714,0.888785229139716,0.8891047935526877,0.8893639586512497,0.8895636603503675,0.8897048946783358,0.889788713713012,0.8898162214068571,0.8897885693152884,0.8897069522430512,0.8895726038234003,0.8893867920449942,0.8891508147414208,0.8888659950582324,0.8885336769123321,0.8881552204584042,0.8877319975769453,0.88726538739823,0.8867567718762775,0.8862075314266343,0.8856190406413843,0.8849926640944732,0.8843297522499861,0.8836316374855618,0.8828996302426383,0.8821350153146944,0.8813390482841059,0.8805129521176086,0.8796579139297921,0.8787750819233625,0.8778655625142782,0.876930417649149,0.8759706623216047,0.8749872622936054,0.8739811320269302,0.8729531328293447,0.8719040712191886,0.8708346975113473,0.8697457046268463,0.8686377271274958,0.8675113404762913,0.8663670605234927,0.8652053432175537,0.8640265845393529,0.8628311206574102,0.861619228301092,0.8603911253480799,0.8591469716217102,0.8578868698931236,0.8566108670825171,0.8553189556531915,0.8540110751914753,0.8526871141650638,0.8513469118517633,0.8499902604301292,0.8486169072230403,0.8472265570847628,0.8458188749217144,0.8443934883367253,0.8429499903862864,0.84148794243997,0.8400068771309523,0.8385063013863544,0.8369856995259264,0.8354445364174707,0.8338822606772772,0.8322983079038109,0.8306921039328172,0.8290630681020786,0.8274106165140507,0.8257341652847321,0.8240331337672303,0.8223069477386329,0.8205550425390123,0.8187768661515947,0.8169718822134048,0.8151395729459758,0.813279441996047,0.8113910171765177,0.8094738530983177,0.8075275336842438,0.8055516745562743,0.8035459252883007,0.8015099715167121,0.7994435369017766,0.7973463849332573,0.7952183205742676,0.7930591917379087,0.7908688905917964,0.7886473546861734,0.786394567901902,0.7841105612151993,0.7817954132766334,0.779449250802461,0.7770722487770539,0.7746646304657284,0.7722266672379585,0.7697586782015442,0.7672610296489301,0.7647341343174714,0.7621784504660722,0.7595944807711797,0.756982771045747,0.7543439087853118,0.7516785215459438,0.7489872751593166,0.7462708717907368,0.743530047846449,0.7407655717370478,0.7379782415043007,0.7351688823191495,0.732338343859085,0.7294874975735013,0.726617233846033,0.7237284590632292,0.7208220925992516,0.7178990637265982,0.7149603084631242,0.7120067663658839,0.7090393772825245,0.7060590780711635,0.7030667992998199,0.700063461936598,0.697049974041906,0.69402722747405,0.6909960946195506,0.6879574251595322,0.68491204288347,0.6818607425614998,0.6788042868863744,0.675743403495998,0.672678782087277,0.6696110716317994,0.6665408777035982,0.6634687599289641,0.6603952295679416,0.6573207472367797,0.6542457207802301,0.6511705033021512,0.6480953913624282,0.645020623347736,0.6419463780231675,0.6388727732712076,0.6357998650239691,0.6327276463940288,0.6296560470085933,0.6265849325510838,0.6235141045136087,0.6204433001630892,0.6173721927231657,0.6143003917732992,0.6112274438657801,0.6081528333606545,0.6050759834778611,0.6019962575651434,0.5989129605795964,0.5958253407799718,0.5927325916261525,0.5896338538815179,0.5865282179131862,0.5834147261844536,0.5802923759330723,0.5771601220283444,0.5740168799993682,0.5708615292261576,0.5676929162847539,0.5645098584368949,0.5613111472542421,0.5580955523666745,0.5548618253236764,0.551608703557399,0.5483349144355733,0.545039179392081,0.5417202181226685,0.5383767528329984,0.5350075125259911,0.5316112373152128,0.5281866827509055,0.5247326241451628,0.5212478608826798,0.5177312207034956,0.5141815639441922,0.5105977877240834,0.5069788300630662,0.5033236739179803,0.49963135112454554,0.49590094623222924,0.4921316002196989,0.48832251407888433,0.4844729522560721,0.48058224593891785,0.47664979617872877,0.47267507683790294,0.4686576373529826,0.4645971053043583,0.46049318878430895,0.4563456785556994,0.4521544499943647,0.4479194648089119,0.4436407725323968,0.43931851178109976,0.4349529112763738,0.43054429062634586,0.4260930608650093,0.42159972474708235,0.4170648767977761,0.4124892031174427,0.4078734809418636,0.40321857795973526,0.39852545138969814,0.3937951468200371,0.3890287968149249,0.38422761929184895,0.3793929156755526,0.3745260688345616,0.36962854080701146,0.3647018703231409,0.35974767013245657],\"yaxis\":\"y\",\"type\":\"scatter\"},{\"legendgroup\":\"Tiempos de marat\\u00f3n\",\"marker\":{\"color\":\"rgb(31, 119, 180)\",\"symbol\":\"line-ns-open\"},\"mode\":\"markers\",\"name\":\"Tiempos de marat\\u00f3n\",\"showlegend\":false,\"x\":[2.37,2.59,2.66,2.68,2.74,2.78,2.81,2.84,2.83,2.86,2.87,2.87,2.88,2.88,2.89,2.9,2.91,2.91,2.93,2.94,2.99,3.04,3.05,3.09,3.1,3.11,3.12,3.14,3.15,3.16,3.19,3.19,3.21,3.21,3.22,3.22,3.23,3.24,3.24,3.25,3.28,3.28,3.32,3.32,3.32,3.33,3.33,3.35,3.36,3.39,3.4,3.45,3.46,3.47,3.47,3.5,3.5,3.51,3.52,3.52,3.55,3.55,3.56,3.56,3.59,3.62,3.64,3.64,3.65,3.67,3.68,3.69,3.69,3.75,3.76,3.78,3.8,3.87,3.89,3.9,3.9,3.92,3.93,3.93,3.94,3.95,3.98],\"xaxis\":\"x\",\"y\":[\"Tiempos de marat\\u00f3n\",\"Tiempos de marat\\u00f3n\",\"Tiempos de marat\\u00f3n\",\"Tiempos de marat\\u00f3n\",\"Tiempos de marat\\u00f3n\",\"Tiempos de marat\\u00f3n\",\"Tiempos de marat\\u00f3n\",\"Tiempos de marat\\u00f3n\",\"Tiempos de marat\\u00f3n\",\"Tiempos de marat\\u00f3n\",\"Tiempos de marat\\u00f3n\",\"Tiempos de marat\\u00f3n\",\"Tiempos de marat\\u00f3n\",\"Tiempos de marat\\u00f3n\",\"Tiempos de marat\\u00f3n\",\"Tiempos de marat\\u00f3n\",\"Tiempos de marat\\u00f3n\",\"Tiempos de marat\\u00f3n\",\"Tiempos de marat\\u00f3n\",\"Tiempos de marat\\u00f3n\",\"Tiempos de marat\\u00f3n\",\"Tiempos de marat\\u00f3n\",\"Tiempos de marat\\u00f3n\",\"Tiempos de marat\\u00f3n\",\"Tiempos de marat\\u00f3n\",\"Tiempos de marat\\u00f3n\",\"Tiempos de marat\\u00f3n\",\"Tiempos de marat\\u00f3n\",\"Tiempos de marat\\u00f3n\",\"Tiempos de marat\\u00f3n\",\"Tiempos de marat\\u00f3n\",\"Tiempos de marat\\u00f3n\",\"Tiempos de marat\\u00f3n\",\"Tiempos de marat\\u00f3n\",\"Tiempos de marat\\u00f3n\",\"Tiempos de marat\\u00f3n\",\"Tiempos de marat\\u00f3n\",\"Tiempos de marat\\u00f3n\",\"Tiempos de marat\\u00f3n\",\"Tiempos de marat\\u00f3n\",\"Tiempos de marat\\u00f3n\",\"Tiempos de marat\\u00f3n\",\"Tiempos de marat\\u00f3n\",\"Tiempos de marat\\u00f3n\",\"Tiempos de marat\\u00f3n\",\"Tiempos de marat\\u00f3n\",\"Tiempos de marat\\u00f3n\",\"Tiempos de marat\\u00f3n\",\"Tiempos de marat\\u00f3n\",\"Tiempos de marat\\u00f3n\",\"Tiempos de marat\\u00f3n\",\"Tiempos de marat\\u00f3n\",\"Tiempos de marat\\u00f3n\",\"Tiempos de marat\\u00f3n\",\"Tiempos de marat\\u00f3n\",\"Tiempos de marat\\u00f3n\",\"Tiempos de marat\\u00f3n\",\"Tiempos de marat\\u00f3n\",\"Tiempos de marat\\u00f3n\",\"Tiempos de marat\\u00f3n\",\"Tiempos de marat\\u00f3n\",\"Tiempos de marat\\u00f3n\",\"Tiempos de marat\\u00f3n\",\"Tiempos de marat\\u00f3n\",\"Tiempos de marat\\u00f3n\",\"Tiempos de marat\\u00f3n\",\"Tiempos de marat\\u00f3n\",\"Tiempos de marat\\u00f3n\",\"Tiempos de marat\\u00f3n\",\"Tiempos de marat\\u00f3n\",\"Tiempos de marat\\u00f3n\",\"Tiempos de marat\\u00f3n\",\"Tiempos de marat\\u00f3n\",\"Tiempos de marat\\u00f3n\",\"Tiempos de marat\\u00f3n\",\"Tiempos de marat\\u00f3n\",\"Tiempos de marat\\u00f3n\",\"Tiempos de marat\\u00f3n\",\"Tiempos de marat\\u00f3n\",\"Tiempos de marat\\u00f3n\",\"Tiempos de marat\\u00f3n\",\"Tiempos de marat\\u00f3n\",\"Tiempos de marat\\u00f3n\",\"Tiempos de marat\\u00f3n\",\"Tiempos de marat\\u00f3n\",\"Tiempos de marat\\u00f3n\",\"Tiempos de marat\\u00f3n\"],\"yaxis\":\"y2\",\"type\":\"scatter\"}],                        {\"barmode\":\"overlay\",\"hovermode\":\"closest\",\"legend\":{\"traceorder\":\"reversed\"},\"xaxis\":{\"anchor\":\"y2\",\"domain\":[0.0,1.0],\"zeroline\":false},\"yaxis\":{\"anchor\":\"free\",\"domain\":[0.35,1],\"position\":0.0},\"yaxis2\":{\"anchor\":\"x\",\"domain\":[0,0.25],\"dtick\":1,\"showticklabels\":false},\"template\":{\"data\":{\"bar\":[{\"error_x\":{\"color\":\"#2a3f5f\"},\"error_y\":{\"color\":\"#2a3f5f\"},\"marker\":{\"line\":{\"color\":\"#E5ECF6\",\"width\":0.5},\"pattern\":{\"fillmode\":\"overlay\",\"size\":10,\"solidity\":0.2}},\"type\":\"bar\"}],\"barpolar\":[{\"marker\":{\"line\":{\"color\":\"#E5ECF6\",\"width\":0.5},\"pattern\":{\"fillmode\":\"overlay\",\"size\":10,\"solidity\":0.2}},\"type\":\"barpolar\"}],\"carpet\":[{\"aaxis\":{\"endlinecolor\":\"#2a3f5f\",\"gridcolor\":\"white\",\"linecolor\":\"white\",\"minorgridcolor\":\"white\",\"startlinecolor\":\"#2a3f5f\"},\"baxis\":{\"endlinecolor\":\"#2a3f5f\",\"gridcolor\":\"white\",\"linecolor\":\"white\",\"minorgridcolor\":\"white\",\"startlinecolor\":\"#2a3f5f\"},\"type\":\"carpet\"}],\"choropleth\":[{\"colorbar\":{\"outlinewidth\":0,\"ticks\":\"\"},\"type\":\"choropleth\"}],\"contour\":[{\"colorbar\":{\"outlinewidth\":0,\"ticks\":\"\"},\"colorscale\":[[0.0,\"#0d0887\"],[0.1111111111111111,\"#46039f\"],[0.2222222222222222,\"#7201a8\"],[0.3333333333333333,\"#9c179e\"],[0.4444444444444444,\"#bd3786\"],[0.5555555555555556,\"#d8576b\"],[0.6666666666666666,\"#ed7953\"],[0.7777777777777778,\"#fb9f3a\"],[0.8888888888888888,\"#fdca26\"],[1.0,\"#f0f921\"]],\"type\":\"contour\"}],\"contourcarpet\":[{\"colorbar\":{\"outlinewidth\":0,\"ticks\":\"\"},\"type\":\"contourcarpet\"}],\"heatmap\":[{\"colorbar\":{\"outlinewidth\":0,\"ticks\":\"\"},\"colorscale\":[[0.0,\"#0d0887\"],[0.1111111111111111,\"#46039f\"],[0.2222222222222222,\"#7201a8\"],[0.3333333333333333,\"#9c179e\"],[0.4444444444444444,\"#bd3786\"],[0.5555555555555556,\"#d8576b\"],[0.6666666666666666,\"#ed7953\"],[0.7777777777777778,\"#fb9f3a\"],[0.8888888888888888,\"#fdca26\"],[1.0,\"#f0f921\"]],\"type\":\"heatmap\"}],\"heatmapgl\":[{\"colorbar\":{\"outlinewidth\":0,\"ticks\":\"\"},\"colorscale\":[[0.0,\"#0d0887\"],[0.1111111111111111,\"#46039f\"],[0.2222222222222222,\"#7201a8\"],[0.3333333333333333,\"#9c179e\"],[0.4444444444444444,\"#bd3786\"],[0.5555555555555556,\"#d8576b\"],[0.6666666666666666,\"#ed7953\"],[0.7777777777777778,\"#fb9f3a\"],[0.8888888888888888,\"#fdca26\"],[1.0,\"#f0f921\"]],\"type\":\"heatmapgl\"}],\"histogram\":[{\"marker\":{\"pattern\":{\"fillmode\":\"overlay\",\"size\":10,\"solidity\":0.2}},\"type\":\"histogram\"}],\"histogram2d\":[{\"colorbar\":{\"outlinewidth\":0,\"ticks\":\"\"},\"colorscale\":[[0.0,\"#0d0887\"],[0.1111111111111111,\"#46039f\"],[0.2222222222222222,\"#7201a8\"],[0.3333333333333333,\"#9c179e\"],[0.4444444444444444,\"#bd3786\"],[0.5555555555555556,\"#d8576b\"],[0.6666666666666666,\"#ed7953\"],[0.7777777777777778,\"#fb9f3a\"],[0.8888888888888888,\"#fdca26\"],[1.0,\"#f0f921\"]],\"type\":\"histogram2d\"}],\"histogram2dcontour\":[{\"colorbar\":{\"outlinewidth\":0,\"ticks\":\"\"},\"colorscale\":[[0.0,\"#0d0887\"],[0.1111111111111111,\"#46039f\"],[0.2222222222222222,\"#7201a8\"],[0.3333333333333333,\"#9c179e\"],[0.4444444444444444,\"#bd3786\"],[0.5555555555555556,\"#d8576b\"],[0.6666666666666666,\"#ed7953\"],[0.7777777777777778,\"#fb9f3a\"],[0.8888888888888888,\"#fdca26\"],[1.0,\"#f0f921\"]],\"type\":\"histogram2dcontour\"}],\"mesh3d\":[{\"colorbar\":{\"outlinewidth\":0,\"ticks\":\"\"},\"type\":\"mesh3d\"}],\"parcoords\":[{\"line\":{\"colorbar\":{\"outlinewidth\":0,\"ticks\":\"\"}},\"type\":\"parcoords\"}],\"pie\":[{\"automargin\":true,\"type\":\"pie\"}],\"scatter\":[{\"marker\":{\"colorbar\":{\"outlinewidth\":0,\"ticks\":\"\"}},\"type\":\"scatter\"}],\"scatter3d\":[{\"line\":{\"colorbar\":{\"outlinewidth\":0,\"ticks\":\"\"}},\"marker\":{\"colorbar\":{\"outlinewidth\":0,\"ticks\":\"\"}},\"type\":\"scatter3d\"}],\"scattercarpet\":[{\"marker\":{\"colorbar\":{\"outlinewidth\":0,\"ticks\":\"\"}},\"type\":\"scattercarpet\"}],\"scattergeo\":[{\"marker\":{\"colorbar\":{\"outlinewidth\":0,\"ticks\":\"\"}},\"type\":\"scattergeo\"}],\"scattergl\":[{\"marker\":{\"colorbar\":{\"outlinewidth\":0,\"ticks\":\"\"}},\"type\":\"scattergl\"}],\"scattermapbox\":[{\"marker\":{\"colorbar\":{\"outlinewidth\":0,\"ticks\":\"\"}},\"type\":\"scattermapbox\"}],\"scatterpolar\":[{\"marker\":{\"colorbar\":{\"outlinewidth\":0,\"ticks\":\"\"}},\"type\":\"scatterpolar\"}],\"scatterpolargl\":[{\"marker\":{\"colorbar\":{\"outlinewidth\":0,\"ticks\":\"\"}},\"type\":\"scatterpolargl\"}],\"scatterternary\":[{\"marker\":{\"colorbar\":{\"outlinewidth\":0,\"ticks\":\"\"}},\"type\":\"scatterternary\"}],\"surface\":[{\"colorbar\":{\"outlinewidth\":0,\"ticks\":\"\"},\"colorscale\":[[0.0,\"#0d0887\"],[0.1111111111111111,\"#46039f\"],[0.2222222222222222,\"#7201a8\"],[0.3333333333333333,\"#9c179e\"],[0.4444444444444444,\"#bd3786\"],[0.5555555555555556,\"#d8576b\"],[0.6666666666666666,\"#ed7953\"],[0.7777777777777778,\"#fb9f3a\"],[0.8888888888888888,\"#fdca26\"],[1.0,\"#f0f921\"]],\"type\":\"surface\"}],\"table\":[{\"cells\":{\"fill\":{\"color\":\"#EBF0F8\"},\"line\":{\"color\":\"white\"}},\"header\":{\"fill\":{\"color\":\"#C8D4E3\"},\"line\":{\"color\":\"white\"}},\"type\":\"table\"}]},\"layout\":{\"annotationdefaults\":{\"arrowcolor\":\"#2a3f5f\",\"arrowhead\":0,\"arrowwidth\":1},\"autotypenumbers\":\"strict\",\"coloraxis\":{\"colorbar\":{\"outlinewidth\":0,\"ticks\":\"\"}},\"colorscale\":{\"diverging\":[[0,\"#8e0152\"],[0.1,\"#c51b7d\"],[0.2,\"#de77ae\"],[0.3,\"#f1b6da\"],[0.4,\"#fde0ef\"],[0.5,\"#f7f7f7\"],[0.6,\"#e6f5d0\"],[0.7,\"#b8e186\"],[0.8,\"#7fbc41\"],[0.9,\"#4d9221\"],[1,\"#276419\"]],\"sequential\":[[0.0,\"#0d0887\"],[0.1111111111111111,\"#46039f\"],[0.2222222222222222,\"#7201a8\"],[0.3333333333333333,\"#9c179e\"],[0.4444444444444444,\"#bd3786\"],[0.5555555555555556,\"#d8576b\"],[0.6666666666666666,\"#ed7953\"],[0.7777777777777778,\"#fb9f3a\"],[0.8888888888888888,\"#fdca26\"],[1.0,\"#f0f921\"]],\"sequentialminus\":[[0.0,\"#0d0887\"],[0.1111111111111111,\"#46039f\"],[0.2222222222222222,\"#7201a8\"],[0.3333333333333333,\"#9c179e\"],[0.4444444444444444,\"#bd3786\"],[0.5555555555555556,\"#d8576b\"],[0.6666666666666666,\"#ed7953\"],[0.7777777777777778,\"#fb9f3a\"],[0.8888888888888888,\"#fdca26\"],[1.0,\"#f0f921\"]]},\"colorway\":[\"#636efa\",\"#EF553B\",\"#00cc96\",\"#ab63fa\",\"#FFA15A\",\"#19d3f3\",\"#FF6692\",\"#B6E880\",\"#FF97FF\",\"#FECB52\"],\"font\":{\"color\":\"#2a3f5f\"},\"geo\":{\"bgcolor\":\"white\",\"lakecolor\":\"white\",\"landcolor\":\"#E5ECF6\",\"showlakes\":true,\"showland\":true,\"subunitcolor\":\"white\"},\"hoverlabel\":{\"align\":\"left\"},\"hovermode\":\"closest\",\"mapbox\":{\"style\":\"light\"},\"paper_bgcolor\":\"white\",\"plot_bgcolor\":\"#E5ECF6\",\"polar\":{\"angularaxis\":{\"gridcolor\":\"white\",\"linecolor\":\"white\",\"ticks\":\"\"},\"bgcolor\":\"#E5ECF6\",\"radialaxis\":{\"gridcolor\":\"white\",\"linecolor\":\"white\",\"ticks\":\"\"}},\"scene\":{\"xaxis\":{\"backgroundcolor\":\"#E5ECF6\",\"gridcolor\":\"white\",\"gridwidth\":2,\"linecolor\":\"white\",\"showbackground\":true,\"ticks\":\"\",\"zerolinecolor\":\"white\"},\"yaxis\":{\"backgroundcolor\":\"#E5ECF6\",\"gridcolor\":\"white\",\"gridwidth\":2,\"linecolor\":\"white\",\"showbackground\":true,\"ticks\":\"\",\"zerolinecolor\":\"white\"},\"zaxis\":{\"backgroundcolor\":\"#E5ECF6\",\"gridcolor\":\"white\",\"gridwidth\":2,\"linecolor\":\"white\",\"showbackground\":true,\"ticks\":\"\",\"zerolinecolor\":\"white\"}},\"shapedefaults\":{\"line\":{\"color\":\"#2a3f5f\"}},\"ternary\":{\"aaxis\":{\"gridcolor\":\"white\",\"linecolor\":\"white\",\"ticks\":\"\"},\"baxis\":{\"gridcolor\":\"white\",\"linecolor\":\"white\",\"ticks\":\"\"},\"bgcolor\":\"#E5ECF6\",\"caxis\":{\"gridcolor\":\"white\",\"linecolor\":\"white\",\"ticks\":\"\"}},\"title\":{\"x\":0.05},\"xaxis\":{\"automargin\":true,\"gridcolor\":\"white\",\"linecolor\":\"white\",\"ticks\":\"\",\"title\":{\"standoff\":15},\"zerolinecolor\":\"white\",\"zerolinewidth\":2},\"yaxis\":{\"automargin\":true,\"gridcolor\":\"white\",\"linecolor\":\"white\",\"ticks\":\"\",\"title\":{\"standoff\":15},\"zerolinecolor\":\"white\",\"zerolinewidth\":2}}}},                        {\"responsive\": true}                    ).then(function(){\n",
              "                            \n",
              "var gd = document.getElementById('f6647e67-bb12-45ee-afe4-49b732a42d8e');\n",
              "var x = new MutationObserver(function (mutations, observer) {{\n",
              "        var display = window.getComputedStyle(gd).display;\n",
              "        if (!display || display === 'none') {{\n",
              "            console.log([gd, 'removed!']);\n",
              "            Plotly.purge(gd);\n",
              "            observer.disconnect();\n",
              "        }}\n",
              "}});\n",
              "\n",
              "// Listen for the removal of the full notebook cells\n",
              "var notebookContainer = gd.closest('#notebook-container');\n",
              "if (notebookContainer) {{\n",
              "    x.observe(notebookContainer, {childList: true});\n",
              "}}\n",
              "\n",
              "// Listen for the clearing of the current output cell\n",
              "var outputEl = gd.closest('.output');\n",
              "if (outputEl) {{\n",
              "    x.observe(outputEl, {childList: true});\n",
              "}}\n",
              "\n",
              "                        })                };                            </script>        </div>\n",
              "</body>\n",
              "</html>"
            ]
          },
          "metadata": {}
        }
      ]
    },
    {
      "cell_type": "code",
      "source": [
        "fig8=px.histogram(datos_maraton,x='MarathonTime',nbins=16)\n",
        "fig8.show()"
      ],
      "metadata": {
        "colab": {
          "base_uri": "https://localhost:8080/",
          "height": 542
        },
        "id": "InuaPNAg4GR7",
        "outputId": "44869ac9-c829-4a6a-9106-52c0187b1726"
      },
      "execution_count": null,
      "outputs": [
        {
          "output_type": "display_data",
          "data": {
            "text/html": [
              "<html>\n",
              "<head><meta charset=\"utf-8\" /></head>\n",
              "<body>\n",
              "    <div>            <script src=\"https://cdnjs.cloudflare.com/ajax/libs/mathjax/2.7.5/MathJax.js?config=TeX-AMS-MML_SVG\"></script><script type=\"text/javascript\">if (window.MathJax) {MathJax.Hub.Config({SVG: {font: \"STIX-Web\"}});}</script>                <script type=\"text/javascript\">window.PlotlyConfig = {MathJaxConfig: 'local'};</script>\n",
              "        <script src=\"https://cdn.plot.ly/plotly-2.8.3.min.js\"></script>                <div id=\"dbfaae75-7198-4403-9069-f70653acdea6\" class=\"plotly-graph-div\" style=\"height:525px; width:100%;\"></div>            <script type=\"text/javascript\">                                    window.PLOTLYENV=window.PLOTLYENV || {};                                    if (document.getElementById(\"dbfaae75-7198-4403-9069-f70653acdea6\")) {                    Plotly.newPlot(                        \"dbfaae75-7198-4403-9069-f70653acdea6\",                        [{\"alignmentgroup\":\"True\",\"bingroup\":\"x\",\"hovertemplate\":\"MarathonTime=%{x}<br>count=%{y}<extra></extra>\",\"legendgroup\":\"\",\"marker\":{\"color\":\"#636efa\",\"pattern\":{\"shape\":\"\"}},\"name\":\"\",\"nbinsx\":16,\"offsetgroup\":\"\",\"orientation\":\"v\",\"showlegend\":false,\"x\":[2.37,2.59,2.66,2.68,2.74,2.78,2.81,2.84,2.83,2.86,2.87,2.87,2.88,2.88,2.89,2.9,2.91,2.91,2.93,2.94,2.99,3.04,3.05,3.09,3.1,3.11,3.12,3.14,3.15,3.16,3.19,3.19,3.21,3.21,3.22,3.22,3.23,3.24,3.24,3.25,3.28,3.28,3.32,3.32,3.32,3.33,3.33,3.35,3.36,3.39,3.4,3.45,3.46,3.47,3.47,3.5,3.5,3.51,3.52,3.52,3.55,3.55,3.56,3.56,3.59,3.62,3.64,3.64,3.65,3.67,3.68,3.69,3.69,3.75,3.76,3.78,3.8,3.87,3.89,3.9,3.9,3.92,3.93,3.93,3.94,3.95,3.98],\"xaxis\":\"x\",\"yaxis\":\"y\",\"type\":\"histogram\"}],                        {\"template\":{\"data\":{\"bar\":[{\"error_x\":{\"color\":\"#2a3f5f\"},\"error_y\":{\"color\":\"#2a3f5f\"},\"marker\":{\"line\":{\"color\":\"#E5ECF6\",\"width\":0.5},\"pattern\":{\"fillmode\":\"overlay\",\"size\":10,\"solidity\":0.2}},\"type\":\"bar\"}],\"barpolar\":[{\"marker\":{\"line\":{\"color\":\"#E5ECF6\",\"width\":0.5},\"pattern\":{\"fillmode\":\"overlay\",\"size\":10,\"solidity\":0.2}},\"type\":\"barpolar\"}],\"carpet\":[{\"aaxis\":{\"endlinecolor\":\"#2a3f5f\",\"gridcolor\":\"white\",\"linecolor\":\"white\",\"minorgridcolor\":\"white\",\"startlinecolor\":\"#2a3f5f\"},\"baxis\":{\"endlinecolor\":\"#2a3f5f\",\"gridcolor\":\"white\",\"linecolor\":\"white\",\"minorgridcolor\":\"white\",\"startlinecolor\":\"#2a3f5f\"},\"type\":\"carpet\"}],\"choropleth\":[{\"colorbar\":{\"outlinewidth\":0,\"ticks\":\"\"},\"type\":\"choropleth\"}],\"contour\":[{\"colorbar\":{\"outlinewidth\":0,\"ticks\":\"\"},\"colorscale\":[[0.0,\"#0d0887\"],[0.1111111111111111,\"#46039f\"],[0.2222222222222222,\"#7201a8\"],[0.3333333333333333,\"#9c179e\"],[0.4444444444444444,\"#bd3786\"],[0.5555555555555556,\"#d8576b\"],[0.6666666666666666,\"#ed7953\"],[0.7777777777777778,\"#fb9f3a\"],[0.8888888888888888,\"#fdca26\"],[1.0,\"#f0f921\"]],\"type\":\"contour\"}],\"contourcarpet\":[{\"colorbar\":{\"outlinewidth\":0,\"ticks\":\"\"},\"type\":\"contourcarpet\"}],\"heatmap\":[{\"colorbar\":{\"outlinewidth\":0,\"ticks\":\"\"},\"colorscale\":[[0.0,\"#0d0887\"],[0.1111111111111111,\"#46039f\"],[0.2222222222222222,\"#7201a8\"],[0.3333333333333333,\"#9c179e\"],[0.4444444444444444,\"#bd3786\"],[0.5555555555555556,\"#d8576b\"],[0.6666666666666666,\"#ed7953\"],[0.7777777777777778,\"#fb9f3a\"],[0.8888888888888888,\"#fdca26\"],[1.0,\"#f0f921\"]],\"type\":\"heatmap\"}],\"heatmapgl\":[{\"colorbar\":{\"outlinewidth\":0,\"ticks\":\"\"},\"colorscale\":[[0.0,\"#0d0887\"],[0.1111111111111111,\"#46039f\"],[0.2222222222222222,\"#7201a8\"],[0.3333333333333333,\"#9c179e\"],[0.4444444444444444,\"#bd3786\"],[0.5555555555555556,\"#d8576b\"],[0.6666666666666666,\"#ed7953\"],[0.7777777777777778,\"#fb9f3a\"],[0.8888888888888888,\"#fdca26\"],[1.0,\"#f0f921\"]],\"type\":\"heatmapgl\"}],\"histogram\":[{\"marker\":{\"pattern\":{\"fillmode\":\"overlay\",\"size\":10,\"solidity\":0.2}},\"type\":\"histogram\"}],\"histogram2d\":[{\"colorbar\":{\"outlinewidth\":0,\"ticks\":\"\"},\"colorscale\":[[0.0,\"#0d0887\"],[0.1111111111111111,\"#46039f\"],[0.2222222222222222,\"#7201a8\"],[0.3333333333333333,\"#9c179e\"],[0.4444444444444444,\"#bd3786\"],[0.5555555555555556,\"#d8576b\"],[0.6666666666666666,\"#ed7953\"],[0.7777777777777778,\"#fb9f3a\"],[0.8888888888888888,\"#fdca26\"],[1.0,\"#f0f921\"]],\"type\":\"histogram2d\"}],\"histogram2dcontour\":[{\"colorbar\":{\"outlinewidth\":0,\"ticks\":\"\"},\"colorscale\":[[0.0,\"#0d0887\"],[0.1111111111111111,\"#46039f\"],[0.2222222222222222,\"#7201a8\"],[0.3333333333333333,\"#9c179e\"],[0.4444444444444444,\"#bd3786\"],[0.5555555555555556,\"#d8576b\"],[0.6666666666666666,\"#ed7953\"],[0.7777777777777778,\"#fb9f3a\"],[0.8888888888888888,\"#fdca26\"],[1.0,\"#f0f921\"]],\"type\":\"histogram2dcontour\"}],\"mesh3d\":[{\"colorbar\":{\"outlinewidth\":0,\"ticks\":\"\"},\"type\":\"mesh3d\"}],\"parcoords\":[{\"line\":{\"colorbar\":{\"outlinewidth\":0,\"ticks\":\"\"}},\"type\":\"parcoords\"}],\"pie\":[{\"automargin\":true,\"type\":\"pie\"}],\"scatter\":[{\"marker\":{\"colorbar\":{\"outlinewidth\":0,\"ticks\":\"\"}},\"type\":\"scatter\"}],\"scatter3d\":[{\"line\":{\"colorbar\":{\"outlinewidth\":0,\"ticks\":\"\"}},\"marker\":{\"colorbar\":{\"outlinewidth\":0,\"ticks\":\"\"}},\"type\":\"scatter3d\"}],\"scattercarpet\":[{\"marker\":{\"colorbar\":{\"outlinewidth\":0,\"ticks\":\"\"}},\"type\":\"scattercarpet\"}],\"scattergeo\":[{\"marker\":{\"colorbar\":{\"outlinewidth\":0,\"ticks\":\"\"}},\"type\":\"scattergeo\"}],\"scattergl\":[{\"marker\":{\"colorbar\":{\"outlinewidth\":0,\"ticks\":\"\"}},\"type\":\"scattergl\"}],\"scattermapbox\":[{\"marker\":{\"colorbar\":{\"outlinewidth\":0,\"ticks\":\"\"}},\"type\":\"scattermapbox\"}],\"scatterpolar\":[{\"marker\":{\"colorbar\":{\"outlinewidth\":0,\"ticks\":\"\"}},\"type\":\"scatterpolar\"}],\"scatterpolargl\":[{\"marker\":{\"colorbar\":{\"outlinewidth\":0,\"ticks\":\"\"}},\"type\":\"scatterpolargl\"}],\"scatterternary\":[{\"marker\":{\"colorbar\":{\"outlinewidth\":0,\"ticks\":\"\"}},\"type\":\"scatterternary\"}],\"surface\":[{\"colorbar\":{\"outlinewidth\":0,\"ticks\":\"\"},\"colorscale\":[[0.0,\"#0d0887\"],[0.1111111111111111,\"#46039f\"],[0.2222222222222222,\"#7201a8\"],[0.3333333333333333,\"#9c179e\"],[0.4444444444444444,\"#bd3786\"],[0.5555555555555556,\"#d8576b\"],[0.6666666666666666,\"#ed7953\"],[0.7777777777777778,\"#fb9f3a\"],[0.8888888888888888,\"#fdca26\"],[1.0,\"#f0f921\"]],\"type\":\"surface\"}],\"table\":[{\"cells\":{\"fill\":{\"color\":\"#EBF0F8\"},\"line\":{\"color\":\"white\"}},\"header\":{\"fill\":{\"color\":\"#C8D4E3\"},\"line\":{\"color\":\"white\"}},\"type\":\"table\"}]},\"layout\":{\"annotationdefaults\":{\"arrowcolor\":\"#2a3f5f\",\"arrowhead\":0,\"arrowwidth\":1},\"autotypenumbers\":\"strict\",\"coloraxis\":{\"colorbar\":{\"outlinewidth\":0,\"ticks\":\"\"}},\"colorscale\":{\"diverging\":[[0,\"#8e0152\"],[0.1,\"#c51b7d\"],[0.2,\"#de77ae\"],[0.3,\"#f1b6da\"],[0.4,\"#fde0ef\"],[0.5,\"#f7f7f7\"],[0.6,\"#e6f5d0\"],[0.7,\"#b8e186\"],[0.8,\"#7fbc41\"],[0.9,\"#4d9221\"],[1,\"#276419\"]],\"sequential\":[[0.0,\"#0d0887\"],[0.1111111111111111,\"#46039f\"],[0.2222222222222222,\"#7201a8\"],[0.3333333333333333,\"#9c179e\"],[0.4444444444444444,\"#bd3786\"],[0.5555555555555556,\"#d8576b\"],[0.6666666666666666,\"#ed7953\"],[0.7777777777777778,\"#fb9f3a\"],[0.8888888888888888,\"#fdca26\"],[1.0,\"#f0f921\"]],\"sequentialminus\":[[0.0,\"#0d0887\"],[0.1111111111111111,\"#46039f\"],[0.2222222222222222,\"#7201a8\"],[0.3333333333333333,\"#9c179e\"],[0.4444444444444444,\"#bd3786\"],[0.5555555555555556,\"#d8576b\"],[0.6666666666666666,\"#ed7953\"],[0.7777777777777778,\"#fb9f3a\"],[0.8888888888888888,\"#fdca26\"],[1.0,\"#f0f921\"]]},\"colorway\":[\"#636efa\",\"#EF553B\",\"#00cc96\",\"#ab63fa\",\"#FFA15A\",\"#19d3f3\",\"#FF6692\",\"#B6E880\",\"#FF97FF\",\"#FECB52\"],\"font\":{\"color\":\"#2a3f5f\"},\"geo\":{\"bgcolor\":\"white\",\"lakecolor\":\"white\",\"landcolor\":\"#E5ECF6\",\"showlakes\":true,\"showland\":true,\"subunitcolor\":\"white\"},\"hoverlabel\":{\"align\":\"left\"},\"hovermode\":\"closest\",\"mapbox\":{\"style\":\"light\"},\"paper_bgcolor\":\"white\",\"plot_bgcolor\":\"#E5ECF6\",\"polar\":{\"angularaxis\":{\"gridcolor\":\"white\",\"linecolor\":\"white\",\"ticks\":\"\"},\"bgcolor\":\"#E5ECF6\",\"radialaxis\":{\"gridcolor\":\"white\",\"linecolor\":\"white\",\"ticks\":\"\"}},\"scene\":{\"xaxis\":{\"backgroundcolor\":\"#E5ECF6\",\"gridcolor\":\"white\",\"gridwidth\":2,\"linecolor\":\"white\",\"showbackground\":true,\"ticks\":\"\",\"zerolinecolor\":\"white\"},\"yaxis\":{\"backgroundcolor\":\"#E5ECF6\",\"gridcolor\":\"white\",\"gridwidth\":2,\"linecolor\":\"white\",\"showbackground\":true,\"ticks\":\"\",\"zerolinecolor\":\"white\"},\"zaxis\":{\"backgroundcolor\":\"#E5ECF6\",\"gridcolor\":\"white\",\"gridwidth\":2,\"linecolor\":\"white\",\"showbackground\":true,\"ticks\":\"\",\"zerolinecolor\":\"white\"}},\"shapedefaults\":{\"line\":{\"color\":\"#2a3f5f\"}},\"ternary\":{\"aaxis\":{\"gridcolor\":\"white\",\"linecolor\":\"white\",\"ticks\":\"\"},\"baxis\":{\"gridcolor\":\"white\",\"linecolor\":\"white\",\"ticks\":\"\"},\"bgcolor\":\"#E5ECF6\",\"caxis\":{\"gridcolor\":\"white\",\"linecolor\":\"white\",\"ticks\":\"\"}},\"title\":{\"x\":0.05},\"xaxis\":{\"automargin\":true,\"gridcolor\":\"white\",\"linecolor\":\"white\",\"ticks\":\"\",\"title\":{\"standoff\":15},\"zerolinecolor\":\"white\",\"zerolinewidth\":2},\"yaxis\":{\"automargin\":true,\"gridcolor\":\"white\",\"linecolor\":\"white\",\"ticks\":\"\",\"title\":{\"standoff\":15},\"zerolinecolor\":\"white\",\"zerolinewidth\":2}}},\"xaxis\":{\"anchor\":\"y\",\"domain\":[0.0,1.0],\"title\":{\"text\":\"MarathonTime\"}},\"yaxis\":{\"anchor\":\"x\",\"domain\":[0.0,1.0],\"title\":{\"text\":\"count\"}},\"legend\":{\"tracegroupgap\":0},\"margin\":{\"t\":60},\"barmode\":\"relative\"},                        {\"responsive\": true}                    ).then(function(){\n",
              "                            \n",
              "var gd = document.getElementById('dbfaae75-7198-4403-9069-f70653acdea6');\n",
              "var x = new MutationObserver(function (mutations, observer) {{\n",
              "        var display = window.getComputedStyle(gd).display;\n",
              "        if (!display || display === 'none') {{\n",
              "            console.log([gd, 'removed!']);\n",
              "            Plotly.purge(gd);\n",
              "            observer.disconnect();\n",
              "        }}\n",
              "}});\n",
              "\n",
              "// Listen for the removal of the full notebook cells\n",
              "var notebookContainer = gd.closest('#notebook-container');\n",
              "if (notebookContainer) {{\n",
              "    x.observe(notebookContainer, {childList: true});\n",
              "}}\n",
              "\n",
              "// Listen for the clearing of the current output cell\n",
              "var outputEl = gd.closest('.output');\n",
              "if (outputEl) {{\n",
              "    x.observe(outputEl, {childList: true});\n",
              "}}\n",
              "\n",
              "                        })                };                            </script>        </div>\n",
              "</body>\n",
              "</html>"
            ]
          },
          "metadata": {}
        }
      ]
    },
    {
      "cell_type": "code",
      "source": [
        "import pandas as pd\n",
        "import plotly.express as px\n",
        "import matplotlib.pyplot as plt\n",
        "import numpy as np\n",
        "\n",
        "fig11 =px.scatter(datos_maraton,x='MarathonTime',y='Wall21',trendline='lowess')\n",
        "fig11.show()"
      ],
      "metadata": {
        "colab": {
          "base_uri": "https://localhost:8080/",
          "height": 542
        },
        "id": "bggFtDBj4Gnn",
        "outputId": "bb4f7b2b-de00-48aa-c035-3c5c99fbcf1a"
      },
      "execution_count": null,
      "outputs": [
        {
          "output_type": "display_data",
          "data": {
            "text/html": [
              "<html>\n",
              "<head><meta charset=\"utf-8\" /></head>\n",
              "<body>\n",
              "    <div>            <script src=\"https://cdnjs.cloudflare.com/ajax/libs/mathjax/2.7.5/MathJax.js?config=TeX-AMS-MML_SVG\"></script><script type=\"text/javascript\">if (window.MathJax) {MathJax.Hub.Config({SVG: {font: \"STIX-Web\"}});}</script>                <script type=\"text/javascript\">window.PlotlyConfig = {MathJaxConfig: 'local'};</script>\n",
              "        <script src=\"https://cdn.plot.ly/plotly-2.8.3.min.js\"></script>                <div id=\"bc2f11c1-daaf-42a3-af0d-572cfa25ad0c\" class=\"plotly-graph-div\" style=\"height:525px; width:100%;\"></div>            <script type=\"text/javascript\">                                    window.PLOTLYENV=window.PLOTLYENV || {};                                    if (document.getElementById(\"bc2f11c1-daaf-42a3-af0d-572cfa25ad0c\")) {                    Plotly.newPlot(                        \"bc2f11c1-daaf-42a3-af0d-572cfa25ad0c\",                        [{\"hovertemplate\":\"MarathonTime=%{x}<br>Wall21=%{y}<extra></extra>\",\"legendgroup\":\"\",\"marker\":{\"color\":\"#636efa\",\"symbol\":\"circle\"},\"mode\":\"markers\",\"name\":\"\",\"orientation\":\"v\",\"showlegend\":false,\"x\":[2.37,2.59,2.66,2.68,2.74,2.78,2.81,2.84,2.83,2.86,2.87,2.87,2.88,2.88,2.89,2.9,2.91,2.91,2.93,2.94,2.99,3.04,3.05,3.09,3.1,3.11,3.12,3.14,3.15,3.16,3.19,3.19,3.21,3.21,3.22,3.22,3.23,3.24,3.24,3.25,3.28,3.28,3.32,3.32,3.32,3.33,3.33,3.35,3.36,3.39,3.4,3.45,3.46,3.47,3.47,3.5,3.5,3.51,3.52,3.52,3.55,3.55,3.56,3.56,3.59,3.62,3.64,3.64,3.65,3.67,3.68,3.69,3.69,3.75,3.76,3.78,3.8,3.87,3.89,3.9,3.9,3.92,3.93,3.93,3.94,3.95,3.98],\"xaxis\":\"x\",\"y\":[1.16,1.23,1.3,1.32,1.36,1.32,1.38,1.41,1.38,1.35,1.42,1.4,1.37,1.41,1.44,1.45,1.44,1.44,1.45,1.41,1.45,1.5,1.5,1.48,1.52,0.0,1.54,1.52,1.5,1.57,1.62,1.6,1.51,1.58,0.0,1.62,1.56,1.61,1.5,1.6,1.59,1.68,1.78,1.62,1.67,1.67,1.66,1.67,1.55,1.64,1.67,0.0,1.65,0.0,1.77,1.67,1.71,1.72,1.67,1.77,1.76,1.63,1.66,1.69,1.69,1.88,1.93,1.74,1.75,1.8,1.81,1.76,1.94,0.0,1.9,1.85,1.94,1.97,1.97,1.98,0.0,2.05,2.02,1.94,1.94,2.05,2.05],\"yaxis\":\"y\",\"type\":\"scatter\"},{\"hovertemplate\":\"<b>LOWESS trendline</b><br><br>MarathonTime=%{x}<br>Wall21=%{y} <b>(trend)</b><extra></extra>\",\"legendgroup\":\"\",\"marker\":{\"color\":\"#636efa\",\"symbol\":\"circle\"},\"mode\":\"lines\",\"name\":\"\",\"showlegend\":false,\"x\":[2.37,2.59,2.66,2.68,2.74,2.78,2.81,2.83,2.84,2.86,2.87,2.87,2.88,2.88,2.89,2.9,2.91,2.91,2.93,2.94,2.99,3.04,3.05,3.09,3.1,3.11,3.12,3.14,3.15,3.16,3.19,3.19,3.21,3.21,3.22,3.22,3.23,3.24,3.24,3.25,3.28,3.28,3.32,3.32,3.32,3.33,3.33,3.35,3.36,3.39,3.4,3.45,3.46,3.47,3.47,3.5,3.5,3.51,3.52,3.52,3.55,3.55,3.56,3.56,3.59,3.62,3.64,3.64,3.65,3.67,3.68,3.69,3.69,3.75,3.76,3.78,3.8,3.87,3.89,3.9,3.9,3.92,3.93,3.93,3.94,3.95,3.98],\"xaxis\":\"x\",\"y\":[1.1498200653218262,1.261311901985245,1.2967144505960033,1.306822918288198,1.3371481036964346,1.357379216118519,1.372572221107339,1.3827189096755108,1.3878001366124533,1.3979831181140232,1.4030867194433638,1.4030867194433638,1.4081996494727904,1.4081996494727904,1.4133226337330402,1.4184560636928174,1.4235995593849282,1.4235995593849282,1.4339090603628475,1.439054423066386,1.4647884929517911,1.490314544683832,1.4953989761728308,1.5158119364965483,1.5209267055133564,1.5259815663548422,1.5310352515212602,1.5411999172941566,1.5462514644931722,1.5512703146205347,1.5662100264979528,1.5662100264979528,1.5759619950609176,1.5759619950609176,1.580804770946283,1.580804770946283,1.5853931260548944,1.5903458564275288,1.5903458564275288,1.594775928110512,1.6082889057922527,1.6082889057922527,1.6261824632675588,1.6261824632675588,1.6261824632675588,1.6306213818876478,1.6306213818876478,1.6397717154164002,1.6443688935792946,1.6582387419442972,1.6629066639731822,1.6870836701551575,1.6920093844617008,1.6969721877609278,1.6969721877609278,1.7112883348722505,1.7112883348722505,1.7168604553549902,1.7220870683913754,1.7220870683913754,1.7376892794951124,1.7376892794951124,1.743334836894226,1.743334836894226,1.761089409362903,1.7822106425331254,1.7961050404920447,1.7961050404920447,1.802982208332943,1.816647978100797,1.823455709640076,1.8302566195253354,1.8302566195253354,1.871153757379366,1.8780066377141356,1.8917532711901366,1.9055563098775752,1.9543183447155301,1.9683727373034952,1.9754186819564972,1.9754186819564972,1.9895459109691391,1.9966262338633893,1.9966262338633893,2.003716785453419,2.0108170113573935,2.032172821359106],\"yaxis\":\"y\",\"type\":\"scatter\"}],                        {\"template\":{\"data\":{\"bar\":[{\"error_x\":{\"color\":\"#2a3f5f\"},\"error_y\":{\"color\":\"#2a3f5f\"},\"marker\":{\"line\":{\"color\":\"#E5ECF6\",\"width\":0.5},\"pattern\":{\"fillmode\":\"overlay\",\"size\":10,\"solidity\":0.2}},\"type\":\"bar\"}],\"barpolar\":[{\"marker\":{\"line\":{\"color\":\"#E5ECF6\",\"width\":0.5},\"pattern\":{\"fillmode\":\"overlay\",\"size\":10,\"solidity\":0.2}},\"type\":\"barpolar\"}],\"carpet\":[{\"aaxis\":{\"endlinecolor\":\"#2a3f5f\",\"gridcolor\":\"white\",\"linecolor\":\"white\",\"minorgridcolor\":\"white\",\"startlinecolor\":\"#2a3f5f\"},\"baxis\":{\"endlinecolor\":\"#2a3f5f\",\"gridcolor\":\"white\",\"linecolor\":\"white\",\"minorgridcolor\":\"white\",\"startlinecolor\":\"#2a3f5f\"},\"type\":\"carpet\"}],\"choropleth\":[{\"colorbar\":{\"outlinewidth\":0,\"ticks\":\"\"},\"type\":\"choropleth\"}],\"contour\":[{\"colorbar\":{\"outlinewidth\":0,\"ticks\":\"\"},\"colorscale\":[[0.0,\"#0d0887\"],[0.1111111111111111,\"#46039f\"],[0.2222222222222222,\"#7201a8\"],[0.3333333333333333,\"#9c179e\"],[0.4444444444444444,\"#bd3786\"],[0.5555555555555556,\"#d8576b\"],[0.6666666666666666,\"#ed7953\"],[0.7777777777777778,\"#fb9f3a\"],[0.8888888888888888,\"#fdca26\"],[1.0,\"#f0f921\"]],\"type\":\"contour\"}],\"contourcarpet\":[{\"colorbar\":{\"outlinewidth\":0,\"ticks\":\"\"},\"type\":\"contourcarpet\"}],\"heatmap\":[{\"colorbar\":{\"outlinewidth\":0,\"ticks\":\"\"},\"colorscale\":[[0.0,\"#0d0887\"],[0.1111111111111111,\"#46039f\"],[0.2222222222222222,\"#7201a8\"],[0.3333333333333333,\"#9c179e\"],[0.4444444444444444,\"#bd3786\"],[0.5555555555555556,\"#d8576b\"],[0.6666666666666666,\"#ed7953\"],[0.7777777777777778,\"#fb9f3a\"],[0.8888888888888888,\"#fdca26\"],[1.0,\"#f0f921\"]],\"type\":\"heatmap\"}],\"heatmapgl\":[{\"colorbar\":{\"outlinewidth\":0,\"ticks\":\"\"},\"colorscale\":[[0.0,\"#0d0887\"],[0.1111111111111111,\"#46039f\"],[0.2222222222222222,\"#7201a8\"],[0.3333333333333333,\"#9c179e\"],[0.4444444444444444,\"#bd3786\"],[0.5555555555555556,\"#d8576b\"],[0.6666666666666666,\"#ed7953\"],[0.7777777777777778,\"#fb9f3a\"],[0.8888888888888888,\"#fdca26\"],[1.0,\"#f0f921\"]],\"type\":\"heatmapgl\"}],\"histogram\":[{\"marker\":{\"pattern\":{\"fillmode\":\"overlay\",\"size\":10,\"solidity\":0.2}},\"type\":\"histogram\"}],\"histogram2d\":[{\"colorbar\":{\"outlinewidth\":0,\"ticks\":\"\"},\"colorscale\":[[0.0,\"#0d0887\"],[0.1111111111111111,\"#46039f\"],[0.2222222222222222,\"#7201a8\"],[0.3333333333333333,\"#9c179e\"],[0.4444444444444444,\"#bd3786\"],[0.5555555555555556,\"#d8576b\"],[0.6666666666666666,\"#ed7953\"],[0.7777777777777778,\"#fb9f3a\"],[0.8888888888888888,\"#fdca26\"],[1.0,\"#f0f921\"]],\"type\":\"histogram2d\"}],\"histogram2dcontour\":[{\"colorbar\":{\"outlinewidth\":0,\"ticks\":\"\"},\"colorscale\":[[0.0,\"#0d0887\"],[0.1111111111111111,\"#46039f\"],[0.2222222222222222,\"#7201a8\"],[0.3333333333333333,\"#9c179e\"],[0.4444444444444444,\"#bd3786\"],[0.5555555555555556,\"#d8576b\"],[0.6666666666666666,\"#ed7953\"],[0.7777777777777778,\"#fb9f3a\"],[0.8888888888888888,\"#fdca26\"],[1.0,\"#f0f921\"]],\"type\":\"histogram2dcontour\"}],\"mesh3d\":[{\"colorbar\":{\"outlinewidth\":0,\"ticks\":\"\"},\"type\":\"mesh3d\"}],\"parcoords\":[{\"line\":{\"colorbar\":{\"outlinewidth\":0,\"ticks\":\"\"}},\"type\":\"parcoords\"}],\"pie\":[{\"automargin\":true,\"type\":\"pie\"}],\"scatter\":[{\"marker\":{\"colorbar\":{\"outlinewidth\":0,\"ticks\":\"\"}},\"type\":\"scatter\"}],\"scatter3d\":[{\"line\":{\"colorbar\":{\"outlinewidth\":0,\"ticks\":\"\"}},\"marker\":{\"colorbar\":{\"outlinewidth\":0,\"ticks\":\"\"}},\"type\":\"scatter3d\"}],\"scattercarpet\":[{\"marker\":{\"colorbar\":{\"outlinewidth\":0,\"ticks\":\"\"}},\"type\":\"scattercarpet\"}],\"scattergeo\":[{\"marker\":{\"colorbar\":{\"outlinewidth\":0,\"ticks\":\"\"}},\"type\":\"scattergeo\"}],\"scattergl\":[{\"marker\":{\"colorbar\":{\"outlinewidth\":0,\"ticks\":\"\"}},\"type\":\"scattergl\"}],\"scattermapbox\":[{\"marker\":{\"colorbar\":{\"outlinewidth\":0,\"ticks\":\"\"}},\"type\":\"scattermapbox\"}],\"scatterpolar\":[{\"marker\":{\"colorbar\":{\"outlinewidth\":0,\"ticks\":\"\"}},\"type\":\"scatterpolar\"}],\"scatterpolargl\":[{\"marker\":{\"colorbar\":{\"outlinewidth\":0,\"ticks\":\"\"}},\"type\":\"scatterpolargl\"}],\"scatterternary\":[{\"marker\":{\"colorbar\":{\"outlinewidth\":0,\"ticks\":\"\"}},\"type\":\"scatterternary\"}],\"surface\":[{\"colorbar\":{\"outlinewidth\":0,\"ticks\":\"\"},\"colorscale\":[[0.0,\"#0d0887\"],[0.1111111111111111,\"#46039f\"],[0.2222222222222222,\"#7201a8\"],[0.3333333333333333,\"#9c179e\"],[0.4444444444444444,\"#bd3786\"],[0.5555555555555556,\"#d8576b\"],[0.6666666666666666,\"#ed7953\"],[0.7777777777777778,\"#fb9f3a\"],[0.8888888888888888,\"#fdca26\"],[1.0,\"#f0f921\"]],\"type\":\"surface\"}],\"table\":[{\"cells\":{\"fill\":{\"color\":\"#EBF0F8\"},\"line\":{\"color\":\"white\"}},\"header\":{\"fill\":{\"color\":\"#C8D4E3\"},\"line\":{\"color\":\"white\"}},\"type\":\"table\"}]},\"layout\":{\"annotationdefaults\":{\"arrowcolor\":\"#2a3f5f\",\"arrowhead\":0,\"arrowwidth\":1},\"autotypenumbers\":\"strict\",\"coloraxis\":{\"colorbar\":{\"outlinewidth\":0,\"ticks\":\"\"}},\"colorscale\":{\"diverging\":[[0,\"#8e0152\"],[0.1,\"#c51b7d\"],[0.2,\"#de77ae\"],[0.3,\"#f1b6da\"],[0.4,\"#fde0ef\"],[0.5,\"#f7f7f7\"],[0.6,\"#e6f5d0\"],[0.7,\"#b8e186\"],[0.8,\"#7fbc41\"],[0.9,\"#4d9221\"],[1,\"#276419\"]],\"sequential\":[[0.0,\"#0d0887\"],[0.1111111111111111,\"#46039f\"],[0.2222222222222222,\"#7201a8\"],[0.3333333333333333,\"#9c179e\"],[0.4444444444444444,\"#bd3786\"],[0.5555555555555556,\"#d8576b\"],[0.6666666666666666,\"#ed7953\"],[0.7777777777777778,\"#fb9f3a\"],[0.8888888888888888,\"#fdca26\"],[1.0,\"#f0f921\"]],\"sequentialminus\":[[0.0,\"#0d0887\"],[0.1111111111111111,\"#46039f\"],[0.2222222222222222,\"#7201a8\"],[0.3333333333333333,\"#9c179e\"],[0.4444444444444444,\"#bd3786\"],[0.5555555555555556,\"#d8576b\"],[0.6666666666666666,\"#ed7953\"],[0.7777777777777778,\"#fb9f3a\"],[0.8888888888888888,\"#fdca26\"],[1.0,\"#f0f921\"]]},\"colorway\":[\"#636efa\",\"#EF553B\",\"#00cc96\",\"#ab63fa\",\"#FFA15A\",\"#19d3f3\",\"#FF6692\",\"#B6E880\",\"#FF97FF\",\"#FECB52\"],\"font\":{\"color\":\"#2a3f5f\"},\"geo\":{\"bgcolor\":\"white\",\"lakecolor\":\"white\",\"landcolor\":\"#E5ECF6\",\"showlakes\":true,\"showland\":true,\"subunitcolor\":\"white\"},\"hoverlabel\":{\"align\":\"left\"},\"hovermode\":\"closest\",\"mapbox\":{\"style\":\"light\"},\"paper_bgcolor\":\"white\",\"plot_bgcolor\":\"#E5ECF6\",\"polar\":{\"angularaxis\":{\"gridcolor\":\"white\",\"linecolor\":\"white\",\"ticks\":\"\"},\"bgcolor\":\"#E5ECF6\",\"radialaxis\":{\"gridcolor\":\"white\",\"linecolor\":\"white\",\"ticks\":\"\"}},\"scene\":{\"xaxis\":{\"backgroundcolor\":\"#E5ECF6\",\"gridcolor\":\"white\",\"gridwidth\":2,\"linecolor\":\"white\",\"showbackground\":true,\"ticks\":\"\",\"zerolinecolor\":\"white\"},\"yaxis\":{\"backgroundcolor\":\"#E5ECF6\",\"gridcolor\":\"white\",\"gridwidth\":2,\"linecolor\":\"white\",\"showbackground\":true,\"ticks\":\"\",\"zerolinecolor\":\"white\"},\"zaxis\":{\"backgroundcolor\":\"#E5ECF6\",\"gridcolor\":\"white\",\"gridwidth\":2,\"linecolor\":\"white\",\"showbackground\":true,\"ticks\":\"\",\"zerolinecolor\":\"white\"}},\"shapedefaults\":{\"line\":{\"color\":\"#2a3f5f\"}},\"ternary\":{\"aaxis\":{\"gridcolor\":\"white\",\"linecolor\":\"white\",\"ticks\":\"\"},\"baxis\":{\"gridcolor\":\"white\",\"linecolor\":\"white\",\"ticks\":\"\"},\"bgcolor\":\"#E5ECF6\",\"caxis\":{\"gridcolor\":\"white\",\"linecolor\":\"white\",\"ticks\":\"\"}},\"title\":{\"x\":0.05},\"xaxis\":{\"automargin\":true,\"gridcolor\":\"white\",\"linecolor\":\"white\",\"ticks\":\"\",\"title\":{\"standoff\":15},\"zerolinecolor\":\"white\",\"zerolinewidth\":2},\"yaxis\":{\"automargin\":true,\"gridcolor\":\"white\",\"linecolor\":\"white\",\"ticks\":\"\",\"title\":{\"standoff\":15},\"zerolinecolor\":\"white\",\"zerolinewidth\":2}}},\"xaxis\":{\"anchor\":\"y\",\"domain\":[0.0,1.0],\"title\":{\"text\":\"MarathonTime\"}},\"yaxis\":{\"anchor\":\"x\",\"domain\":[0.0,1.0],\"title\":{\"text\":\"Wall21\"}},\"legend\":{\"tracegroupgap\":0},\"margin\":{\"t\":60}},                        {\"responsive\": true}                    ).then(function(){\n",
              "                            \n",
              "var gd = document.getElementById('bc2f11c1-daaf-42a3-af0d-572cfa25ad0c');\n",
              "var x = new MutationObserver(function (mutations, observer) {{\n",
              "        var display = window.getComputedStyle(gd).display;\n",
              "        if (!display || display === 'none') {{\n",
              "            console.log([gd, 'removed!']);\n",
              "            Plotly.purge(gd);\n",
              "            observer.disconnect();\n",
              "        }}\n",
              "}});\n",
              "\n",
              "// Listen for the removal of the full notebook cells\n",
              "var notebookContainer = gd.closest('#notebook-container');\n",
              "if (notebookContainer) {{\n",
              "    x.observe(notebookContainer, {childList: true});\n",
              "}}\n",
              "\n",
              "// Listen for the clearing of the current output cell\n",
              "var outputEl = gd.closest('.output');\n",
              "if (outputEl) {{\n",
              "    x.observe(outputEl, {childList: true});\n",
              "}}\n",
              "\n",
              "                        })                };                            </script>        </div>\n",
              "</body>\n",
              "</html>"
            ]
          },
          "metadata": {}
        }
      ]
    },
    {
      "cell_type": "markdown",
      "source": [
        "##Modelos\n"
      ],
      "metadata": {
        "id": "m39wpoJ-rvhU"
      }
    },
    {
      "cell_type": "markdown",
      "source": [
        "###Random Forest Regressor"
      ],
      "metadata": {
        "id": "mvZmkcL0rzad"
      }
    },
    {
      "cell_type": "code",
      "source": [
        "##RANDOM FOREST REGRESSOR\n",
        "\n",
        "from sklearn import datasets #Me devolverá valores de X features y \"y\" target para el dataset que importaré. NO me devuelve un df.\n",
        "import numpy as np\n",
        "import pandas as pd\n",
        "from sklearn.model_selection import train_test_split as tts\n",
        "from sklearn.ensemble import RandomForestRegressor as RFR\n",
        "from sklearn.metrics import r2_score,mean_squared_error\n",
        "\n",
        "Category=np.array(datos_maraton['Category'])\t\n",
        "km4week=np.array(datos_maraton['km4week'])\n",
        "sp4week=np.array(datos_maraton['sp4week'])\n",
        "CrossTraining=np.array(datos_maraton['CrossTraining'])\n",
        "Wall21=np.array(datos_maraton['Wall21'])\n",
        "X=np.c_[Category,km4week,sp4week,CrossTraining,Wall21]\n",
        "#print(x)\n",
        "y=np.array(datos_maraton['MarathonTime'])\n",
        "print(np.shape(X))\n",
        "print(np.shape(y))\n",
        "\n",
        "Xtrain,Xtest,ytrain,ytest=tts(X,y)\n",
        "modelRF = RFR(random_state=42)\n",
        "modelRF.fit(Xtrain,ytrain)\n",
        "##Verificamos los resultados\n",
        "ypred= modelRF.predict(Xtest)\n",
        "r2RF=r2_score(ytest,ypred)\n",
        "print('R2 de validación')\n",
        "print(r2RF) #Validación\n",
        " ## Como evalúo si existe subajuste o sobreajuste\n",
        " ## Comparar los resultados de entrenamiento y los de prueba\n",
        "#Existe subajuste cuando mi r2 estrá entre [0-0.5]\n",
        "ypredtrain= modelRF.predict(Xtrain)\n",
        "r2RT=r2_score(ytrain,ypredtrain)\n",
        "print('R2 de entrenamiento: ')\n",
        "print(r2RT) #Entrenamiento"
      ],
      "metadata": {
        "colab": {
          "base_uri": "https://localhost:8080/"
        },
        "id": "DAfCbVrP6SuU",
        "outputId": "ea533f6a-f632-4025-b332-9c63fbf2bd1c"
      },
      "execution_count": null,
      "outputs": [
        {
          "output_type": "stream",
          "name": "stdout",
          "text": [
            "(87, 5)\n",
            "(87,)\n",
            "R2 de validación\n",
            "0.8757639078837844\n",
            "R2 de entrenamiento: \n",
            "0.9788690190726409\n"
          ]
        }
      ]
    },
    {
      "cell_type": "code",
      "source": [
        "##PROBANDO EL MODELO\n",
        "print('Podrías intentar con 1-400-20-0-1.4')\n",
        "aaa=input('Ingresa valor para Category:' )\n",
        "bbb=input('Ingresa valor para km4week:')\n",
        "ccc=input('Ingresa valor para sp4week:')\n",
        "ddd=input('Ingresa valor para CrossTraining:')\n",
        "eee=input('Ingresa valor para Wall21:')\n",
        "novo_dato = pd.DataFrame(np.array([[aaa,bbb,ccc,ddd,eee]]),columns=['Category', 'km4week','sp4week', 'CrossTraining','Wall21'])\n",
        "display(novo_dato)\n",
        "print('La predicción es: ')\n",
        "modelRF.predict(novo_dato)"
      ],
      "metadata": {
        "colab": {
          "base_uri": "https://localhost:8080/",
          "height": 289
        },
        "id": "Iast9YgG9AIL",
        "outputId": "a2d8bb8c-276a-4a5c-b6eb-7188a4fa1166"
      },
      "execution_count": null,
      "outputs": [
        {
          "name": "stdout",
          "output_type": "stream",
          "text": [
            "Podrías intentar con 1-400-20-0-1.4\n",
            "Ingresa valor para Category:1\n",
            "Ingresa valor para km4week:400\n",
            "Ingresa valor para sp4week:20\n",
            "Ingresa valor para CrossTraining:0\n",
            "Ingresa valor para Wall21:1.4\n"
          ]
        },
        {
          "output_type": "display_data",
          "data": {
            "text/html": [
              "\n",
              "  <div id=\"df-faee9e04-d475-44d0-a5e3-56d529c6898f\">\n",
              "    <div class=\"colab-df-container\">\n",
              "      <div>\n",
              "<style scoped>\n",
              "    .dataframe tbody tr th:only-of-type {\n",
              "        vertical-align: middle;\n",
              "    }\n",
              "\n",
              "    .dataframe tbody tr th {\n",
              "        vertical-align: top;\n",
              "    }\n",
              "\n",
              "    .dataframe thead th {\n",
              "        text-align: right;\n",
              "    }\n",
              "</style>\n",
              "<table border=\"1\" class=\"dataframe\">\n",
              "  <thead>\n",
              "    <tr style=\"text-align: right;\">\n",
              "      <th></th>\n",
              "      <th>Category</th>\n",
              "      <th>km4week</th>\n",
              "      <th>sp4week</th>\n",
              "      <th>CrossTraining</th>\n",
              "      <th>Wall21</th>\n",
              "    </tr>\n",
              "  </thead>\n",
              "  <tbody>\n",
              "    <tr>\n",
              "      <th>0</th>\n",
              "      <td>1</td>\n",
              "      <td>400</td>\n",
              "      <td>20</td>\n",
              "      <td>0</td>\n",
              "      <td>1.4</td>\n",
              "    </tr>\n",
              "  </tbody>\n",
              "</table>\n",
              "</div>\n",
              "      <button class=\"colab-df-convert\" onclick=\"convertToInteractive('df-faee9e04-d475-44d0-a5e3-56d529c6898f')\"\n",
              "              title=\"Convert this dataframe to an interactive table.\"\n",
              "              style=\"display:none;\">\n",
              "        \n",
              "  <svg xmlns=\"http://www.w3.org/2000/svg\" height=\"24px\"viewBox=\"0 0 24 24\"\n",
              "       width=\"24px\">\n",
              "    <path d=\"M0 0h24v24H0V0z\" fill=\"none\"/>\n",
              "    <path d=\"M18.56 5.44l.94 2.06.94-2.06 2.06-.94-2.06-.94-.94-2.06-.94 2.06-2.06.94zm-11 1L8.5 8.5l.94-2.06 2.06-.94-2.06-.94L8.5 2.5l-.94 2.06-2.06.94zm10 10l.94 2.06.94-2.06 2.06-.94-2.06-.94-.94-2.06-.94 2.06-2.06.94z\"/><path d=\"M17.41 7.96l-1.37-1.37c-.4-.4-.92-.59-1.43-.59-.52 0-1.04.2-1.43.59L10.3 9.45l-7.72 7.72c-.78.78-.78 2.05 0 2.83L4 21.41c.39.39.9.59 1.41.59.51 0 1.02-.2 1.41-.59l7.78-7.78 2.81-2.81c.8-.78.8-2.07 0-2.86zM5.41 20L4 18.59l7.72-7.72 1.47 1.35L5.41 20z\"/>\n",
              "  </svg>\n",
              "      </button>\n",
              "      \n",
              "  <style>\n",
              "    .colab-df-container {\n",
              "      display:flex;\n",
              "      flex-wrap:wrap;\n",
              "      gap: 12px;\n",
              "    }\n",
              "\n",
              "    .colab-df-convert {\n",
              "      background-color: #E8F0FE;\n",
              "      border: none;\n",
              "      border-radius: 50%;\n",
              "      cursor: pointer;\n",
              "      display: none;\n",
              "      fill: #1967D2;\n",
              "      height: 32px;\n",
              "      padding: 0 0 0 0;\n",
              "      width: 32px;\n",
              "    }\n",
              "\n",
              "    .colab-df-convert:hover {\n",
              "      background-color: #E2EBFA;\n",
              "      box-shadow: 0px 1px 2px rgba(60, 64, 67, 0.3), 0px 1px 3px 1px rgba(60, 64, 67, 0.15);\n",
              "      fill: #174EA6;\n",
              "    }\n",
              "\n",
              "    [theme=dark] .colab-df-convert {\n",
              "      background-color: #3B4455;\n",
              "      fill: #D2E3FC;\n",
              "    }\n",
              "\n",
              "    [theme=dark] .colab-df-convert:hover {\n",
              "      background-color: #434B5C;\n",
              "      box-shadow: 0px 1px 3px 1px rgba(0, 0, 0, 0.15);\n",
              "      filter: drop-shadow(0px 1px 2px rgba(0, 0, 0, 0.3));\n",
              "      fill: #FFFFFF;\n",
              "    }\n",
              "  </style>\n",
              "\n",
              "      <script>\n",
              "        const buttonEl =\n",
              "          document.querySelector('#df-faee9e04-d475-44d0-a5e3-56d529c6898f button.colab-df-convert');\n",
              "        buttonEl.style.display =\n",
              "          google.colab.kernel.accessAllowed ? 'block' : 'none';\n",
              "\n",
              "        async function convertToInteractive(key) {\n",
              "          const element = document.querySelector('#df-faee9e04-d475-44d0-a5e3-56d529c6898f');\n",
              "          const dataTable =\n",
              "            await google.colab.kernel.invokeFunction('convertToInteractive',\n",
              "                                                     [key], {});\n",
              "          if (!dataTable) return;\n",
              "\n",
              "          const docLinkHtml = 'Like what you see? Visit the ' +\n",
              "            '<a target=\"_blank\" href=https://colab.research.google.com/notebooks/data_table.ipynb>data table notebook</a>'\n",
              "            + ' to learn more about interactive tables.';\n",
              "          element.innerHTML = '';\n",
              "          dataTable['output_type'] = 'display_data';\n",
              "          await google.colab.output.renderOutput(dataTable, element);\n",
              "          const docLink = document.createElement('div');\n",
              "          docLink.innerHTML = docLinkHtml;\n",
              "          element.appendChild(docLink);\n",
              "        }\n",
              "      </script>\n",
              "    </div>\n",
              "  </div>\n",
              "  "
            ],
            "text/plain": [
              "  Category km4week sp4week CrossTraining Wall21\n",
              "0        1     400      20             0    1.4"
            ]
          },
          "metadata": {}
        },
        {
          "output_type": "stream",
          "name": "stdout",
          "text": [
            "La predicción es: \n"
          ]
        },
        {
          "output_type": "stream",
          "name": "stderr",
          "text": [
            "/usr/local/lib/python3.7/dist-packages/sklearn/base.py:444: UserWarning:\n",
            "\n",
            "X has feature names, but RandomForestRegressor was fitted without feature names\n",
            "\n"
          ]
        },
        {
          "output_type": "execute_result",
          "data": {
            "text/plain": [
              "array([2.7982])"
            ]
          },
          "metadata": {},
          "execution_count": 183
        }
      ]
    },
    {
      "cell_type": "markdown",
      "source": [
        "###Knieghbors Regressor"
      ],
      "metadata": {
        "id": "yCzy9e1kr43w"
      }
    },
    {
      "cell_type": "code",
      "source": [
        "###KNEIGHBORS REGRESSOR\n",
        "\n",
        "\n",
        "from sklearn.neighbors import KNeighborsRegressor as KNr\n",
        "import plotly.graph_objects as go\n",
        "import numpy as np\n",
        "import pandas as pd\n",
        "from sklearn.metrics import r2_score,mean_squared_error\n",
        "from sklearn.model_selection import train_test_split as tts\n",
        "from pandas.core.common import random_state\n",
        "from sklearn import neighbors\n",
        "\n",
        "Category=np.array(datos_maraton['Category'])\t\n",
        "km4week=np.array(datos_maraton['km4week'])\n",
        "sp4week=np.array(datos_maraton['sp4week'])\n",
        "CrossTraining=np.array(datos_maraton['CrossTraining'])\n",
        "Wall21=np.array(datos_maraton['Wall21'])\n",
        "X=np.c_[Category,km4week,sp4week,CrossTraining,Wall21]\n",
        "y=np.array(datos_maraton['MarathonTime'])\n",
        "print(np.shape(X))\n",
        "print(np.shape(y))\n",
        "\n",
        "Xtrain,Xtest,ytrain,ytest=tts(X,y,test_size=0.2,random_state=42)\n",
        "modelknnr=KNr(n_neighbors=1) #KNeighborsRegressor(n_neighbors=1)\n",
        "modelknnr.fit(Xtrain,ytrain)\n",
        "\n",
        "print('Valor máximo: ')\n",
        "print(np.max(X))\n",
        "print('Valor mínimo: ')\n",
        "print(np.min(X))\n",
        "ypredtrain=modelknnr.predict(Xtrain)\n",
        "ypredtest=modelknnr.predict(Xtest)\n",
        "r2modelknntrain=r2_score(ytrain,ypredtrain)\n",
        "r2modelknntest=r2_score(ytest,ypredtest)\n",
        "print('Error de entrenamiento')\n",
        "print(r2modelknntrain)\n",
        "print('Error de validación')\n",
        "print(r2modelknntest)\n",
        "\n",
        "Xr=np.linspace(90,1000,70) #Con este realizaremos el gráfico de dispersión\n",
        "Xr=np.reshape(Xr,(70,1))\n",
        "\"\"\"\n",
        "Xtrainr = np.reshape(Xtrain,(345,))\n",
        "ytrainr = np.reshape(ytrain,(69,))\n",
        "yr =modelknnr.predict(X)\n",
        "Xrr = np.reshape(Xr,(70,))\n",
        "yrr = np.reshape(yr,(87,))\n",
        "Xtestr = np.reshape(Xtest,(90,))\n",
        "ytestr = np.reshape(ytest,(18,))\n",
        "\n",
        "#Dibujo\n",
        "print('Gráfica')\n",
        "fig1=go.Figure()\n",
        "fig1.add_trace(go.Scatter(x=Xtrainr,y = ytrainr, mode ='markers',marker_color = 'red'))\n",
        "fig1.add_trace(go.Scatter(x=Xrr,y = yrr))\n",
        "fig1.add_trace(go.Scatter(x = Xtestr, y= ytestr, mode = 'markers', marker_color = 'blue'))\n",
        "fig1.show()\n",
        "\"\"\""
      ],
      "metadata": {
        "colab": {
          "base_uri": "https://localhost:8080/",
          "height": 244
        },
        "id": "Fj2aZh5fCNoC",
        "outputId": "36ab4bba-5b2d-458e-baaf-3b0ce61ffe99"
      },
      "execution_count": null,
      "outputs": [
        {
          "output_type": "stream",
          "name": "stdout",
          "text": [
            "(87, 5)\n",
            "(87,)\n",
            "Valor máximo: \n",
            "11125.0\n",
            "Valor mínimo: \n",
            "0.0\n",
            "Error de entrenamiento\n",
            "1.0\n",
            "Error de validación\n",
            "0.638347911554861\n"
          ]
        },
        {
          "output_type": "execute_result",
          "data": {
            "application/vnd.google.colaboratory.intrinsic+json": {
              "type": "string"
            },
            "text/plain": [
              "\"\\nXtrainr = np.reshape(Xtrain,(345,))\\nytrainr = np.reshape(ytrain,(69,))\\nyr =modelknnr.predict(X)\\nXrr = np.reshape(Xr,(70,))\\nyrr = np.reshape(yr,(87,))\\nXtestr = np.reshape(Xtest,(90,))\\nytestr = np.reshape(ytest,(18,))\\n\\n#Dibujo\\nprint('Gráfica')\\nfig1=go.Figure()\\nfig1.add_trace(go.Scatter(x=Xtrainr,y = ytrainr, mode ='markers',marker_color = 'red'))\\nfig1.add_trace(go.Scatter(x=Xrr,y = yrr))\\nfig1.add_trace(go.Scatter(x = Xtestr, y= ytestr, mode = 'markers', marker_color = 'blue'))\\nfig1.show()\\n\""
            ]
          },
          "metadata": {},
          "execution_count": 178
        }
      ]
    },
    {
      "cell_type": "code",
      "source": [
        "###PROBANDO EL MODELO\n",
        "print('Podrías intentar con 1-400-20-0-1.4')\n",
        "a=input('Ingresa valor para Category:' )\n",
        "b=input('Ingresa valor para km4week:')\n",
        "c=input('Ingresa valor para sp4week:')\n",
        "d=input('Ingresa valor para CrossTraining:')\n",
        "e=input('Ingresa valor para Wall21:')\n",
        "new_dato = pd.DataFrame(np.array([[a,b,c,d,e]]),columns=['Category', 'km4week','sp4week', 'CrossTraining','Wall21'])\n",
        "display(new_dato)\n",
        "print('La predicción es:')\n",
        "modelknnr.predict(new_dato)"
      ],
      "metadata": {
        "colab": {
          "base_uri": "https://localhost:8080/",
          "height": 289
        },
        "id": "wrzAGcaC9Ay8",
        "outputId": "ba9c0580-f6e9-4c5a-fe78-67b067fb9e38"
      },
      "execution_count": null,
      "outputs": [
        {
          "name": "stdout",
          "output_type": "stream",
          "text": [
            "Podrías intentar con 1-400-20-0-1.4\n",
            "Ingresa valor para Category:1\n",
            "Ingresa valor para km4week:400\n",
            "Ingresa valor para sp4week:20\n",
            "Ingresa valor para CrossTraining:0\n",
            "Ingresa valor para Wall21:1.4\n"
          ]
        },
        {
          "output_type": "display_data",
          "data": {
            "text/html": [
              "\n",
              "  <div id=\"df-589f2f15-4385-4bfc-87c2-bcee029b615c\">\n",
              "    <div class=\"colab-df-container\">\n",
              "      <div>\n",
              "<style scoped>\n",
              "    .dataframe tbody tr th:only-of-type {\n",
              "        vertical-align: middle;\n",
              "    }\n",
              "\n",
              "    .dataframe tbody tr th {\n",
              "        vertical-align: top;\n",
              "    }\n",
              "\n",
              "    .dataframe thead th {\n",
              "        text-align: right;\n",
              "    }\n",
              "</style>\n",
              "<table border=\"1\" class=\"dataframe\">\n",
              "  <thead>\n",
              "    <tr style=\"text-align: right;\">\n",
              "      <th></th>\n",
              "      <th>Category</th>\n",
              "      <th>km4week</th>\n",
              "      <th>sp4week</th>\n",
              "      <th>CrossTraining</th>\n",
              "      <th>Wall21</th>\n",
              "    </tr>\n",
              "  </thead>\n",
              "  <tbody>\n",
              "    <tr>\n",
              "      <th>0</th>\n",
              "      <td>1</td>\n",
              "      <td>400</td>\n",
              "      <td>20</td>\n",
              "      <td>0</td>\n",
              "      <td>1.4</td>\n",
              "    </tr>\n",
              "  </tbody>\n",
              "</table>\n",
              "</div>\n",
              "      <button class=\"colab-df-convert\" onclick=\"convertToInteractive('df-589f2f15-4385-4bfc-87c2-bcee029b615c')\"\n",
              "              title=\"Convert this dataframe to an interactive table.\"\n",
              "              style=\"display:none;\">\n",
              "        \n",
              "  <svg xmlns=\"http://www.w3.org/2000/svg\" height=\"24px\"viewBox=\"0 0 24 24\"\n",
              "       width=\"24px\">\n",
              "    <path d=\"M0 0h24v24H0V0z\" fill=\"none\"/>\n",
              "    <path d=\"M18.56 5.44l.94 2.06.94-2.06 2.06-.94-2.06-.94-.94-2.06-.94 2.06-2.06.94zm-11 1L8.5 8.5l.94-2.06 2.06-.94-2.06-.94L8.5 2.5l-.94 2.06-2.06.94zm10 10l.94 2.06.94-2.06 2.06-.94-2.06-.94-.94-2.06-.94 2.06-2.06.94z\"/><path d=\"M17.41 7.96l-1.37-1.37c-.4-.4-.92-.59-1.43-.59-.52 0-1.04.2-1.43.59L10.3 9.45l-7.72 7.72c-.78.78-.78 2.05 0 2.83L4 21.41c.39.39.9.59 1.41.59.51 0 1.02-.2 1.41-.59l7.78-7.78 2.81-2.81c.8-.78.8-2.07 0-2.86zM5.41 20L4 18.59l7.72-7.72 1.47 1.35L5.41 20z\"/>\n",
              "  </svg>\n",
              "      </button>\n",
              "      \n",
              "  <style>\n",
              "    .colab-df-container {\n",
              "      display:flex;\n",
              "      flex-wrap:wrap;\n",
              "      gap: 12px;\n",
              "    }\n",
              "\n",
              "    .colab-df-convert {\n",
              "      background-color: #E8F0FE;\n",
              "      border: none;\n",
              "      border-radius: 50%;\n",
              "      cursor: pointer;\n",
              "      display: none;\n",
              "      fill: #1967D2;\n",
              "      height: 32px;\n",
              "      padding: 0 0 0 0;\n",
              "      width: 32px;\n",
              "    }\n",
              "\n",
              "    .colab-df-convert:hover {\n",
              "      background-color: #E2EBFA;\n",
              "      box-shadow: 0px 1px 2px rgba(60, 64, 67, 0.3), 0px 1px 3px 1px rgba(60, 64, 67, 0.15);\n",
              "      fill: #174EA6;\n",
              "    }\n",
              "\n",
              "    [theme=dark] .colab-df-convert {\n",
              "      background-color: #3B4455;\n",
              "      fill: #D2E3FC;\n",
              "    }\n",
              "\n",
              "    [theme=dark] .colab-df-convert:hover {\n",
              "      background-color: #434B5C;\n",
              "      box-shadow: 0px 1px 3px 1px rgba(0, 0, 0, 0.15);\n",
              "      filter: drop-shadow(0px 1px 2px rgba(0, 0, 0, 0.3));\n",
              "      fill: #FFFFFF;\n",
              "    }\n",
              "  </style>\n",
              "\n",
              "      <script>\n",
              "        const buttonEl =\n",
              "          document.querySelector('#df-589f2f15-4385-4bfc-87c2-bcee029b615c button.colab-df-convert');\n",
              "        buttonEl.style.display =\n",
              "          google.colab.kernel.accessAllowed ? 'block' : 'none';\n",
              "\n",
              "        async function convertToInteractive(key) {\n",
              "          const element = document.querySelector('#df-589f2f15-4385-4bfc-87c2-bcee029b615c');\n",
              "          const dataTable =\n",
              "            await google.colab.kernel.invokeFunction('convertToInteractive',\n",
              "                                                     [key], {});\n",
              "          if (!dataTable) return;\n",
              "\n",
              "          const docLinkHtml = 'Like what you see? Visit the ' +\n",
              "            '<a target=\"_blank\" href=https://colab.research.google.com/notebooks/data_table.ipynb>data table notebook</a>'\n",
              "            + ' to learn more about interactive tables.';\n",
              "          element.innerHTML = '';\n",
              "          dataTable['output_type'] = 'display_data';\n",
              "          await google.colab.output.renderOutput(dataTable, element);\n",
              "          const docLink = document.createElement('div');\n",
              "          docLink.innerHTML = docLinkHtml;\n",
              "          element.appendChild(docLink);\n",
              "        }\n",
              "      </script>\n",
              "    </div>\n",
              "  </div>\n",
              "  "
            ],
            "text/plain": [
              "  Category km4week sp4week CrossTraining Wall21\n",
              "0        1     400      20             0    1.4"
            ]
          },
          "metadata": {}
        },
        {
          "output_type": "stream",
          "name": "stdout",
          "text": [
            "La predicción es:\n"
          ]
        },
        {
          "output_type": "stream",
          "name": "stderr",
          "text": [
            "/usr/local/lib/python3.7/dist-packages/sklearn/base.py:444: UserWarning:\n",
            "\n",
            "X has feature names, but KNeighborsRegressor was fitted without feature names\n",
            "\n"
          ]
        },
        {
          "output_type": "execute_result",
          "data": {
            "text/plain": [
              "array([2.68])"
            ]
          },
          "metadata": {},
          "execution_count": 179
        }
      ]
    },
    {
      "cell_type": "markdown",
      "source": [
        "###Ridge vs Lasso"
      ],
      "metadata": {
        "id": "s1TflzkUr-ET"
      }
    },
    {
      "cell_type": "code",
      "source": [
        "###RIDGE VS LASSO\n",
        "\n",
        "\n",
        "\n",
        "from sklearn.linear_model import Ridge\n",
        "from sklearn.linear_model import Lasso\n",
        "from sklearn.linear_model import LinearRegression\n",
        "Category=np.array(datos_maraton['Category'])\t\n",
        "km4week=np.array(datos_maraton['km4week'])\n",
        "sp4week=np.array(datos_maraton['sp4week'])\n",
        "CrossTraining=np.array(datos_maraton['CrossTraining'])\n",
        "Wall21=np.array(datos_maraton['Wall21'])\n",
        "Xla=np.c_[Category,km4week,sp4week,CrossTraining,Wall21]\n",
        "\n",
        "yla=np.array(datos_maraton['MarathonTime'])\n",
        "print(np.shape(X))\n",
        "print(np.shape(y))\n",
        "yla=np.reshape(yla,(87,1))\n",
        "\n",
        "Xlatrain, Xlatest, ylatrain, ylatest=tts(Xla, yla,test_size=0.20,random_state=42)\n",
        "modelRidge=Ridge(alpha=1)\n",
        "modelLasso=Lasso(alpha=1)\n",
        "modelLinear=LinearRegression()\n",
        "r2listt=[]\n",
        "r2listpr=[]\n",
        "for i in [modelRidge,modelLasso]:\n",
        "  i.fit(Xlatrain, ylatrain)\n",
        "  ytrainp=i.predict(Xlatrain)\n",
        "  ytestp=i.predict(Xlatest)\n",
        "  r2t=r2_score(ylatrain,ytrainp) #Score Ridge\n",
        "  r2listt.append(r2t)\n",
        "  r2test=r2_score(ytest,ytestp) #Score Lasso\n",
        "  r2listpr.append(r2test)\n",
        "print('Score Ridge: ')\n",
        "print(r2listt)\n",
        "print('Score Lasso: ')\n",
        "print(r2listpr)"
      ],
      "metadata": {
        "id": "Eq6AwqqhFAx_",
        "colab": {
          "base_uri": "https://localhost:8080/"
        },
        "outputId": "b5315fa7-c4a7-419a-b5e4-4bcb79b844e5"
      },
      "execution_count": null,
      "outputs": [
        {
          "output_type": "stream",
          "name": "stdout",
          "text": [
            "(87, 5)\n",
            "(87,)\n",
            "Score Ridge: \n",
            "[0.3959211046739298, 0.3355240735996491]\n",
            "Score Lasso: \n",
            "[0.3935041445146036, 0.3620268191492544]\n"
          ]
        }
      ]
    },
    {
      "cell_type": "code",
      "source": [
        "###PROBANDO EL MODELO\n",
        "print('Podrías intentar con 1-400-20-0-1.4')\n",
        "aa=input('Ingresa valor para Category:' )\n",
        "bb=input('Ingresa valor para km4week:')\n",
        "cc=input('Ingresa valor para sp4week:')\n",
        "dd=input('Ingresa valor para CrossTraining:')\n",
        "ee=input('Ingresa valor para Wall21:')\n",
        "new_date = pd.DataFrame(np.array([[aa,bb,cc,dd,ee]]),columns=['Category', 'km4week','sp4week', 'CrossTraining','Wall21'])\n",
        "display(new_date)\n",
        "print('Las predicciones son:')\n",
        "print(modelLasso.predict(new_date))\n",
        "print(modelRidge.predict(new_date))"
      ],
      "metadata": {
        "colab": {
          "base_uri": "https://localhost:8080/",
          "height": 376
        },
        "id": "aoS2TTEg9Bgp",
        "outputId": "0fb74a0b-fc03-4b35-bd93-64bc6207afde"
      },
      "execution_count": null,
      "outputs": [
        {
          "name": "stdout",
          "output_type": "stream",
          "text": [
            "Podrías intentar con 1-400-20-0-1.4\n",
            "Ingresa valor para Category:1\n",
            "Ingresa valor para km4week:400\n",
            "Ingresa valor para sp4week:20\n",
            "Ingresa valor para CrossTraining:0\n",
            "Ingresa valor para Wall21:1.4\n"
          ]
        },
        {
          "output_type": "display_data",
          "data": {
            "text/html": [
              "\n",
              "  <div id=\"df-541d63b2-57da-4f08-8454-322a093712d7\">\n",
              "    <div class=\"colab-df-container\">\n",
              "      <div>\n",
              "<style scoped>\n",
              "    .dataframe tbody tr th:only-of-type {\n",
              "        vertical-align: middle;\n",
              "    }\n",
              "\n",
              "    .dataframe tbody tr th {\n",
              "        vertical-align: top;\n",
              "    }\n",
              "\n",
              "    .dataframe thead th {\n",
              "        text-align: right;\n",
              "    }\n",
              "</style>\n",
              "<table border=\"1\" class=\"dataframe\">\n",
              "  <thead>\n",
              "    <tr style=\"text-align: right;\">\n",
              "      <th></th>\n",
              "      <th>Category</th>\n",
              "      <th>km4week</th>\n",
              "      <th>sp4week</th>\n",
              "      <th>CrossTraining</th>\n",
              "      <th>Wall21</th>\n",
              "    </tr>\n",
              "  </thead>\n",
              "  <tbody>\n",
              "    <tr>\n",
              "      <th>0</th>\n",
              "      <td>1</td>\n",
              "      <td>400</td>\n",
              "      <td>20</td>\n",
              "      <td>0</td>\n",
              "      <td>1.4</td>\n",
              "    </tr>\n",
              "  </tbody>\n",
              "</table>\n",
              "</div>\n",
              "      <button class=\"colab-df-convert\" onclick=\"convertToInteractive('df-541d63b2-57da-4f08-8454-322a093712d7')\"\n",
              "              title=\"Convert this dataframe to an interactive table.\"\n",
              "              style=\"display:none;\">\n",
              "        \n",
              "  <svg xmlns=\"http://www.w3.org/2000/svg\" height=\"24px\"viewBox=\"0 0 24 24\"\n",
              "       width=\"24px\">\n",
              "    <path d=\"M0 0h24v24H0V0z\" fill=\"none\"/>\n",
              "    <path d=\"M18.56 5.44l.94 2.06.94-2.06 2.06-.94-2.06-.94-.94-2.06-.94 2.06-2.06.94zm-11 1L8.5 8.5l.94-2.06 2.06-.94-2.06-.94L8.5 2.5l-.94 2.06-2.06.94zm10 10l.94 2.06.94-2.06 2.06-.94-2.06-.94-.94-2.06-.94 2.06-2.06.94z\"/><path d=\"M17.41 7.96l-1.37-1.37c-.4-.4-.92-.59-1.43-.59-.52 0-1.04.2-1.43.59L10.3 9.45l-7.72 7.72c-.78.78-.78 2.05 0 2.83L4 21.41c.39.39.9.59 1.41.59.51 0 1.02-.2 1.41-.59l7.78-7.78 2.81-2.81c.8-.78.8-2.07 0-2.86zM5.41 20L4 18.59l7.72-7.72 1.47 1.35L5.41 20z\"/>\n",
              "  </svg>\n",
              "      </button>\n",
              "      \n",
              "  <style>\n",
              "    .colab-df-container {\n",
              "      display:flex;\n",
              "      flex-wrap:wrap;\n",
              "      gap: 12px;\n",
              "    }\n",
              "\n",
              "    .colab-df-convert {\n",
              "      background-color: #E8F0FE;\n",
              "      border: none;\n",
              "      border-radius: 50%;\n",
              "      cursor: pointer;\n",
              "      display: none;\n",
              "      fill: #1967D2;\n",
              "      height: 32px;\n",
              "      padding: 0 0 0 0;\n",
              "      width: 32px;\n",
              "    }\n",
              "\n",
              "    .colab-df-convert:hover {\n",
              "      background-color: #E2EBFA;\n",
              "      box-shadow: 0px 1px 2px rgba(60, 64, 67, 0.3), 0px 1px 3px 1px rgba(60, 64, 67, 0.15);\n",
              "      fill: #174EA6;\n",
              "    }\n",
              "\n",
              "    [theme=dark] .colab-df-convert {\n",
              "      background-color: #3B4455;\n",
              "      fill: #D2E3FC;\n",
              "    }\n",
              "\n",
              "    [theme=dark] .colab-df-convert:hover {\n",
              "      background-color: #434B5C;\n",
              "      box-shadow: 0px 1px 3px 1px rgba(0, 0, 0, 0.15);\n",
              "      filter: drop-shadow(0px 1px 2px rgba(0, 0, 0, 0.3));\n",
              "      fill: #FFFFFF;\n",
              "    }\n",
              "  </style>\n",
              "\n",
              "      <script>\n",
              "        const buttonEl =\n",
              "          document.querySelector('#df-541d63b2-57da-4f08-8454-322a093712d7 button.colab-df-convert');\n",
              "        buttonEl.style.display =\n",
              "          google.colab.kernel.accessAllowed ? 'block' : 'none';\n",
              "\n",
              "        async function convertToInteractive(key) {\n",
              "          const element = document.querySelector('#df-541d63b2-57da-4f08-8454-322a093712d7');\n",
              "          const dataTable =\n",
              "            await google.colab.kernel.invokeFunction('convertToInteractive',\n",
              "                                                     [key], {});\n",
              "          if (!dataTable) return;\n",
              "\n",
              "          const docLinkHtml = 'Like what you see? Visit the ' +\n",
              "            '<a target=\"_blank\" href=https://colab.research.google.com/notebooks/data_table.ipynb>data table notebook</a>'\n",
              "            + ' to learn more about interactive tables.';\n",
              "          element.innerHTML = '';\n",
              "          dataTable['output_type'] = 'display_data';\n",
              "          await google.colab.output.renderOutput(dataTable, element);\n",
              "          const docLink = document.createElement('div');\n",
              "          docLink.innerHTML = docLinkHtml;\n",
              "          element.appendChild(docLink);\n",
              "        }\n",
              "      </script>\n",
              "    </div>\n",
              "  </div>\n",
              "  "
            ],
            "text/plain": [
              "  Category km4week sp4week CrossTraining Wall21\n",
              "0        1     400      20             0    1.4"
            ]
          },
          "metadata": {}
        },
        {
          "output_type": "stream",
          "name": "stdout",
          "text": [
            "Las predicciones son:\n",
            "[1.28974008]\n",
            "[[1.03964247]]\n"
          ]
        },
        {
          "output_type": "stream",
          "name": "stderr",
          "text": [
            "/usr/local/lib/python3.7/dist-packages/sklearn/base.py:444: UserWarning:\n",
            "\n",
            "X has feature names, but Lasso was fitted without feature names\n",
            "\n",
            "/usr/local/lib/python3.7/dist-packages/sklearn/base.py:444: UserWarning:\n",
            "\n",
            "X has feature names, but Ridge was fitted without feature names\n",
            "\n"
          ]
        }
      ]
    }
  ]
}